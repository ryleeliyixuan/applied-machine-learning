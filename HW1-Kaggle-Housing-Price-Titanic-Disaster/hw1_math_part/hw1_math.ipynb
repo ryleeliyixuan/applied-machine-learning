{
 "cells": [
  {
   "cell_type": "markdown",
   "id": "5749f68d",
   "metadata": {},
   "source": [
    "# Question1: Plot the Graph and Make Predictions"
   ]
  },
  {
   "cell_type": "code",
   "execution_count": 3,
   "id": "ee20c423",
   "metadata": {},
   "outputs": [],
   "source": [
    "# import packages\n",
    "import matplotlib.pyplot as plt\n",
    "import numpy as np\n",
    "from sklearn import linear_model\n",
    "from sklearn.linear_model import LinearRegression\n",
    "from sklearn.linear_model import SGDClassifier\n",
    "import statsmodels.api as sm\n",
    "import statsmodels.formula.api as smf"
   ]
  },
  {
   "cell_type": "code",
   "execution_count": 4,
   "id": "34ff611f",
   "metadata": {},
   "outputs": [
    {
     "data": {
      "image/png": "[encoded data removed]",
      "text/plain": [
       "<Figure size 720x504 with 1 Axes>"
      ]
     },
     "metadata": {
      "needs_background": "light"
     },
     "output_type": "display_data"
    }
   ],
   "source": [
    "# (−1,−1), (−1, 0), (0,−1), (0, 0), (0, 1), (1, 0), (1, 1)\n",
    "X = [-1, -1, 0, 0, 0, 1, 1]\n",
    "y = [-1, 0, -1, 0, 1, 0, 1]\n",
    "\n",
    "# plot data points\n",
    "fig, ax = plt.subplots(figsize =(10, 7))\n",
    "ax.scatter(X, y)\n",
    "plt.savefig(\"seven_data_point\")"
   ]
  },
  {
   "cell_type": "markdown",
   "id": "f43705e1",
   "metadata": {},
   "source": [
    "I think the result of fitting a linear model to this dataset would be y = 0.5x (slope: 0.5; intercept: 0). From my observation, I think this is the line yielding a small MSE as the distance to the line is minimized overall."
   ]
  },
  {
   "cell_type": "markdown",
   "id": "202ac23f",
   "metadata": {},
   "source": [
    "# Question2: LMS"
   ]
  },
  {
   "cell_type": "markdown",
   "id": "2b7f1ece",
   "metadata": {},
   "source": [
    "I implemented the Least Mean Squares (LMS) with gradient descent algorithm. Details can be found here: https://github.com/kuleshov/cornell-cs5785-2021-applied-ml/blob/main/notebooks/lecture3-linear-regression.ipynb "
   ]
  },
  {
   "cell_type": "code",
   "execution_count": 5,
   "id": "e771447a",
   "metadata": {},
   "outputs": [],
   "source": [
    "#The linear model we are trying to fit\n",
    "def f(X, theta):\n",
    "    \"\"\"The linear model we are trying to fit.\n",
    "    \n",
    "    Parameters:\n",
    "    theta (np.array): d-dimensional vector of parameters\n",
    "    X (np.array): (n,d)-dimensional data matrix\n",
    "    \n",
    "    Returns:\n",
    "    y_pred (np.array): n-dimensional vector of predicted targets\n",
    "    \"\"\"\n",
    "    return np.dot(X,theta)\n",
    "\n",
    "#Define mean squared error\n",
    "def mean_squared_error(theta, X, y):\n",
    "    \"\"\"The cost function, J, describing the goodness of fit.\n",
    "    \n",
    "    Parameters:\n",
    "    theta (np.array): d-dimensional vector of parameters\n",
    "    X (np.array): (n,d)-dimensional design matrix\n",
    "    y (np.array): n-dimensional vector of targets\n",
    "    \"\"\"\n",
    "    return 0.5*np.mean((y-f(X, theta))**2)\n",
    "\n",
    "#Define the gradient of cost function\n",
    "def mse_gradient(theta, X, y):\n",
    "    \"\"\"The gradient of the cost function.\n",
    "    \n",
    "    Parameters:\n",
    "    theta (np.array): d-dimensional vector of parameters\n",
    "    X (np.array): (n,d)-dimensional design matrix\n",
    "    y (np.array): n-dimensional vector of targets\n",
    "    \n",
    "    Returns:\n",
    "    grad (np.array): d-dimensional gradient of the MSE\n",
    "    \"\"\"\n",
    "    return np.mean((f(X, theta) - y) * X.T, axis=1)"
   ]
  },
  {
   "cell_type": "code",
   "execution_count": 6,
   "id": "820700e9",
   "metadata": {},
   "outputs": [
    {
     "data": {
      "text/plain": [
       "((7, 1), (7,))"
      ]
     },
     "execution_count": 6,
     "metadata": {},
     "output_type": "execute_result"
    }
   ],
   "source": [
    "# input\n",
    "X = np.array([[-1], [-1],[0], [0], [0], [1], [1]])\n",
    "y = np.array([-1, 0, -1, 0, 1, 0, 1])\n",
    "X.shape, y.shape"
   ]
  },
  {
   "cell_type": "code",
   "execution_count": 7,
   "id": "657effce",
   "metadata": {},
   "outputs": [
    {
     "name": "stdout",
     "output_type": "stream",
     "text": [
      "[0.50000027]\n"
     ]
    }
   ],
   "source": [
    "# using Widrow-Hoff learning rule to train our linear model with gradient descent algorithm\n",
    "threshold = 1e-7\n",
    "step_size = 4e-1\n",
    "theta, theta_prev = np.array([10]), np.array([1])\n",
    "opt_pts = [theta]\n",
    "opt_grads = []\n",
    "iter = 0\n",
    "\n",
    "while np.linalg.norm(theta - theta_prev) > threshold:\n",
    "    theta_prev = theta\n",
    "    gradient = mse_gradient(theta, X, y)\n",
    "    # θk+1=θk−α∇θJ(θ)k\n",
    "    theta = theta_prev - step_size * gradient\n",
    "    opt_pts += [theta]\n",
    "    opt_grads += [gradient]\n",
    "    iter += 1\n",
    "    \n",
    "print(opt_pts[-1])"
   ]
  },
  {
   "cell_type": "code",
   "execution_count": 8,
   "id": "d2698a5d",
   "metadata": {},
   "outputs": [
    {
     "name": "stdout",
     "output_type": "stream",
     "text": [
      "Slope: [0.50000027]\n"
     ]
    }
   ],
   "source": [
    "print(\"Slope: {}\".format(opt_pts[-1]))"
   ]
  },
  {
   "cell_type": "code",
   "execution_count": 9,
   "id": "7a805682",
   "metadata": {},
   "outputs": [
    {
     "name": "stdout",
     "output_type": "stream",
     "text": [
      "Intecept: 0.0\n"
     ]
    },
    {
     "data": {
      "image/png": "[encoded data removed]",
      "text/plain": [
       "<Figure size 360x360 with 1 Axes>"
      ]
     },
     "metadata": {
      "needs_background": "light"
     },
     "output_type": "display_data"
    }
   ],
   "source": [
    "x_line = np.stack([np.linspace(-1, 1, 3)])\n",
    "y_line = opt_pts[-1].dot(x_line)\n",
    "\n",
    "# plot data points\n",
    "fig, ax = plt.subplots(figsize =(5, 5))\n",
    "ax.scatter(X, y,  color='black')\n",
    "ax.plot(x_line[0], y_line)\n",
    "plt.xlabel('X')\n",
    "plt.ylabel('y')\n",
    "plt.savefig(\"seven_data_point_mse\")\n",
    "\n",
    "print(\"Intecept: {}\".format(y_line[1]))"
   ]
  },
  {
   "cell_type": "markdown",
   "id": "ee6b7285",
   "metadata": {},
   "source": [
    "The slope obtained from MSE method is 0.50000027, and intecept is 0. It's close to my prediction in part a)."
   ]
  }
 ],
 "metadata": {
  "kernelspec": {
   "display_name": "Python 3",
   "language": "python",
   "name": "python3"
  },
  "language_info": {
   "codemirror_mode": {
    "name": "ipython",
    "version": 3
   },
   "file_extension": ".py",
   "mimetype": "text/x-python",
   "name": "python",
   "nbconvert_exporter": "python",
   "pygments_lexer": "ipython3",
   "version": "3.8.8"
  }
 },
 "nbformat": 4,
 "nbformat_minor": 5
}
