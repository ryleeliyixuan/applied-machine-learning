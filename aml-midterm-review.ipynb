{
 "cells": [
  {
   "cell_type": "markdown",
   "id": "7808aaf8",
   "metadata": {},
   "source": [
    "# Lecture 1: Introduction to Machine Learning"
   ]
  },
  {
   "cell_type": "markdown",
   "id": "a889e574",
   "metadata": {
    "slideshow": {
     "slide_type": "slide"
    }
   },
   "source": [
    "# Supervised Learning\n",
    "\n",
    "The most common approach to machine learning is supervised learning.\n",
    "\n",
    "<center><img width=70% src=\"img/tesla_data.png\"/></center>\n",
    "\n",
    "1. First, we collect a dataset of labeled training examples.\n",
    "2. We train a model to output accurate predictions on this dataset.\n",
    "3. When the model sees new, similar data, it will also be accurate.\n",
    "\n",
    "We can use this dataset of examples to fit a supervised learning model.\n",
    "\n",
    "* The model maps input $x$ (the education level) to output a $y$ (the house price).\n",
    "* It learns the mapping from our dataset of examples $(x, y)$.\n",
    "\n",
    "Why?\n",
    "* Making predictions on new data.\n",
    "* Understanding the mechanisms through which input variables affect targets."
   ]
  },
  {
   "cell_type": "markdown",
   "id": "746820cc",
   "metadata": {
    "slideshow": {
     "slide_type": "slide"
    }
   },
   "source": [
    "# Unsupervised Learning\n",
    "\n",
    "Here, we have a dataset *without* labels. Our goal is to learn something interesting about the structure of the data:\n",
    "* Clusters hidden in the dataset.\n",
    "* Outliers: particularly unusual and/or interesting datapoints.\n",
    "* Useful signal hidden in noise, e.g. human speech over a noisy phone.\n",
    "\n",
    "We can use this dataset of examples to fit an unsupervised learning model.\n",
    "* **The model defines a probability distribution over the inputs.**\n",
    "* The probability distribution identifies multiple components (multiple peaks).\n",
    "* The components indicate structure in the data.\n",
    "\n",
    "Unsupervised learning also has numerous applications:\n",
    "* Recommendation systems: suggesting movies on Netflix.\n",
    "* Anomaly detection: identifying factory components that are likely to break soon.\n",
    "* Signal denoising: extracting human speech from a noisy recording."
   ]
  },
  {
   "cell_type": "markdown",
   "id": "59060f7d",
   "metadata": {
    "slideshow": {
     "slide_type": "slide"
    }
   },
   "source": [
    "# Reinforcement Learning\n",
    "\n",
    "In reinforcement learning, an agent is interacting with the world over time. We teach it good behavior by providing it with rewards.\n",
    "\n",
    "<center><img src=\"img/rl.png\"/></center>\n",
    "\n",
    "<sub><sup>Image by Lily Weng</sup></sub>\n",
    "\n",
    "Applications of reinforcement learning include:\n",
    "* Creating agents that play games such as Chess or Go.\n",
    "* Controling the cooling systems of datacenters to use energy more efficiently.\n",
    "* Designing new drug compounds."
   ]
  },
  {
   "cell_type": "markdown",
   "id": "9b1e114c",
   "metadata": {},
   "source": [
    "# Lecture 2: Supervised Machine Learning"
   ]
  },
  {
   "cell_type": "markdown",
   "id": "146d98f1",
   "metadata": {
    "slideshow": {
     "slide_type": "slide"
    }
   },
   "source": [
    "# Summary: Components of a Supervised Machine Learning Problem\n",
    "\n",
    "To apply supervised learning, we define a dataset and a learning algorithm.\n",
    "\n",
    "$$ \\underbrace{\\text{Dataset}}_\\text{Features, Attributes, Targets} + \\underbrace{\\text{Learning Algorithm}}_\\text{Model Class + Objective + Optimizer } \\to \\text{Predictive Model} $$\n",
    "\n",
    "The output is a predictive model that maps inputs to targets. For instance, it can predict targets on new inputs.\n",
    "\n",
    "We can also define the high-level structure of a supervised learning algorithm as consisting of three components:\n",
    "* A __model class__: the set of possible models we consider.\n",
    "* An __objective__ function, which defines how good a model is.\n",
    "* An __optimizer__, which finds the best predictive model in the model class according to the objective function"
   ]
  },
  {
   "cell_type": "markdown",
   "id": "5300b173",
   "metadata": {},
   "source": [
    "# Supervised Machine Learning: BMI and Diabate Risk Case\n",
    "## Model Class\n",
    "Formally, the model class is a set \n",
    "$$\\mathcal{M} \\subseteq \\{f \\mid f : \\mathcal{X} \\to \\mathcal{Y} \\}$$\n",
    "of possible models that map input features to targets.\n",
    "## Optimizer\n",
    "Given our assumption that $x,y$ follow the a linear relationship, the goal of a supervised learning algorithm is to find a good set of parameters consistent with the data.\n",
    "## Predictive Model\n",
    "The supervised learning algorithm gave us a pair of parameters $\\theta_1^*, \\theta_0^*$. These define the *predictive model* $f^*$, defined as\n",
    "$$ f(x) = \\theta_1^* \\cdot x + \\theta_0^*, $$\n",
    "where again $x$ is the BMI, and $y$ is the diabetes risk score."
   ]
  },
  {
   "cell_type": "markdown",
   "id": "b1767b74",
   "metadata": {
    "slideshow": {
     "slide_type": "slide"
    }
   },
   "source": [
    "# Training Dataset\n",
    "## Inputs\n",
    "\n",
    "More precisely, an input $x^{(i)} \\in \\mathcal{X}$ is a $d$-dimensional vector of the form\n",
    "$$ x^{(i)} = \\begin{bmatrix}\n",
    "x^{(i)}_1 \\\\\n",
    "x^{(i)}_2 \\\\\n",
    "\\vdots \\\\\n",
    "x^{(i)}_d\n",
    "\\end{bmatrix}$$\n",
    "For example, it could be the values of the $d$ features for patient $i$.\n",
    "\n",
    "The set $\\mathcal{X}$ is called the feature space. Often, we have, $\\mathcal{X} = \\mathbb{R}^d$.\n",
    "\n",
    "## Attributes\n",
    "\n",
    "We refer to the numerical variables describing the patient as *attributes*. Examples of attributes include:\n",
    "* The age of a patient.\n",
    "* The patient's gender.\n",
    "* The patient's BMI.\n",
    "\n",
    "## Features\n",
    "Often, an input object has many attributes, and we want to **use these attributes to define more complex descriptions of the input.**\n",
    "\n",
    "* Is the patient old and a man? (Useful if old men are at risk).\n",
    "* Is the BMI above the obesity threshold?\n",
    "\n",
    "We call these custom attributes *features*.\n",
    "\n",
    "Oldman feature:\n",
    "diabetes_X['old_man'] = (diabetes_X['sex'] > 0) & (diabetes_X['age'] > 0.05)\n",
    "\n",
    "We may denote features via a function $\\phi : \\mathcal{X} \\to \\mathbb{R}^p$ that takes an input $x^{(i)} \\in \\mathcal{X}$ and outputs a $p$-dimensional vector\n",
    "$$ \\phi(x^{(i)}) = \\left[\\begin{array}{@{}c@{}}\n",
    "\\phi(x^{(i)})_1 \\\\\n",
    "\\phi(x^{(i)})_2 \\\\\n",
    "\\vdots \\\\\n",
    "\\phi(x^{(i)})_p\n",
    "\\end{array} \\right]$$\n",
    "We say that $\\phi(x^{(i)})$ is a *featurized* input, and each $\\phi(x^{(i)})_j$ is a *feature*.\n",
    "\n",
    "### Features: Discrete vs. Continuous \n",
    "\n",
    "Features can be either discrete or continuous. We will see that some ML algorthims handle these differently.\n",
    "\n",
    "## Targets\n",
    "\n",
    "For each patient, we are interested in predicting a quantity of interest, the *target*. In our example, this is the patient's diabetes risk.\n",
    "\n",
    "Formally, when $(x^{(i)}, y^{(i)})$ form a *training example*, each $y^{(i)} \\in \\mathcal{Y}$ is a target. We call $\\mathcal{Y}$ the target space.\n",
    "\n",
    "### Targets: Regression vs. Classification\n",
    "\n",
    "We distinguish between two broad types of supervised learning problems that differ in the form of the target variable.\n",
    "\n",
    "1. __Regression__: The target variable $y$ is continuous. We are fitting a curve in a high-dimensional feature space that approximates the shape of the dataset.\n",
    "2. __Classification__: The target variable $y$ is discrete. Each discrete value corresponds to a *class* and we are looking for a hyperplane that separates the different classes."
   ]
  },
  {
   "cell_type": "markdown",
   "id": "26ae12eb",
   "metadata": {
    "slideshow": {
     "slide_type": "slide"
    }
   },
   "source": [
    "# Model Class: Notation\n",
    "\n",
    "Formally, the model class is a set \n",
    "$$\\mathcal{M} \\subseteq \\{f \\mid f : \\mathcal{X} \\to \\mathcal{Y} \\}$$\n",
    "of possible models that map input features to targets."
   ]
  },
  {
   "cell_type": "markdown",
   "id": "1c9d6ff5",
   "metadata": {
    "slideshow": {
     "slide_type": "fragment"
    }
   },
   "source": [
    "When the models $f_\\theta$ are paremetrized by *parameters* $\\theta \\in \\Theta$ living in some set $\\Theta$. Thus we can also write\n",
    "$$\\mathcal{M} = \\{f_\\theta \\mid \\theta \\in \\Theta \\}.$$"
   ]
  },
  {
   "cell_type": "markdown",
   "id": "0bc91176",
   "metadata": {
    "slideshow": {
     "slide_type": "slide"
    }
   },
   "source": [
    "# Model Class: Example\n",
    "\n",
    "One simple approach is to assume that $x$ and $y$ are related by a linear model of the form\n",
    "\\begin{align*}\n",
    "y & = \\theta_0 + \\theta_1 \\cdot x_1 + \\theta_2 \\cdot x_2 + ... + \\theta_d \\cdot x_d\n",
    "\\end{align*}\n",
    "where $x$ is a featurized input and $y$ is the target.\n",
    "\n",
    "The $\\theta_j$ are the *parameters* of the model, $\\Theta = \\mathbb{R}^{d+1}$, and $\\mathcal{M} = \\{ \\theta_0 + \\theta_1 \\cdot x_1 + \\theta_2 \\cdot x_2 + ... + \\theta_d \\cdot x_d \\mid \\theta \\in \\mathbb{R}^{d+1} \\}$\n",
    "<!-- By using the notation $x_0 = 1$, we can represent the model in a vectorized form\n",
    "$$ y = \\sum_{j=0}^d \\beta_j \\cdot x_j = \\vec \\beta \\cdot \\vec x. $$\n",
    "where $\\vec x$ is a vector of features. -->"
   ]
  },
  {
   "cell_type": "markdown",
   "id": "7a706dbe",
   "metadata": {
    "slideshow": {
     "slide_type": "slide"
    }
   },
   "source": [
    "# Objectives: Notation\n",
    "\n",
    "<!-- Given a training set, how do we pick the parameters $\\theta$ for the model? A natural approach is to select $\\theta$ such that $f_\\theta(x^{(i)})$ is close to $y^{(i)}$ on a training dataset $\\mathcal{D} = \\{(x^{(i)}, y^{(i)}) \\mid i = 1,2,...,n\\}$. -->\n",
    "\n",
    "To capture this intuition, we define an *objective function* (also called a *loss function*)\n",
    "$$J(f) : \\mathcal{M} \\to [0, \\infty), $$\n",
    "which describes the extent to which $f$ \"fits\" the data $\\mathcal{D} = \\{(x^{(i)}, y^{(i)}) \\mid i = 1,2,...,n\\}$."
   ]
  },
  {
   "cell_type": "markdown",
   "id": "94a8a52e",
   "metadata": {
    "slideshow": {
     "slide_type": "fragment"
    }
   },
   "source": [
    "When $f$ is parametrized by $\\theta \\in \\Theta$, the objective becomes a function $J(\\theta) : \\Theta \\to [0, \\infty).$"
   ]
  },
  {
   "cell_type": "markdown",
   "id": "780f3115",
   "metadata": {
    "slideshow": {
     "slide_type": "slide"
    }
   },
   "source": [
    "# Objective: Examples\n",
    "\n",
    "What would are some possible objective functions? We will see many, but here are a few examples:\n",
    "* Mean squared error: $$J(\\theta) = \\frac{1}{2n} \\sum_{i=1}^n \\left( f_\\theta(x^{(i)}) - y^{(i)} \\right)^2$$\n",
    "* Absolute (L1) error: $$J(\\theta) = \\frac{1}{n} \\sum_{i=1}^n \\left| f_\\theta(x^{(i)}) - y^{(i)} \\right|$$\n",
    "\n",
    "These are defined for a dataset $\\mathcal{D} = \\{(x^{(i)}, y^{(i)}) \\mid i = 1,2,...,n\\}$."
   ]
  },
  {
   "cell_type": "markdown",
   "id": "a8038c73",
   "metadata": {
    "slideshow": {
     "slide_type": "slide"
    }
   },
   "source": [
    "# Optimizer: Notation\n",
    "\n",
    "At a high-level an optimizer takes an objective $J$ and a model class $\\mathcal{M}$ and finds a model $f \\in \\mathcal{M}$ with the smallest value of the objective $J$.\n",
    "\n",
    "\\begin{align*}\n",
    "\\min_{f \\in \\mathcal{M}} J(f)\n",
    "\\end{align*}\n",
    "\n",
    "Intuitively, this is the function that bests \"fits\" the data on the training dataset."
   ]
  },
  {
   "cell_type": "markdown",
   "id": "378b6828",
   "metadata": {
    "slideshow": {
     "slide_type": "fragment"
    }
   },
   "source": [
    "When $f$ is parametrized by $\\theta \\in \\Theta$, the optimizer minimizes a function $J(\\theta)$ over all $\\theta \\in \\Theta$."
   ]
  },
  {
   "cell_type": "markdown",
   "id": "5bfef57f",
   "metadata": {
    "slideshow": {
     "slide_type": "slide"
    }
   },
   "source": [
    "# Optimizer: Example\n",
    "\n",
    "We will see that behind the scenes, the `sklearn.linear_models.LinearRegression` algorithm optimizes the MSE loss.\n",
    "\n",
    "\\begin{align*}\n",
    "\\min_{\\theta \\in \\mathbb{R}} \\frac{1}{2n} \\sum_{i=1}^n \\left( f_\\theta(x^{(i)}) - y^{(i)} \\right)^2\n",
    "\\end{align*}\n",
    "\n",
    "We can easily measure the quality of the fit on the training set and the test set."
   ]
  },
  {
   "cell_type": "markdown",
   "id": "908cba0a",
   "metadata": {
    "slideshow": {
     "slide_type": "skip"
    }
   },
   "source": [
    "# Notation: Feature Matrix\n",
    "\n",
    "Suppose that we have a dataset of size $n$ (e.g., $n$ patients), indexed by $i=1,2,...,n$. Each $x^{(i)}$ is a vector of $d$ features.\n",
    "\n",
    "#### Feature Matrix\n",
    "Machine learning algorithms are most easily defined in the language of linear algebra. Therefore, it will be useful to represent the entire dataset as one matrix $X \\in \\mathbb{R}^{n \\times d}$, of the form:\n",
    "$$ X = \\begin{bmatrix}\n",
    "x^{(1)}_1 & x^{(2)}_1 & \\ldots & x^{(n)}_1 \\\\\n",
    "x^{(1)}_2 & x^{(2)}_2 & \\ldots & x^{(n)}_2 \\\\\n",
    "\\vdots \\\\\n",
    "x^{(1)}_d & x^{(2)}_d & \\ldots & x^{(n)}_d\n",
    "\\end{bmatrix}.$$\n",
    "\n",
    "Similarly, we can vectorize the target variables into a vector $y \\in \\mathbb{R}^n$ of the form\n",
    "$$ y = \\begin{bmatrix}\n",
    "x^{(1)} \\\\\n",
    "x^{(2)} \\\\\n",
    "\\vdots \\\\\n",
    "x^{(n)}\n",
    "\\end{bmatrix}.$$"
   ]
  },
  {
   "cell_type": "markdown",
   "id": "8258e9af",
   "metadata": {},
   "source": [
    "# Lecture 3: Linear Regression"
   ]
  },
  {
   "cell_type": "markdown",
   "id": "e4fd3cc0",
   "metadata": {
    "slideshow": {
     "slide_type": "slide"
    }
   },
   "source": [
    "# Calculus Review: Derivatives\n",
    "\n",
    "Recall that the derivative $$\\frac{d f(\\theta_0)}{d \\theta}$$ of a univariate function $f : \\mathbb{R} \\to \\mathbb{R}$ is the instantaneous rate of change of the function $f(\\theta)$ with respect to its parameter $\\theta$ at the point $\\theta_0$."
   ]
  },
  {
   "cell_type": "markdown",
   "id": "cb52cb3c",
   "metadata": {
    "slideshow": {
     "slide_type": "slide"
    }
   },
   "source": [
    "# Calculus Review: Partial Derivatives\n",
    "\n",
    "The partial derivative $$\\frac{\\partial f(\\theta)}{\\partial \\theta_j}$$ of a multivariate function $f : \\mathbb{R}^d \\to \\mathbb{R}$ is the derivative of $f$ with respect to $\\theta_j$ while all the other dimensions $\\theta_k$ for $k\\neq j$ are fixed."
   ]
  },
  {
   "cell_type": "markdown",
   "id": "1a06224a",
   "metadata": {
    "slideshow": {
     "slide_type": "slide"
    }
   },
   "source": [
    "# Calculus Review: The Gradient\n",
    "\n",
    "The gradient $\\nabla f$ is the vector of all the partial derivatives:\n",
    "\n",
    "$$ \\nabla f (\\theta) = \\begin{bmatrix}\n",
    "\\frac{\\partial f(\\theta)}{\\partial \\theta_1} \\\\\n",
    "\\frac{\\partial f(\\theta)}{\\partial \\theta_2} \\\\\n",
    "\\vdots \\\\\n",
    "\\frac{\\partial f(\\theta)}{\\partial \\theta_d}\n",
    "\\end{bmatrix}.$$\n",
    "\n",
    "The $j$-th entry of the vector $\\nabla f (\\theta)$ is the partial derivative $\\frac{\\partial f(\\theta)}{\\partial \\theta_j}$ of $f$ with respect to the $j$-th component of $\\theta$.\n",
    "\n",
    "**The gradient, represented by the blue arrows, denotes the direction of greatest change of a scalar function.**"
   ]
  },
  {
   "cell_type": "markdown",
   "id": "a3e5c92e",
   "metadata": {
    "slideshow": {
     "slide_type": "skip"
    }
   },
   "source": [
    "# Calculus Review: The Gradient\n",
    "\n",
    "The gradient $\\nabla_\\theta f$ further extends the derivative to multivariate functions $f : \\mathbb{R}^d \\to \\mathbb{R}$, and is defined at a point $\\theta_0$ as\n",
    "\n",
    "$$ \\nabla_\\theta f (\\theta_0) = \\begin{bmatrix}\n",
    "\\frac{\\partial f(\\theta_0)}{\\partial \\theta_1} \\\\\n",
    "\\frac{\\partial f(\\theta_0)}{\\partial \\theta_2} \\\\\n",
    "\\vdots \\\\\n",
    "\\frac{\\partial f(\\theta_0)}{\\partial \\theta_d}\n",
    "\\end{bmatrix}.$$\n",
    "\n",
    "The $j$-th entry of the vector $\\nabla_\\theta f (\\theta_0)$ is the partial derivative $\\frac{\\partial f(\\theta_0)}{\\partial \\theta_j}$ of $f$ with respect to the $j$-th component of $\\theta$."
   ]
  },
  {
   "cell_type": "markdown",
   "id": "552cf7bb",
   "metadata": {
    "slideshow": {
     "slide_type": "slide"
    }
   },
   "source": [
    "# Gradient Descent: Intuition\n",
    "\n",
    "Gradient descent is a very common optimization algorithm used in machine learning.\n",
    "\n",
    "The intuition behind gradient descent is to repeatedly obtain the gradient to determine the direction in which the function decreases most steeply and take a step in that direction."
   ]
  },
  {
   "cell_type": "markdown",
   "id": "5988bd84",
   "metadata": {
    "slideshow": {
     "slide_type": "slide"
    }
   },
   "source": [
    "# Gradient Descent: Notation\n",
    "More formally, if we want to optimize $J(\\theta)$, we start with an initial guess $\\theta_0$ for the parameters and repeat the following update until $\\theta$ is no longer changing:\n",
    "$$ \\theta_i := \\theta_{i-1} - \\alpha \\cdot \\nabla J(\\theta_{i-1}). $$\n",
    "\n",
    "In code, this method may look as follows:\n",
    "```python\n",
    "theta, theta_prev = random_initialization()\n",
    "while norm(theta - theta_prev) > convergence_threshold:\n",
    "    theta_prev = theta\n",
    "    theta = theta_prev - step_size * gradient(theta_prev)\n",
    "```\n",
    "In the above algorithm, we stop when $||\\theta_i - \\theta_{i-1}||$ is small."
   ]
  },
  {
   "cell_type": "markdown",
   "id": "00c409ed",
   "metadata": {},
   "source": [
    "# Resource on Gradient Descent: https://www.cnblogs.com/pinard/p/5970503.html  \n",
    "\n",
    "那么这个梯度向量求出来有什么意义呢？他的意义从几何意义上讲，就是函数变化增加最快的地方。具体来说，对于函数f(x,y),在点(x0,y0)，沿着梯度向量的方向就是(∂f/∂x0, ∂f/∂y0)T的方向是f(x,y)增加最快的地方。或者说，沿着梯度向量的方向，更加容易找到函数的最大值。反过来说，沿着梯度向量相反的方向，也就是 -(∂f/∂x0, ∂f/∂y0)T的方向，梯度减少最快，也就是更加容易找到函数的最小值。\n",
    "\n",
    "在机器学习算法中，在最小化损失函数时，可以通过梯度下降法来一步步的迭代求解，得到最小化的损失函数，和模型参数值。反过来，如果我们需要求解损失函数的最大值，这时就需要用梯度上升法来迭代了。"
   ]
  },
  {
   "cell_type": "markdown",
   "id": "1d18b4d4",
   "metadata": {
    "slideshow": {
     "slide_type": "slide"
    }
   },
   "source": [
    "# Review: Linear Model Family\n",
    "\n",
    "Recall that a linear model has the form\n",
    "\\begin{align*}\n",
    "y & = \\theta_0 + \\theta_1 \\cdot x_1 + \\theta_2 \\cdot x_2 + ... + \\theta_d \\cdot x_d\n",
    "\\end{align*}\n",
    "where $x \\in \\mathbb{R}^d$ is a vector of features and $y$ is the target. The $\\theta_j$ are the *parameters* of the model.\n",
    "\n",
    "By using the notation $x_0 = 1$, we can represent the model in a vectorized form\n",
    "$$ f_\\theta(x) = \\sum_{j=0}^d \\theta_j \\cdot x_j = \\theta^\\top x. $$"
   ]
  },
  {
   "cell_type": "markdown",
   "id": "566558fd",
   "metadata": {
    "slideshow": {
     "slide_type": "slide"
    }
   },
   "source": [
    "# An Objective: Mean Squared Error\n",
    "\n",
    "We pick $\\theta$ to minimize the mean squared error (MSE). Slight variants of this objective are also known as the residual sum of squares (RSS) or the sum of squared residuals (SSR).\n",
    "$$J(\\theta)= \\frac{1}{2n} \\sum_{i=1}^n(y^{(i)}-\\theta^\\top x^{(i)})^2$$\n",
    "In other words, we are looking for the best compromise in $\\theta$ over all the data points."
   ]
  },
  {
   "cell_type": "markdown",
   "id": "13f2d828",
   "metadata": {
    "slideshow": {
     "slide_type": "slide"
    }
   },
   "source": [
    "# Mean Squared Error: Partial Derivatives\n",
    "\n",
    "Let's work out the derivatives for $\\frac{1}{2} \\left( f_\\theta(x^{(i)}) - y^{(i)} \\right)^2,$ the MSE of a linear model $f_\\theta$ for one training example $(x^{(i)}, y^{(i)})$, which we denote $J^{(i)}(\\theta)$.\n",
    "\n",
    "\\begin{align*}\n",
    "\\frac{\\partial}{\\partial \\theta_j} J^{(i)}(\\theta) & = \\frac{\\partial}{\\partial \\theta_j} \\left(\\frac{1}{2} \\left( f_\\theta(x^{(i)}) - y^{(i)} \\right)^2\\right) \\\\\n",
    "& = \\left( f_\\theta(x^{(i)}) - y^{(i)} \\right) \\cdot \\frac{\\partial}{\\partial \\theta_j} \\left( f_\\theta(x^{(i)}) - y^{(i)} \\right) \\\\\n",
    "& = \\left( f_\\theta(x^{(i)}) - y^{(i)} \\right) \\cdot \\frac{\\partial}{\\partial \\theta_j} \\left( \\sum_{k=0}^d \\theta_k \\cdot x^{(i)}_k - y^{(i)} \\right) \\\\\n",
    "& = \\left( f_\\theta(x^{(i)}) - y^{(i)} \\right) \\cdot x^{(i)}_j\n",
    "\\end{align*}"
   ]
  },
  {
   "cell_type": "markdown",
   "id": "38f4b55a",
   "metadata": {
    "slideshow": {
     "slide_type": "slide"
    }
   },
   "source": [
    "# Mean Squared Error: The Gradient\n",
    "\n",
    "We can use this derivation to obtain an expression for the gradient of the MSE for a linear model\n",
    "\\begin{align*}\n",
    "\\small\n",
    "{\\tiny \\nabla_\\theta J^{(i)} (\\theta)} = \\begin{bmatrix}\n",
    "\\frac{\\partial J^{(i)}(\\theta)}{\\partial \\theta_0} \\\\\n",
    "\\frac{\\partial J^{(i)}(\\theta)}{\\partial \\theta_1} \\\\\n",
    "\\vdots \\\\\n",
    "\\frac{\\partial J^{(i)}(\\theta)}{\\partial \\theta_d}\n",
    "\\end{bmatrix}\n",
    "=\n",
    "\\begin{bmatrix}\n",
    "\\left( f_\\theta(x^{(i)}) - y^{(i)} \\right) \\cdot x^{(i)}_0 \\\\\n",
    "\\left( f_\\theta(x^{(i)}) - y^{(i)} \\right) \\cdot x^{(i)}_1 \\\\\n",
    "\\vdots \\\\\n",
    "\\left( f_\\theta(x^{(i)}) - y^{(i)} \\right) \\cdot x^{(i)}_d\n",
    "\\end{bmatrix}\n",
    "=\n",
    "\\left( f_\\theta(x^{(i)}) - y^{(i)} \\right) \\cdot x^{(i)}\n",
    "\\end{align*}"
   ]
  },
  {
   "cell_type": "markdown",
   "id": "f2105002",
   "metadata": {
    "slideshow": {
     "slide_type": "subslide"
    }
   },
   "source": [
    "Note that the MSE over the entire dataset is $J(\\theta) = \\frac{1}{n}\\sum_{i=1}^n J^{(i)}(\\theta)$. Therefore:\n",
    "\\begin{align*}\n",
    "\\nabla_\\theta J (\\theta) = \\begin{bmatrix}\n",
    "\\frac{\\partial J(\\theta)}{\\partial \\theta_0} \\\\\n",
    "\\frac{\\partial J(\\theta)}{\\partial \\theta_1} \\\\\n",
    "\\vdots \\\\\n",
    "\\frac{\\partial J(\\theta)}{\\partial \\theta_d}\n",
    "\\end{bmatrix}\n",
    "=\n",
    "\\frac{1}{n}\\sum_{i=1}^n\n",
    "\\begin{bmatrix}\n",
    "\\frac{\\partial J^{(i)}(\\theta)}{\\partial \\theta_0} \\\\\n",
    "\\frac{\\partial J^{(i)}(\\theta)}{\\partial \\theta_1} \\\\\n",
    "\\vdots \\\\\n",
    "\\frac{\\partial J^{(i)}(\\theta)}{\\partial \\theta_d}\n",
    "\\end{bmatrix}\n",
    "=\n",
    "\\frac{1}{n} \\sum_{i=1}^n \\left( f_\\theta(x^{(i)}) - y^{(i)} \\right) \\cdot x^{(i)}\n",
    "\\end{align*}"
   ]
  },
  {
   "cell_type": "markdown",
   "id": "e7de827c",
   "metadata": {
    "slideshow": {
     "slide_type": "slide"
    }
   },
   "source": [
    "# Gradient Descent for Linear Regression\n",
    "\n",
    "Putting this together with the gradient descent algorithm, we obtain a learning method for training linear models.\n",
    "\n",
    "\n",
    "```python\n",
    "theta, theta_prev = random_initialization()\n",
    "while abs(J(theta) - J(theta_prev)) > conv_threshold:\n",
    "    theta_prev = theta\n",
    "    theta = theta_prev - step_size * (f(x, theta)-y) * x\n",
    "```\n",
    "\n",
    "This update rule is also known as the Least Mean Squares (LMS) or Widrow-Hoff learning rule."
   ]
  },
  {
   "cell_type": "markdown",
   "id": "571c7e0b",
   "metadata": {},
   "source": [
    "# Algorithm: Ordinary Least Squares\n",
    "\n",
    "* __Type__: Supervised learning (regression)\n",
    "* __Model family__: Linear models\n",
    "* __Objective function__: Mean squared error\n",
    "* __Optimizer__: Normal equations"
   ]
  },
  {
   "cell_type": "markdown",
   "id": "8b4b3a93",
   "metadata": {
    "slideshow": {
     "slide_type": "slide"
    }
   },
   "source": [
    "# Notation: Design Matrix\n",
    "\n",
    "<!-- Suppose that we have a dataset of size $n$ (e.g., $n$ patients), indexed by $i=1,2,...,n$. Each $x^{(i)}$ is a vector of $d$ features. -->\n",
    "\n",
    "Machine learning algorithms are most easily defined in the language of linear algebra. Therefore, it will be useful to represent the entire dataset as one matrix $X \\in \\mathbb{R}^{n \\times d}$, of the form:\n",
    "\n",
    "$$ X = \\begin{bmatrix}\n",
    "x^{(1)}_1 & x^{(1)}_2 & \\ldots & x^{(1)}_d \\\\\n",
    "x^{(2)}_1 & x^{(2)}_2 & \\ldots & x^{(2)}_d \\\\\n",
    "\\vdots \\\\\n",
    "x^{(n)}_1 & x^{(n)}_2 & \\ldots & x^{(n)}_d\n",
    "\\end{bmatrix}\n",
    "=\n",
    "\\begin{bmatrix}\n",
    "- & (x^{(1)})^\\top & - \\\\\n",
    "- & (x^{(2)})^\\top & - \\\\\n",
    "& \\vdots & \\\\\n",
    "- & (x^{(n)})^\\top & - \\\\\n",
    "\\end{bmatrix}\n",
    ".$$"
   ]
  },
  {
   "cell_type": "markdown",
   "id": "5cf60efc",
   "metadata": {
    "slideshow": {
     "slide_type": "slide"
    }
   },
   "source": [
    "# Squared Error in Matrix Form\n",
    "\n",
    "Recall that we may fit a linear model by choosing $\\theta$ that minimizes the squared error:\n",
    "$$J(\\theta)=\\frac{1}{2}\\sum_{i=1}^n(y^{(i)}-\\theta^\\top x^{(i)})^2$$"
   ]
  },
  {
   "cell_type": "markdown",
   "id": "b7b77aa7",
   "metadata": {
    "slideshow": {
     "slide_type": "fragment"
    }
   },
   "source": [
    "We can write this sum in matrix-vector form as:\n",
    "$$J(\\theta) = \\frac{1}{2} (y-X\\theta)^\\top(y-X\\theta) = \\frac{1}{2} \\|y-X\\theta\\|^2,$$\n",
    "where $X$ is the design matrix and $\\|\\cdot\\|$ denotes the Euclidean norm."
   ]
  },
  {
   "cell_type": "markdown",
   "id": "5df0a6a4",
   "metadata": {
    "slideshow": {
     "slide_type": "slide"
    }
   },
   "source": [
    "# The Gradient of the Squared Error\n",
    "\n",
    "We can compute the gradient of the mean squared error as follows.\n",
    "\n",
    "\\begin{align*}\n",
    "\\nabla_\\theta J(\\theta) \n",
    "& = \\nabla_\\theta \\frac{1}{2} (X \\theta - y)^\\top  (X \\theta - y) \\\\\n",
    "& = \\frac{1}{2} \\nabla_\\theta \\left( (X \\theta)^\\top  (X \\theta) - (X \\theta)^\\top y - y^\\top (X \\theta) + y^\\top y \\right) \\\\\n",
    "& = \\frac{1}{2} \\nabla_\\theta \\left( \\theta^\\top  (X^\\top X) \\theta - 2(X \\theta)^\\top y \\right) \\\\\n",
    "& = \\frac{1}{2} \\left( 2(X^\\top X) \\theta - 2X^\\top y \\right) \\\\\n",
    "& = (X^\\top X) \\theta - X^\\top y\n",
    "\\end{align*}\n",
    "\n",
    "We used the facts that $a^\\top b = b^\\top a$ (line 3), that $\\nabla_x b^\\top x = b$ (line 4), and that $\\nabla_x x^\\top A x = 2 A x$ for a symmetric matrix $A$ (line 4)."
   ]
  },
  {
   "cell_type": "markdown",
   "id": "9ea24329",
   "metadata": {
    "slideshow": {
     "slide_type": "slide"
    }
   },
   "source": [
    "# Normal Equations\n",
    "\n",
    "<!-- We know from calculus that a function is minimized when its derivative is set to zero. In our case, our objective function is a (multivariate) quadratic; hence it only has one minimum, which is the global minimum.\n",
    " -->\n",
    "Setting the above derivative to zero, we obtain the *normal equations*:\n",
    "$$ (X^\\top X) \\theta = X^\\top y.$$\n",
    "\n",
    "Hence, the value $\\theta^*$ that minimizes this objective is given by:\n",
    "$$ \\theta^* = (X^\\top X)^{-1} X^\\top y.$$"
   ]
  },
  {
   "cell_type": "markdown",
   "id": "85396ce8",
   "metadata": {
    "slideshow": {
     "slide_type": "slide"
    }
   },
   "source": [
    "# Algorithm: Non-Linear Least Squares\n",
    "\n",
    "* __Type__: Supervised learning (regression)\n",
    "* __Model family__: Linear in the parameters; non-linear with respect to raw inputs.\n",
    "* __Features__: Non-linear functions of the attributes\n",
    "* __Objective function__: Mean squared error\n",
    "* __Optimizer__: Normal equations"
   ]
  },
  {
   "cell_type": "markdown",
   "id": "74e5ddf9",
   "metadata": {
    "slideshow": {
     "slide_type": "slide"
    }
   },
   "source": [
    "# Modeling Non-Linear Relationships With Polynomial Regression\n",
    "\n",
    "<!-- Note that the set of $p$-th degree polynomials forms a linear model with parameters $a_p, a_{p-1}, ..., a_0$.\n",
    "This means we can use our algorithms for linear models to learn non-linear features! -->\n",
    "\n",
    "Specifically, given a one-dimensional continuous variable $x$, we can define the *polynomial feature* function $\\phi : \\mathbb{R} \\to \\mathbb{R}^{p+1}$ as\n",
    "$$ \\phi(x) = \\begin{bmatrix}\n",
    "1 \\\\\n",
    "x \\\\\n",
    "x^2 \\\\\n",
    "\\vdots \\\\\n",
    "x^p\n",
    "\\end{bmatrix}.\n",
    "$$"
   ]
  },
  {
   "cell_type": "markdown",
   "id": "fef5d29a",
   "metadata": {
    "slideshow": {
     "slide_type": "subslide"
    }
   },
   "source": [
    "The class of models of the form\n",
    "$$ f_\\theta(x) := \\sum_{j=0}^p \\theta_p x^p = \\theta^\\top \\phi(x) $$\n",
    "with parameters $\\theta$ and polynomial features $\\phi$ is the set of $p$-degree polynomials."
   ]
  },
  {
   "cell_type": "markdown",
   "id": "4f5bc7fa",
   "metadata": {
    "slideshow": {
     "slide_type": "fragment"
    }
   },
   "source": [
    "* This model is non-linear in the input variable $x$, meaning that we can model complex data relationships."
   ]
  },
  {
   "cell_type": "markdown",
   "id": "eede414a",
   "metadata": {
    "slideshow": {
     "slide_type": "fragment"
    }
   },
   "source": [
    "* It is a linear model as a function of the parameters $\\theta$, meaning that we can use our familiar ordinary least squares algorithm to learn these features."
   ]
  },
  {
   "cell_type": "markdown",
   "id": "b30835c9",
   "metadata": {
    "slideshow": {
     "slide_type": "slide"
    }
   },
   "source": [
    "# Multivariate Polynomial Regression\n",
    "\n",
    "We can construct non-linear functions of multiple variables by using multivariate polynomials.\n",
    "\n",
    "For example, a polynomial of degree $2$ over two variables $x_1, x_2$ is a function of the form\n",
    "<!-- $$\n",
    "a_{20} x_1^2 + a_{10} x_1 + a_{02} x_2^2 + a_{01} x_2 + a_{22} x_1^2 x_2^2 + a_{21} x_1^2 x_2 + a_{12} x_1 x_2^2 + a_11 x_1 x_2 + a_{00}.\n",
    "$$ -->\n",
    "$$\n",
    "a_{20} x_1^2 + a_{10} x_1 + a_{02} x_2^2 + a_{01} x_2 + a_{11} x_1 x_2 + a_{00}.\n",
    "$$"
   ]
  },
  {
   "cell_type": "markdown",
   "id": "37f0ab64",
   "metadata": {
    "slideshow": {
     "slide_type": "fragment"
    }
   },
   "source": [
    "In general, a polynomial of degree $p$ over two variables $x_1, x_2$ is a function of the form\n",
    "$$\n",
    "f(x_1, x_2) = \\sum_{i,j \\geq 0 : i+j \\leq p} a_{ij} x_1^i x_2^j.\n",
    "$$"
   ]
  },
  {
   "cell_type": "markdown",
   "id": "6af8e803",
   "metadata": {
    "slideshow": {
     "slide_type": "subslide"
    }
   },
   "source": [
    "In our two-dimensional example, this corresponds to a feature function $\\phi : \\mathbb{R}^2 \\to \\mathbb{R}^6$ of the form\n",
    "$$ \\phi(x) = \\begin{bmatrix}\n",
    "1 \\\\\n",
    "x_1 \\\\\n",
    "x_1^2 \\\\\n",
    "x_2 \\\\\n",
    "x_2^2 \\\\\n",
    "x_1 x_2\n",
    "\\end{bmatrix}.\n",
    "$$\n",
    "\n",
    "The same approach can be used to specify polynomials of any degree and over any number of variables."
   ]
  },
  {
   "cell_type": "markdown",
   "id": "44481306",
   "metadata": {
    "slideshow": {
     "slide_type": "slide"
    }
   },
   "source": [
    "# Towards General Non-Linear Features\n",
    "\n",
    "Any non-linear feature map $\\phi(x) : \\mathbb{R}^d \\to \\mathbb{R}^p$ can be used in this way to obtain general models of the form\n",
    "$$ f_\\theta(x) := \\theta^\\top \\phi(x) $$\n",
    "that are highly non-linear in $x$ but linear in $\\theta$."
   ]
  },
  {
   "cell_type": "markdown",
   "id": "ad90bb3e",
   "metadata": {
    "colab_type": "text",
    "id": "i_f5u2x9nn6I",
    "slideshow": {
     "slide_type": "slide"
    }
   },
   "source": [
    "<left><img width=25% src=\"img/cornell_tech2.svg\"></left>\n",
    "\n",
    "# Lecture 4: Classification and Logistic Regression\n",
    "\n",
    "### Applied Machine Learning\n",
    "\n",
    "__Volodymyr Kuleshov__<br>Cornell Tech"
   ]
  },
  {
   "cell_type": "markdown",
   "id": "5476f0a8",
   "metadata": {
    "slideshow": {
     "slide_type": "slide"
    }
   },
   "source": [
    "# Review: Regression vs. Classification\n",
    "\n",
    "Consider a training dataset $\\mathcal{D} = \\{(x^{(1)}, y^{(1)}), (x^{(2)}, y^{(2)}), \\ldots, (x^{(n)}, y^{(n)})\\}$.\n",
    "\n",
    "We distinguish between two types of supervised learning problems depnding on the targets $y^{(i)}$. \n",
    "\n",
    "1. __Regression__: The target variable $y \\in \\mathcal{Y}$ is continuous:  $\\mathcal{Y} \\subseteq \\mathbb{R}$.\n",
    "2. __Classification__: The target variable $y$ is discrete and takes on one of $K$ possible values:  $\\mathcal{Y} = \\{y_1, y_2, \\ldots y_K\\}$. Each discrete value corresponds to a *class* that we want to predict."
   ]
  },
  {
   "cell_type": "markdown",
   "id": "f2d90298",
   "metadata": {
    "slideshow": {
     "slide_type": "slide"
    }
   },
   "source": [
    "# Binary Classification\n",
    "\n",
    "An important special case of classification is when the number of classes $K=2$.\n",
    "\n",
    "In this case, we have an instance of a *binary classification* problem."
   ]
  },
  {
   "cell_type": "markdown",
   "id": "3348a1be",
   "metadata": {
    "slideshow": {
     "slide_type": "slide"
    }
   },
   "source": [
    "# Understanding Classification\n",
    "\n",
    "How is clasification different from regression?\n",
    "* In regression, we try to fit a curve through the set of targets $y^{(i)}$.\n",
    "* In classification, classes define a partition of the feature space, and our goal is to find the boundaries that separate these regions.\n",
    "* Outputs of classification models often have a simple probabilistic interpretation: they are probabilities that a data point belongs to a given class."
   ]
  },
  {
   "cell_type": "markdown",
   "id": "c00e046a",
   "metadata": {
    "slideshow": {
     "slide_type": "slide"
    }
   },
   "source": [
    "# Review: Least Squares\n",
    "\n",
    "Recall that the linear regression algorithm fits a linear model of the form\n",
    "$$ f(x) = \\sum_{j=0}^d \\theta_j \\cdot x_j = \\theta^\\top x. $$"
   ]
  },
  {
   "cell_type": "markdown",
   "id": "f12ad125",
   "metadata": {
    "slideshow": {
     "slide_type": "fragment"
    }
   },
   "source": [
    "It minimizes the mean squared error (MSE)\n",
    "$$J(\\theta)= \\frac{1}{2n} \\sum_{i=1}^n(y^{(i)}-\\theta^\\top x^{(i)})^2$$\n",
    "on a dataset $\\{(x^{(1)}, y^{(1)}), (x^{(2)}, y^{(2)}), \\ldots, (x^{(n)}, y^{(n)})\\}$."
   ]
  },
  {
   "cell_type": "markdown",
   "id": "a9d16d35",
   "metadata": {
    "slideshow": {
     "slide_type": "subslide"
    }
   },
   "source": [
    "We could use least squares to solve our classification problem, setting $\\mathcal{Y} = \\{0, 1\\}$."
   ]
  },
  {
   "cell_type": "markdown",
   "id": "b65181be",
   "metadata": {
    "slideshow": {
     "slide_type": "subslide"
    }
   },
   "source": [
    "Ordinary least squares returns a decision boundary that is not unreasonable.\n",
    "\n",
    "However, applying ordinary least squares is problematic for a few reasons.\n",
    "* There is nothing to prevent outputs larger than one or smaller than zero, which is conceptually wrong\n",
    "* We also don't have optimal performance: at least one point is misclassified, and others are too close to the decision boundary."
   ]
  },
  {
   "cell_type": "markdown",
   "id": "971d5589",
   "metadata": {
    "slideshow": {
     "slide_type": "slide"
    }
   },
   "source": [
    "# The Logistic Function\n",
    "\n",
    "To address the fact that the output of linear regression is not in $[0,1]$, we will instead attempt to *squeeze* it into that range using\n",
    "$$ \\sigma(z) = \\frac{1}{1 + \\exp(-z)}. $$\n",
    "This is known as the *sigmoid* or *logistic* function."
   ]
  },
  {
   "cell_type": "markdown",
   "id": "7b994971",
   "metadata": {
    "slideshow": {
     "slide_type": "subslide"
    }
   },
   "source": [
    "The logistic function $\\sigma : \\mathbb{R} \\to [0,1]$ \"squeezes\" points from the real line into $[0,1]$."
   ]
  },
  {
   "cell_type": "markdown",
   "id": "46b718c7",
   "metadata": {
    "slideshow": {
     "slide_type": "slide"
    }
   },
   "source": [
    "# The Logistic Function: Properties\n",
    "\n",
    "The sigmoid function is defined as\n",
    "$$ \\sigma(z) = \\frac{1}{1 + \\exp(-z)}. $$\n",
    "A few observations:"
   ]
  },
  {
   "cell_type": "markdown",
   "id": "52cc4dec",
   "metadata": {
    "slideshow": {
     "slide_type": "fragment"
    }
   },
   "source": [
    "* The function tends to 1 as $z \\to \\infty$ and tends to 0 as $z \\to -\\infty$."
   ]
  },
  {
   "cell_type": "markdown",
   "id": "37a51ae0",
   "metadata": {
    "slideshow": {
     "slide_type": "fragment"
    }
   },
   "source": [
    "* Thus, models of the form $\\sigma(\\theta^\\top x)$ output values between 0 and 1, which is suitable for binary classification."
   ]
  },
  {
   "cell_type": "markdown",
   "id": "5246e210",
   "metadata": {
    "slideshow": {
     "slide_type": "fragment"
    }
   },
   "source": [
    "* It is easy to show that the derivative of $\\sigma(z)$ has a simple form:\n",
    "$\\frac{d\\sigma}{dz} = \\sigma(z)(1-\\sigma(z)).$"
   ]
  },
  {
   "cell_type": "markdown",
   "id": "eff4e682",
   "metadata": {
    "slideshow": {
     "slide_type": "subslide"
    }
   },
   "source": [
    "Note that logistic regression is actually a binary __classification__ algorithm.\n",
    "\n",
    "The term *regression* is an unfortunate historical misnomer."
   ]
  },
  {
   "cell_type": "markdown",
   "id": "a6d76c3f",
   "metadata": {
    "slideshow": {
     "slide_type": "slide"
    }
   },
   "source": [
    "# Probabilistic Interpretations\n",
    "\n",
    "The logistic model can be interpreted to output a probability, and defines a conditional probability distribution as follows:\n",
    "\n",
    "\\begin{align*}\n",
    "P_\\theta(y=1 | x) & = \\sigma(\\theta^\\top x) \\\\\n",
    "P_\\theta(y=0 | x) & = 1-\\sigma(\\theta^\\top x).\n",
    "\\end{align*}\n",
    "\n",
    "Recall that a probability over $y\\in \\{0,1\\}$ is called **Bernoulli.**"
   ]
  },
  {
   "cell_type": "markdown",
   "id": "f1273b8e",
   "metadata": {
    "slideshow": {
     "slide_type": "skip"
    }
   },
   "source": [
    "# The Data Distribution\n",
    "\n",
    "We will assume that our dataset is sampled from a probability distribution $\\mathbb{P}$, which we will call the *data distribution*. We will denote this as\n",
    "$$ x, y \\sim P_\\text{data}. $$\n",
    "\n",
    "The training set $\\mathcal{D} = \\{(x^{(i)}, y^{(i)}) \\mid i = 1,2,...,n\\}$ consists of *independent and identicaly distributed* (IID) samples from $P_\\text{data}$."
   ]
  },
  {
   "cell_type": "markdown",
   "id": "1ccc59a6",
   "metadata": {
    "slideshow": {
     "slide_type": "skip"
    }
   },
   "source": [
    "# Data Distribution: IID Sampling\n",
    "\n",
    "The key assumption is that the training examples are *independent and identicaly distributed* (IID). \n",
    "* Each training example is from the same distribution.\n",
    "* This distribution doesn't depend on previous training examples."
   ]
  },
  {
   "cell_type": "markdown",
   "id": "35ba269a",
   "metadata": {
    "slideshow": {
     "slide_type": "skip"
    }
   },
   "source": [
    "__Example__: Flipping a coin. Each flip has same probability of heads & tails and doesn't depend on previous flips."
   ]
  },
  {
   "cell_type": "markdown",
   "id": "8d56a98c",
   "metadata": {
    "slideshow": {
     "slide_type": "skip"
    }
   },
   "source": [
    "__Counter-Example__: Yearly census data. The population in each year will be close to that of the previous year."
   ]
  },
  {
   "cell_type": "markdown",
   "id": "d927b987",
   "metadata": {
    "slideshow": {
     "slide_type": "skip"
    }
   },
   "source": [
    "# Data Distribution: Motivation\n",
    "\n",
    "Why assume that the dataset is sampled from a distribution?\n",
    "\n",
    "* The process we model may be effectively random. If $y$ is a stock price, there is randomness in the market that cannot be captured by a deterministic model.\n",
    "* There may be noise and randomness in the data collection process itself (e.g., collecting readings from an imperfect thermometer).\n",
    "* We can use probability and statistics to analyze supervised learning algorithms and prove that they work."
   ]
  },
  {
   "cell_type": "markdown",
   "id": "76f10693",
   "metadata": {
    "slideshow": {
     "slide_type": "slide"
    }
   },
   "source": [
    "# Probabilistic Interpretations\n",
    "\n",
    "Many supervised learning models have a probabilistic interpretation.\n",
    "Often a model $f_\\theta$ defines a probability distribution of the form\n",
    "\n",
    "\\begin{align*}\n",
    "P_\\theta(x,y) : \\mathcal{X} \\times \\mathcal{Y} \\to [0,1] && \\text{or} && P_\\theta(y|x) : \\mathcal{X} \\times \\mathcal{Y} \\to [0,1].\n",
    "\\end{align*}\n",
    "\n",
    "We refer to these as *probabilistic models*."
   ]
  },
  {
   "cell_type": "markdown",
   "id": "bffb088e",
   "metadata": {
    "slideshow": {
     "slide_type": "fragment"
    }
   },
   "source": [
    "For example, our logistic model defines (\"parameterizes\") a probability distribution $P_\\theta(y|x) : \\mathcal{X} \\times \\mathcal{Y} \\to [0,1]$ as follows:\n",
    "\n",
    "\\begin{align*}\n",
    "P_\\theta(y=1 | x) & = \\sigma(\\theta^\\top x) \\\\\n",
    "P_\\theta(y=0 | x) & = 1-\\sigma(\\theta^\\top x).\n",
    "\\end{align*}"
   ]
  },
  {
   "cell_type": "markdown",
   "id": "cfbbca8e",
   "metadata": {
    "slideshow": {
     "slide_type": "slide"
    }
   },
   "source": [
    "# Maximum Likelihood\n",
    "\n",
    "We can train any model that defines a probability distribution $P_\\theta(x,y)$ by optimizing\n",
    "the *maximum likelihood* objective\n",
    "$$\n",
    "L(\\theta) = \\prod_{i=1}^n P_\\theta({x}^{(i)}, y^{(i)})\n",
    "$$\n",
    "defined over a dataset $\\mathcal{D} = \\{(x^{(1)}, y^{(1)}), (x^{(2)}, y^{(2)}), \\ldots, (x^{(n)}, y^{(n)})\\}$.\n"
   ]
  },
  {
   "cell_type": "markdown",
   "id": "82a1bf68",
   "metadata": {
    "slideshow": {
     "slide_type": "fragment"
    }
   },
   "source": [
    "This asks that $P_\\theta$ assign a high probability to the training instances in the dataset $\\mathcal{D}$."
   ]
  },
  {
   "cell_type": "markdown",
   "id": "28a20263",
   "metadata": {
    "slideshow": {
     "slide_type": "subslide"
    }
   },
   "source": [
    "A lot of mathematical derivations and numerical calculations become simpler if we instead maximize the log of the likelihood:\n",
    "\\begin{align*}\n",
    "\\ell(\\theta) = \\log L(\\theta) & = \\log \\prod_{i=1}^n P_\\theta({x}^{(i)}, y^{(i)}) = \\sum_{i=1}^n \\log P_\\theta({x}^{(i)}, y^{(i)}).\n",
    "\\end{align*}\n",
    "Note that since the log is a monotonically increasing function, it doesn't change the optimal $\\theta$."
   ]
  },
  {
   "cell_type": "markdown",
   "id": "65b4f3ba",
   "metadata": {
    "slideshow": {
     "slide_type": "fragment"
    }
   },
   "source": [
    "Finally, it's often simpler to take the average, instead of the sum. This gives us the following learning principle, known as *maximum log-likelihood*:\n",
    "$$\n",
    "\\max_\\theta \\ell(\\theta) = \\max_{\\theta} \\frac{1}{n}\\sum_{i=1}^n \\log P_\\theta({x}^{(i)}, y^{(i)}).\n",
    "$$"
   ]
  },
  {
   "cell_type": "markdown",
   "id": "c7b86019",
   "metadata": {
    "slideshow": {
     "slide_type": "skip"
    }
   },
   "source": [
    "# Example: Flipping a Random Coin\n",
    "\n",
    "Our log-likelihood function is\n",
    "\\begin{eqnarray}\n",
    "\\nonumber\n",
    "L(\\theta) &=& \\theta^{\\#\\,\\text{heads}} \\cdot (1-\\theta)^{\\#\\,\\text{tails}}\\\\\n",
    "\\nonumber\n",
    "\\log L(\\theta) &=& \\log(\\theta^{\\#\\,\\text{heads}} \\cdot (1-\\theta)^{\\#\\,\\text{tails}}) \\\\\n",
    "\\nonumber\n",
    "&=& \\#\\,\\text{heads} \\cdot \\log(\\theta) + \\#\\,\\text{tails} \\cdot \\log(1-\\theta)\n",
    "\\end{eqnarray}\n",
    "The maximum likelihood estimate is the $\\theta^* \\in [0,1]$ such that $\\log L(\\theta^*)$ is maximized."
   ]
  },
  {
   "cell_type": "markdown",
   "id": "40642558",
   "metadata": {
    "slideshow": {
     "slide_type": "skip"
    }
   },
   "source": [
    "Differentiating the log-likelihood function with respect to $\\theta$ and setting the derivative to zero, we obtain\n",
    "$$\\theta^*= \\frac{\\#\\,\\text{heads}}{\\#\\,\\text{heads}+\\#\\,\\text{tails}}$$"
   ]
  },
  {
   "cell_type": "markdown",
   "id": "a9478d04",
   "metadata": {
    "slideshow": {
     "slide_type": "slide"
    }
   },
   "source": [
    "# Conditional Maximum Likelihood\n",
    "\n",
    "Often, a machine learning model defines a *conditional* model $P_\\theta(y | x)$. In this setting, we can maximize the *conditional maximum likelihood*:\n",
    "\n",
    "$$ \\max_\\theta \\frac{1}{n}\\sum_{i=1}^n \\log P_\\theta(y^{(i)}|{x}^{(i)}). $$\n",
    "\n",
    "**This asks that for each input $x^{(i)}$ in the dataset $\\mathcal{D}$, $P_\\theta$ should assign a high probability to the correct target $y^{(i)}$.**"
   ]
  },
  {
   "cell_type": "markdown",
   "id": "0871ecea",
   "metadata": {
    "slideshow": {
     "slide_type": "skip"
    }
   },
   "source": [
    "# KL Divergences and Max Likelihood\n",
    "\n",
    "Maximizing likelihood is closely related to minimizing the Kullback-Leibler (KL) divergence $D(\\cdot\\|\\cdot)$ between the model distribution and the data distribution.\n",
    "$$\n",
    "D(p \\| q) = \\sum_{{\\bf x}} p({\\bf x}) \\log \\frac{p({\\bf x})}{q({\\bf x})}.\n",
    "$$\n",
    "The KL divergence is always non-negative, and equals zero when $p$ and $q$ are identical. This makes it a natural measure of similarity that's useful for comparing distributions. \n",
    "\n",
    "在统计学意义上来说，KL散度可以用来衡量两个分布之间的差异程度。若两者差异越小，KL散度越小，反之亦反。当两分布一致时，其KL散度为0。"
   ]
  },
  {
   "cell_type": "markdown",
   "id": "f27b51bd",
   "metadata": {
    "slideshow": {
     "slide_type": "skip"
    }
   },
   "source": [
    "Let $\\hat{P}(x, y)$ denote the *empirical* distribution of the data:\n",
    "\n",
    "$$\n",
    "\\hat{P}(x, y) = \\begin{cases}\n",
    "\\frac{1}{n} & \\text{if } (x,y) \\in \\mathcal{D} \\\\\n",
    "0 & \\text{otherwise.}\n",
    "\\end{cases}\n",
    "$$\n",
    "\n",
    "This distribution assigns a probability of $1/n$ to each of the data points in $\\mathcal{D}$ (and zero to all the other possible $(x,y)$); it can be seen as a guess of the true data distribution from which the dataset $\\mathcal{D}$ was obtained."
   ]
  },
  {
   "cell_type": "markdown",
   "id": "968f1cd1",
   "metadata": {
    "slideshow": {
     "slide_type": "skip"
    }
   },
   "source": [
    "Selecting parameters $\\theta$ by maximizing the likelihood is equivalent to selecting $\\theta$ that minimizes the KL divergence between the empirical data distribution and the model distribution:\n",
    "\n",
    "\\begin{align*}\n",
    "\\max_{\\theta} \\frac{1}{n} \\sum_{i=1}^n \\log P_\\theta({x}^{(i)}, y^{(i)})\n",
    "& = \\max_{\\theta} \\mathbb{E}_{\\hat{P}(x, y)} \\left[ \\log P_\\theta(x,y) \\right] \\\\\n",
    "& = \\min_{\\theta} KL(\\hat{P}(x,y) || P_\\theta(x,y) ).\n",
    "\\end{align*}\n",
    "\n",
    "Here, $\\mathbb{E}_{p(x)} f(x)$ denotes $\\sum_{x \\in \\mathcal{X}} f(x) p(x)$ if $x$ is discrete and $\\int_{x \\in \\mathcal{X}} f(x) p(x) dx$ if $x$ is continuous."
   ]
  },
  {
   "cell_type": "markdown",
   "id": "f4aa50f8",
   "metadata": {
    "slideshow": {
     "slide_type": "skip"
    }
   },
   "source": [
    "The same is true for conditional log-likelihood (homework problem!):\n",
    "\n",
    "$$\n",
    "\\max_{\\theta} \\mathbb{E}_{\\hat{P}(x, y)} \\left[ \\log P_\\theta(y|x) \\right] = \\min_{\\theta} \\mathbb{E}_{\\hat{P}(x)} \\left[ KL(\\hat{P}(y|x) || P_\\theta(y|x) )\\right].\n",
    "$$"
   ]
  },
  {
   "cell_type": "markdown",
   "id": "20e28725",
   "metadata": {
    "slideshow": {
     "slide_type": "slide"
    }
   },
   "source": [
    "# Recall: Ordinary Least Squares\n",
    "\n",
    "Recall that in ordinary least squares (OLS), we have a linear model of the form\n",
    "$$f(x) = \\sum_{j=0}^d \\theta_j \\cdot x_j = \\theta^\\top x.$$\n",
    "\n",
    "At each training instance $(x,y)$, we seek to minimize the squared error\n",
    "$$(y - \\theta^\\top x)^2.$$"
   ]
  },
  {
   "cell_type": "markdown",
   "id": "ac4ccf2b",
   "metadata": {
    "slideshow": {
     "slide_type": "slide"
    }
   },
   "source": [
    "# Maximum Likelihood Interpretation of OLS\n",
    "\n",
    "Let's make our usual linear regression model probabilistic: assume that the targets and the inputs are related by\n",
    "\n",
    "$$ y = \\theta^\\top x + \\epsilon, $$\n",
    "\n",
    "where $\\epsilon \\sim \\mathcal{N}(0,\\sigma^2)$ is a random noise term that follows a Gaussian (or \"Normal\") distribution."
   ]
  },
  {
   "cell_type": "markdown",
   "id": "0edf73ff",
   "metadata": {
    "slideshow": {
     "slide_type": "subslide"
    }
   },
   "source": [
    "The density of $\\epsilon \\sim \\mathcal{N}(0,\\sigma^2)$ is a Gaussian distribution:\n",
    "$$ P(\\epsilon; \\sigma) = \\frac{1}{\\sqrt{2\\pi}\\sigma} \\exp\\left( -\\frac{\\epsilon^2}{2 \\sigma^2} \\right).$$"
   ]
  },
  {
   "cell_type": "markdown",
   "id": "973bb9b2",
   "metadata": {
    "slideshow": {
     "slide_type": "fragment"
    }
   },
   "source": [
    "This implies that\n",
    "$$ P(y | x; \\theta) = \\frac{1}{\\sqrt{2\\pi}\\sigma} \\exp\\left( -\\frac{(y - \\theta^\\top x)^2}{2 \\sigma^2} \\right).$$\n",
    "This is a Gaussian distribution with mean $\\mu_\\theta(x) = \\theta^\\top x$ and variance $\\sigma^2$. \n",
    "\n",
    "Given an input of $x$, this model outputs a \"mini Bell curve\" with width $\\sigma$ around the mean $\\mu(x) = \\sigma^\\top x$."
   ]
  },
  {
   "cell_type": "markdown",
   "id": "7560f4f8",
   "metadata": {
    "slideshow": {
     "slide_type": "subslide"
    }
   },
   "source": [
    "Let's now learn the parameters $\\theta$ of \n",
    "$$ P(y | x; \\theta) = \\frac{1}{\\sqrt{2\\pi}\\sigma} \\exp\\left( -\\frac{(y - \\theta^\\top x)^2}{2 \\sigma^2} \\right)$$\n",
    "using maximum likelihood. \n",
    "\n",
    "The log-likelihood of this model at a point $(x,y)$ equals\n",
    "\n",
    "\\begin{align*}\n",
    "\\log L(\\theta) = \\log p(y | x; \\theta) = \\text{const}_1 \\cdot (y - \\theta^\\top x)^2 + \\text{const}_2\n",
    "\\end{align*}\n",
    "\n",
    "for some constants $\\text{const}_1, \\text{const}_2$. But that's just the least squares objective!"
   ]
  },
  {
   "cell_type": "markdown",
   "id": "e5285b55",
   "metadata": {
    "slideshow": {
     "slide_type": "fragment"
    }
   },
   "source": [
    "Least squares thus amounts to fitting a Gaussian  model $\\mathcal{N}(y; \\mu(x), \\sigma)$ with a standard deviation $\\sigma$ of one and a mean of $\\mu(x) = \\theta^\\top x$."
   ]
  },
  {
   "cell_type": "markdown",
   "id": "be39bc37",
   "metadata": {
    "slideshow": {
     "slide_type": "subslide"
    }
   },
   "source": [
    "Note in particular that **OLS implicitly makes the assumption that the noise is Gaussian around the mean.** \n",
    "\n",
    "When that's not the case, you may want to also experiment with other kinds of models."
   ]
  },
  {
   "cell_type": "markdown",
   "id": "e9c1cc4f",
   "metadata": {
    "slideshow": {
     "slide_type": "slide"
    }
   },
   "source": [
    "# Logistic Regression\n",
    "\n",
    "Recall that a logistic model defines (\"parameterizes\") a probability distribution $P_\\theta(y|x) : \\mathcal{X} \\times \\mathcal{Y} \\to [0,1]$ as follows:\n",
    "\n",
    "\\begin{align*}\n",
    "P_\\theta(y=1 | x) & = \\sigma(\\theta^\\top x) \\\\\n",
    "P_\\theta(y=0 | x) & = 1-\\sigma(\\theta^\\top x).\n",
    "\\end{align*}"
   ]
  },
  {
   "cell_type": "markdown",
   "id": "104ff82f",
   "metadata": {
    "slideshow": {
     "slide_type": "fragment"
    }
   },
   "source": [
    "When $y \\in \\{0,1\\}$, can write this more compactly as\n",
    "\\begin{align*}\n",
    "P_\\theta(y | x) = \\sigma(\\theta^\\top x)^y \\cdot (1-\\sigma(\\theta^\\top x))^{1-y}\n",
    "\\end{align*}"
   ]
  },
  {
   "cell_type": "markdown",
   "id": "f731b7f5",
   "metadata": {
    "slideshow": {
     "slide_type": "slide"
    }
   },
   "source": [
    "# Applying Maximum Lilkelihood - Log Loss\n",
    "\n",
    "Following the principle of maximum likelihood, we want to optimize the following objective defined over a binary classification dataset  $\\mathcal{D} = \\{(x^{(1)}, y^{(1)}), (x^{(2)}, y^{(2)}), \\ldots, (x^{(n)}, y^{(n)})\\}$.\n",
    "\\begin{align*}\n",
    "\\ell(\\theta) & = \\frac{1}{n}\\sum_{i=1}^n \\log P_\\theta (y^{(i)} \\mid x^{(i)}) \\\\\n",
    "& = \\frac{1}{n}\\sum_{i=1}^n \\log \\sigma(\\theta^\\top x^{(i)})^{y^{(i)}} \\cdot (1-\\sigma(\\theta^\\top x^{(i)}))^{1-y^{(i)}} \\\\\n",
    "& = \\frac{1}{n}\\sum_{i=1}^n {y^{(i)}} \\cdot \\log \\sigma(\\theta^\\top x^{(i)}) + (1-y^{(i)}) \\cdot \\log (1-\\sigma(\\theta^\\top x^{(i)})).\n",
    "\\end{align*}\n",
    "\n",
    "This objective is also often called the **log-loss, or cross-entropy.**"
   ]
  },
  {
   "cell_type": "markdown",
   "id": "eed652d5",
   "metadata": {
    "slideshow": {
     "slide_type": "subslide"
    }
   },
   "source": [
    "Observe that this objective asks the model to ouput a large score $\\sigma(\\theta^\\top x^{(i)})$ (a score that's close to one) if $y^{(i)}=1$, and a score that's small (close to zero) if $y^{(i)}=0$."
   ]
  },
  {
   "cell_type": "markdown",
   "id": "477c9e30",
   "metadata": {
    "slideshow": {
     "slide_type": "slide"
    }
   },
   "source": [
    "# Gradient of the Log-Likelihood\n",
    "\n",
    "We want to use gradient descent to maximize the log-likelihood, hence our objective is\n",
    "$J(\\theta) = - \\ell(\\theta).$\n",
    "\n",
    "We can show that the gradient of the negative log-likelihood equals:\n",
    "\\begin{align*}\n",
    "\\nabla_\\theta J (\\theta) =  \\nabla_\\theta \\left[-\\ell (\\theta) \\right]= \n",
    "\\left( \\sigma(\\theta^\\top x) - y \\right) \\cdot \\bf{x}.\n",
    "\\end{align*}\n",
    "\n",
    "Interestingly, this expression looks similar to the gradient of the mean squared error, which we derived in the previous lecture."
   ]
  },
  {
   "cell_type": "markdown",
   "id": "56ade52b",
   "metadata": {
    "slideshow": {
     "slide_type": "slide"
    }
   },
   "source": [
    "# Algorithm: Logistic Regression\n",
    "\n",
    "* __Type__: Supervised learning (binary classification)\n",
    "* __Model family__: Linear decision boundaries.\n",
    "* __Objective function__: Cross-entropy, a special case of log-likelihood.\n",
    "* __Optimizer__: Gradient descent.\n",
    "* __Probabilistic interpretation__: Parametrized Bernoulli distribution."
   ]
  },
  {
   "cell_type": "markdown",
   "id": "9b67c039",
   "metadata": {
    "slideshow": {
     "slide_type": "slide"
    }
   },
   "source": [
    "# Observations About Logistic Regression\n",
    "\n",
    "* Logistic regression finds a linear decision boundary. This is the set of points for which $P(y=1|x)=P(y=0|x)$, or equivalently:\n",
    "\\begin{align*}\n",
    "0 = \\log\\frac{P(y=1|x)}{P(y=0|x)}\n",
    "= \\log \\frac{\\frac{1}{1+\\exp(-\\theta^\\top x)}}{1-\\frac{1}{1+\\exp(-\\theta^\\top x)}}\n",
    "= \\theta^\\top x\n",
    "\\end{align*}\n",
    "The set of $x$ for which $0=\\theta^\\top x$ is a linear surface."
   ]
  },
  {
   "cell_type": "markdown",
   "id": "dd50d5b6",
   "metadata": {
    "slideshow": {
     "slide_type": "fragment"
    }
   },
   "source": [
    "* Unlike least squares, we don't have a closed form solution (a formula) for the optimal $\\theta$. We can nonetheless find it numerically via gradient descent."
   ]
  },
  {
   "cell_type": "markdown",
   "id": "7258f7c3",
   "metadata": {
    "slideshow": {
     "slide_type": "slide"
    }
   },
   "source": [
    "# Multi-Class Classification\n",
    "\n",
    "Logistic regression only applies to binary classification problems. What if we have an arbitrary number of classes $K$?"
   ]
  },
  {
   "cell_type": "markdown",
   "id": "1a77455e",
   "metadata": {
    "slideshow": {
     "slide_type": "slide"
    }
   },
   "source": [
    "# Algorithm: Softmax Regression\n",
    "\n",
    "* __Type__: Supervised learning (multi-class classification)\n",
    "* __Model family__: Linear decision boundaries.\n",
    "* __Objective function__: Softmax loss, a special case of log-likelihood.\n",
    "* __Optimizer__: Gradient descent.\n",
    "* __Probabilistic interpretation__: Parametrized categorical distribution."
   ]
  },
  {
   "cell_type": "markdown",
   "id": "cf187a9b",
   "metadata": {
    "slideshow": {
     "slide_type": "slide"
    }
   },
   "source": [
    "# The Softmax Function\n",
    "\n",
    "The logistic function $\\sigma : \\mathbb{R} \\to [0,1]$ \"squeezes\" the score $z\\in\\mathbb{R}$ of a class into a probability in $[0,1]$."
   ]
  },
  {
   "cell_type": "markdown",
   "id": "b1743498",
   "metadata": {
    "slideshow": {
     "slide_type": "fragment"
    }
   },
   "source": [
    "The *softmax* function $\\vec \\sigma : \\mathbb{R}^K \\to [0,1]^K$ is a multi-class version of $\\sigma$ \n",
    "* It takes in a $K$-dimensional *vector* of class scores $\\vec z\\in\\mathbb{R}$ \n",
    "* It \"squeezes\" $\\vec z$ into a length $K$ *vector* of  probabilities in $[0,1]^K$"
   ]
  },
  {
   "cell_type": "markdown",
   "id": "0bfb2ab7",
   "metadata": {
    "slideshow": {
     "slide_type": "subslide"
    }
   },
   "source": [
    "The $k$-th component of the output of the softmax function $\\vec \\sigma$ is defined as\n",
    "$$ \\sigma(\\vec z)_k = \\frac{\\exp(z_k)}{\\sum_{l=1}^K \\exp(z_l)}. $$\n",
    "\n",
    "Softmax takes a vector of scores $\\vec z$, exponentiates each score $z_k$, and normalizes the exponentiated scores such that they sum to one."
   ]
  },
  {
   "cell_type": "markdown",
   "id": "1e3f142d",
   "metadata": {
    "slideshow": {
     "slide_type": "subslide"
    }
   },
   "source": [
    "When $K=2$, this looks as follows:\n",
    "$$ \\sigma(\\vec z)_1 = \\frac{\\exp(z_1)}{\\exp(z_1) + \\exp(z_2)}. $$"
   ]
  },
  {
   "cell_type": "markdown",
   "id": "5c366288",
   "metadata": {
    "slideshow": {
     "slide_type": "fragment"
    }
   },
   "source": [
    "Observe that adding a constant $c \\in \\mathbb{R}$ to each score $z_k$ doesn't change the output of softmax, e.g.:\n",
    "$$ \\frac{\\exp(z_1)}{\\exp(z_1) + \\exp(z_2)} = \\frac{\\exp(z_1+c)}{\\exp(z_1+c) + \\exp(z_2+c)}. $$"
   ]
  },
  {
   "cell_type": "markdown",
   "id": "f46fd51a",
   "metadata": {
    "slideshow": {
     "slide_type": "fragment"
    }
   },
   "source": [
    "Without loss of generality, we can assume $z_1=0$. For any $\\vec z = (z_1, z_2)$, we can define $\\vec z' = (0, z_2') = (0, z_2-z_1)$ such that $\\vec\\sigma(\\vec z) = \\vec\\sigma(\\vec z')$. Assuming $z_1=0$ doesn't change the probabilities that $\\vec\\sigma$ can output."
   ]
  },
  {
   "cell_type": "markdown",
   "id": "27af4303",
   "metadata": {
    "slideshow": {
     "slide_type": "subslide"
    }
   },
   "source": [
    "Assuming that $z_1 =0$ means that $\\exp(z_1) = 1$ and softmax becomes\n",
    "$$ \\sigma(\\vec z)_1 = \\frac{1}{1 + \\exp(z_2)}. $$\n",
    "This is effectively our sigmoid function. Hence softmax generalizes the sigmoid function."
   ]
  },
  {
   "cell_type": "markdown",
   "id": "cb369ba0",
   "metadata": {
    "slideshow": {
     "slide_type": "slide"
    }
   },
   "source": [
    "# Softmax Regression: Model Class\n",
    "\n",
    "Softmax regression is a multi-class classification algorithm which uses a model $f_\\theta : \\mathcal{X} \\to [0,1]^K$ that generalizes logistic regression."
   ]
  },
  {
   "cell_type": "markdown",
   "id": "a22114ca",
   "metadata": {
    "slideshow": {
     "slide_type": "subslide"
    }
   },
   "source": [
    "Softmax regression works as follows:\n",
    "1. Given an input $x$, we compute $K$ scores, one per class. The score \n",
    "$$z_k = \\theta_k^\\top x$$\n",
    "of class $k$ is a linear function of $x$ and parameters $\\theta_k$ for class $k$"
   ]
  },
  {
   "cell_type": "markdown",
   "id": "728b3e2d",
   "metadata": {
    "slideshow": {
     "slide_type": "fragment"
    }
   },
   "source": [
    "2. We \"squeeze\" the vector of scores $\\vec z$ into $[0,1]^K$ using the softmax function $\\vec\\sigma$ and we output $\\vec\\sigma(\\vec z)$, a vector of $K$ probabilities."
   ]
  },
  {
   "cell_type": "markdown",
   "id": "d2b15d9a",
   "metadata": {
    "slideshow": {
     "slide_type": "fragment"
    }
   },
   "source": [
    "The parameters of this model are $\\theta = (\\theta_1, \\theta_2, ..., \\theta_K)$, and the parameter space is $\\Theta = \\mathbb{R}^{K \\times d}$."
   ]
  },
  {
   "cell_type": "markdown",
   "id": "feb4c3a3",
   "metadata": {
    "slideshow": {
     "slide_type": "subslide"
    }
   },
   "source": [
    "The output of the model is a *vector* of class membership probabilities, whose $k$-th component $f_\\theta(x)_k$ is\n",
    "$$ f_\\theta(x)_k = \\sigma(\\theta_k^\\top x)_k = \\frac{\\exp(\\theta_k^\\top x)}{\\sum_{l=1}^K \\exp(\\theta_l^\\top x)}, $$\n",
    "where each $\\theta_l \\in \\mathbb{R}^d$  is the vector of parameters for class $\\ell$ and $\\theta = (\\theta_1, \\theta_2, ..., \\theta_K)$."
   ]
  },
  {
   "cell_type": "markdown",
   "id": "f8cfbf11",
   "metadata": {
    "slideshow": {
     "slide_type": "subslide"
    }
   },
   "source": [
    "**This model is again over-parametrized: adding a constant $c \\in \\mathbb{R}$ to every score $\\theta_k^\\top x$ does not change the output of the model.**\n",
    "\n",
    "Over-parametrization (which means having more model parameters than necessary) means that we are fitting a richer model than necessary. "
   ]
  },
  {
   "cell_type": "markdown",
   "id": "0725a438",
   "metadata": {
    "slideshow": {
     "slide_type": "fragment"
    }
   },
   "source": [
    "As before, we can assume without loss of generality that $z_1=0$ (or equivalently that $\\theta_1=0$). This doesn't change the set of functions $\\mathcal{X} \\to [0,1]^K$ that our model class can represent."
   ]
  },
  {
   "cell_type": "markdown",
   "id": "0cbe1af9",
   "metadata": {
    "slideshow": {
     "slide_type": "subslide"
    }
   },
   "source": [
    "Note again that softmax regression is actually a __classification__ algorithm.\n",
    "\n",
    "The term *regression* is an unfortunate historical misnomer."
   ]
  },
  {
   "cell_type": "markdown",
   "id": "5c92f385",
   "metadata": {
    "slideshow": {
     "slide_type": "slide"
    }
   },
   "source": [
    "# Softmax Regression: Probabilistic Interpretation - Parametrized Categorical Distribution\n",
    "\n",
    "The softmax model outputs a vector of probabilities, and defines a conditional probability distribution as follows:\n",
    "\n",
    "\\begin{align*}\n",
    "P_\\theta(y=k | x) & = \\vec\\sigma(\\vec z)_k =\\frac{\\exp(\\theta_k^\\top x)}{\\sum_{l=1}^K \\exp(\\theta_l^\\top x)}.\n",
    "\\end{align*}\n",
    "\n",
    "Recall that a probability over $y\\in \\{1,2,...,K\\}$ is called Categorical."
   ]
  },
  {
   "cell_type": "markdown",
   "id": "57a108db",
   "metadata": {
    "slideshow": {
     "slide_type": "slide"
    }
   },
   "source": [
    "# Softmax Regression: Learning Objective\n",
    "\n",
    "We again maximize likelihood over a dataset  $\\mathcal{D}$.\n",
    "\\begin{align*}\n",
    "L(\\theta) & = \\prod_{i=1}^n P_\\theta (y^{(i)} \\mid x^{(i)}) = \\prod_{i=1}^n \\vec \\sigma(\\vec z^{(i)})_{y^{(i)}} \\\\\n",
    "& = \\prod_{i=1}^n \\left( \\frac{\\exp(\\theta_{y^{(i)}}^\\top x^{(i)})}{\\sum_{l=1}^K \\exp(\\theta_l^\\top x^{(i)})} \\right). \\\\\n",
    "\\end{align*}\n",
    "\n",
    "We optimize this using gradient descent."
   ]
  },
  {
   "cell_type": "markdown",
   "id": "67f359c7",
   "metadata": {
    "colab_type": "text",
    "id": "i_f5u2x9nn6I",
    "slideshow": {
     "slide_type": "slide"
    }
   },
   "source": [
    "<left><img width=25% src=\"img/cornell_tech2.svg\"></left>\n",
    "\n",
    "# Lecture 5: Foundations of Supervised Learning\n",
    "\n",
    "### Applied Machine Learning\n",
    "\n",
    "__Volodymyr Kuleshov__<br>Cornell Tech"
   ]
  },
  {
   "cell_type": "markdown",
   "id": "52eb408c",
   "metadata": {
    "slideshow": {
     "slide_type": "slide"
    }
   },
   "source": [
    "# What Is A Good Supervised Learning Model?\n",
    "\n",
    "A good predictive model is one that makes __accurate predictions__ on __new data__ that it has not seen at training time.\n",
    "\n",
    "* Accurate object detection in new scenes\n",
    "* Correct translation of new sentences"
   ]
  },
  {
   "cell_type": "markdown",
   "id": "eb6b5474",
   "metadata": {
    "slideshow": {
     "slide_type": "slide"
    }
   },
   "source": [
    "# Holdout Dataset: Definition\n",
    "\n",
    "A holdout dataset \n",
    "\n",
    "$$\\dot{\\mathcal{D}} = \\{(\\dot{x}^{(i)}, \\dot{y}^{(i)}) \\mid i = 1,2,...,m\\}$$\n",
    "\n",
    "is sampled IID from the same distribution $\\mathbb{P}$, and is distinct from the training dataset $\\mathcal{D}$."
   ]
  },
  {
   "cell_type": "markdown",
   "id": "0bfcd89f",
   "metadata": {
    "slideshow": {
     "slide_type": "slide"
    }
   },
   "source": [
    "# Performance on a Holdout Set\n",
    "\n",
    "Intuitively, a supervised model $f_\\theta$ is successful if it performs well on a holdout set $\\dot{\\mathcal{D}}$ according to some measure\n",
    "\n",
    "$$\n",
    "\\frac{1}{m} \\sum_{i=1}^m L\\left(\\dot y^{(i)}, f_\\theta(\\dot x^{(i)}) \\right).\n",
    "$$\n",
    "\n",
    "**Here, $L : \\mathcal{X}\\times\\mathcal{Y} \\to \\mathbb{R}$ is a performance metric or a loss function that we get to choose.**"
   ]
  },
  {
   "cell_type": "markdown",
   "id": "23504f2e",
   "metadata": {
    "slideshow": {
     "slide_type": "subslide"
    }
   },
   "source": [
    "The choice of the performance metric $L$ depends on the specific problem and our goals:\n",
    "* $L$ can be the training objective: mean squared error, cross-entropy\n",
    "* In classification, $L$ is often just accuracy: is $\\dot y^{(i)} = f_\\theta(\\dot x^{(i)})$?\n",
    "* $L$ can also implement a task-specific metric: $R^2$ metric (see Homework 1) for regression, F1 score for document retrieval, etc."
   ]
  },
  {
   "cell_type": "markdown",
   "id": "89085c43",
   "metadata": {
    "slideshow": {
     "slide_type": "subslide"
    }
   },
   "source": [
    "For example, in a classification setting, we may be interested in the accuracy of the model. Thus, we want the % of misclassified inputs\n",
    "$$\n",
    "\\frac{1}{m} \\sum_{i=1}^m \\mathbb{I}\\left(\\dot y^{(i)} \\neq f_\\theta(\\dot x^{(i)}) \\right)\n",
    "$$\n",
    "to be small. \n",
    "\n",
    "Here $\\mathbb{I}\\left( A \\right)$ is an *indicator* function that equals one if $A$ is true and zero otherwise."
   ]
  },
  {
   "cell_type": "markdown",
   "id": "6f71bde7",
   "metadata": {
    "slideshow": {
     "slide_type": "subslide"
    }
   },
   "source": [
    "In practice, there exist many different holdout sets $\\dot{\\mathcal{D}}$, and we want our model to perform well on all of them."
   ]
  },
  {
   "cell_type": "markdown",
   "id": "392ecdff",
   "metadata": {
    "slideshow": {
     "slide_type": "slide"
    }
   },
   "source": [
    "# Performance on Out-of-Distribution Data\n",
    "\n",
    "Intuitively, a supervised model $f_\\theta$ is successful if it performs well in expectation on new data $\\dot x, \\dot y$ sampled from the data distribution $\\mathbb{P}$:\n",
    "\n",
    "$$\n",
    "\\mathbb{E}_{(\\dot x, \\dot y)\\sim \\mathbb{P}} \\left[ L\\left(\\dot y, f_\\theta(\\dot x \\right)) \\right] \\text{ is \"good\"}.\n",
    "$$\n",
    "\n",
    "Here, $L : \\mathcal{X}\\times\\mathcal{Y} \\to \\mathbb{R}$ is a performance metric and we take its expectation or average over all the possible samples $\\dot x, \\dot y$ from $\\mathbb{P}$."
   ]
  },
  {
   "cell_type": "markdown",
   "id": "d6cfc96f",
   "metadata": {
    "slideshow": {
     "slide_type": "subslide"
    }
   },
   "source": [
    "Recall that formally, an expectation $\\mathbb{E}_{x)\\sim {P}} f(x)$ is $\\sum_{x \\in \\mathcal{X}} f(x) P(x)$ if $x$ is discrete and $\\int_{x \\in \\mathcal{X}} f(x) P(x) dx$ if $x$ is continuous."
   ]
  },
  {
   "cell_type": "markdown",
   "id": "e98c1b54",
   "metadata": {
    "slideshow": {
     "slide_type": "subslide"
    }
   },
   "source": [
    "Intuitively,\n",
    "$$\\mathbb{E}_{(\\dot x, \\dot y)\\sim \\mathbb{P}} \\left[ L\\left(\\dot y, f_\\theta(\\dot x) \\right) \\right]\n",
    "= \\sum_{x \\in \\mathcal{X}} \\sum_{y \\in \\mathcal{Y}} L\\left(y, f_\\theta(x) \\right) \\mathbb{P}(x, y)\n",
    "$$\n",
    "is the performance on an *infinite-sized* holdout set, where we have sampled every possible point.\n"
   ]
  },
  {
   "cell_type": "markdown",
   "id": "dfd9187d",
   "metadata": {
    "slideshow": {
     "slide_type": "subslide"
    }
   },
   "source": [
    "In practice, we cannot measure\n",
    "$$\\mathbb{E}_{(\\dot x, \\dot y)\\sim \\mathbb{P}} \\left[ L\\left(\\dot y, f_\\theta(\\dot x) \\right) \\right]$$\n",
    "on infinite data. \n",
    "\n",
    "We approximate its performance with a sample $\\dot{\\mathcal{D}}$ from $\\mathbb{P}$ and we measure\n",
    "$$\n",
    "\\frac{1}{m} \\sum_{i=1}^m L\\left(\\dot y^{(i)}, f_\\theta(\\dot x^{(i)}) \\right).\n",
    "$$\n",
    "If the number of IID samples $m$ is large, this approximation holds (we call this a Monte Carlo approximation)."
   ]
  },
  {
   "cell_type": "markdown",
   "id": "d592e4ae",
   "metadata": {
    "slideshow": {
     "slide_type": "subslide"
    }
   },
   "source": [
    "For example, in a classification setting, we may be interested in the accuracy of the model. \n",
    "\n",
    "We want a small probability of making an error on a new $\\dot x, \\dot y \\sim \\mathbb{P}$:\n",
    "$$\n",
    "\\mathbb{P}\\left(\\dot y \\neq f_\\theta(\\dot x) \\right) \\text{ is small.}\n",
    "$$"
   ]
  },
  {
   "cell_type": "markdown",
   "id": "3b7fe553",
   "metadata": {
    "slideshow": {
     "slide_type": "fragment"
    }
   },
   "source": [
    "We approximate this via the % of misclassifications on $\\dot{\\mathcal{D}}$ sampled from $\\mathbb{P}$:\n",
    "$$\n",
    "\\frac{1}{m} \\sum_{i=1}^m \\mathbb{I}\\left(\\dot y^{(i)} \\neq f_\\theta(\\dot x^{(i)}) \\right) \\text{ is small.}\n",
    "$$\n",
    "\n",
    "Here, $\\mathbb{I}\\left( A \\right)$ is an *indicator* function that equals one if $A$ is true and zero otherwise."
   ]
  },
  {
   "cell_type": "markdown",
   "id": "2e0986ba",
   "metadata": {
    "slideshow": {
     "slide_type": "subslide"
    }
   },
   "source": [
    "To summarize, a supervised model $f_\\theta$ performs well when\n",
    "\n",
    "$$\n",
    "\\mathbb{E}_{(\\dot x, \\dot y)\\sim \\mathbb{P}} \\left[ L\\left(\\dot y, f_\\theta(\\dot x \\right)) \\right] \\text{ is \"good\"}.\n",
    "$$\n",
    "\n",
    "Under which conditions is supervised learning guaranteed to give us a good model?"
   ]
  },
  {
   "cell_type": "markdown",
   "id": "15cef3c3",
   "metadata": {
    "slideshow": {
     "slide_type": "slide"
    }
   },
   "source": [
    "# Machine Learning Provably Works\n",
    "\n",
    "Suppose that we choose $f \\in \\mathcal{M}$ on a dataset $\\mathcal{D}$ of size $n$ sampled IID from $\\mathbb{P}$ by minimizing\n",
    "$$\n",
    "\\frac{1}{n} \\sum_{i=1}^n L\\left(y^{(i)}, f(x^{(i)}) \\right)\n",
    "$$"
   ]
  },
  {
   "cell_type": "markdown",
   "id": "02481b14",
   "metadata": {
    "slideshow": {
     "slide_type": "fragment"
    }
   },
   "source": [
    "Let $f^*$, the best model in $\\mathcal{M}$:\n",
    "$$\n",
    "f^* = \\arg\\min_f \\mathbb{E}_{(\\dot x, \\dot y)\\sim \\mathbb{P}} \\left[ L\\left(\\dot y, f(\\dot x \\right)) \\right]\n",
    "$$"
   ]
  },
  {
   "cell_type": "markdown",
   "id": "b80fc60c",
   "metadata": {
    "slideshow": {
     "slide_type": "fragment"
    }
   },
   "source": [
    "Then, as $n \\to \\infty$, the performance of $f$ approaches that of $f^*$."
   ]
  },
  {
   "cell_type": "markdown",
   "id": "9f699581",
   "metadata": {
    "slideshow": {
     "slide_type": "slide"
    }
   },
   "source": [
    "# Datasets for Model Development\n",
    "\n",
    "When developing machine learning models, it is customary to work with three datasets: training -> selection -> evaluation\n",
    "* __Training set__: Data on which we train our algorithms.\n",
    "* __Development set__ (validation or holdout set): Data used for tuning algorithms.\n",
    "* __Test set__: Data used to evaluate the final performance of the model."
   ]
  },
  {
   "cell_type": "markdown",
   "id": "7cc9f5b1",
   "metadata": {
    "slideshow": {
     "slide_type": "slide"
    }
   },
   "source": [
    "# Validation and Test Sets\n",
    "\n",
    "These holdout sets are used to esimate real-world performance. How should one choose the development and test set?"
   ]
  },
  {
   "cell_type": "markdown",
   "id": "b2f8deb6",
   "metadata": {
    "slideshow": {
     "slide_type": "fragment"
    }
   },
   "source": [
    "__Distributional Consistency__: The development and test sets should be from the data distribution we will see in production."
   ]
  },
  {
   "cell_type": "markdown",
   "id": "89418a3d",
   "metadata": {
    "slideshow": {
     "slide_type": "fragment"
    }
   },
   "source": [
    "__Dataset Size__: Should be large enough to estimate future performance: 30% of the data on small tasks, ususally up to not more than a few thousand instances."
   ]
  },
  {
   "cell_type": "markdown",
   "id": "6e86e28f",
   "metadata": {
    "slideshow": {
     "slide_type": "slide"
    }
   },
   "source": [
    "# Cross-Validation\n",
    "\n",
    "If we don't have enough data for a validation set, we can do $K$-fold cross-validation.\n",
    "\n",
    "<center><img width=90% src=\"img/kfold_cv.gif\"></center>\n",
    "\n",
    "We group the data into $K$ disjoint folds. We train the model $K$ times, each time using a different fold for testing, and the rest for training."
   ]
  },
  {
   "cell_type": "markdown",
   "id": "3008c76e",
   "metadata": {
    "slideshow": {
     "slide_type": "slide"
    }
   },
   "source": [
    "# Review: Polynomial Regression\n",
    "\n",
    "In 1D polynomial regression, we fit a model\n",
    "$$ f_\\theta(x) := \\theta^\\top \\phi(x) = \\sum_{j=0}^p \\theta_j x^j $$\n",
    "that is linear in $\\theta$ but non-linear in $x$ because the features \n",
    "$$\\phi(x) = [1\\; x\\; \\ldots\\; x^p]$$ \n",
    "are non-linear. Using these features, we can fit any polynomial of degree $p$."
   ]
  },
  {
   "cell_type": "markdown",
   "id": "61158311",
   "metadata": {
    "slideshow": {
     "slide_type": "slide"
    }
   },
   "source": [
    "# Polynomials Fit the Data Well\n",
    "\n",
    "When we switch from linear models to polynomials, we can better fit the data and increase the accuracy of our models."
   ]
  },
  {
   "cell_type": "markdown",
   "id": "fb77cf7a",
   "metadata": {
    "slideshow": {
     "slide_type": "slide"
    }
   },
   "source": [
    "# Towards Higher-Degree Polynomial Features?\n",
    "\n",
    "As we increase the complexity of our model class $\\mathcal{M}$ to include even higher degree polynomials, we are able to fit the data even better."
   ]
  },
  {
   "cell_type": "markdown",
   "id": "c51e7cc9",
   "metadata": {
    "slideshow": {
     "slide_type": "subslide"
    }
   },
   "source": [
    "As the degree of the polynomial increases to the size of the dataset, we are increasingly able to fit every point in the dataset.\n",
    "\n",
    "However, this results in a highly irregular curve: its behavior outside the training set is wildly inaccurate."
   ]
  },
  {
   "cell_type": "markdown",
   "id": "34494ecb",
   "metadata": {
    "slideshow": {
     "slide_type": "slide"
    }
   },
   "source": [
    "# Overfitting\n",
    "\n",
    "Overfitting is one of the most common failure modes of machine learning.\n",
    "* A very expressive model (e.g., a high degree polynomial) fits the training dataset perfectly.\n",
    "* But the model makes highly incorrect predictions outside this dataset, and doesn't generalize."
   ]
  },
  {
   "cell_type": "markdown",
   "id": "9c07c43a",
   "metadata": {
    "slideshow": {
     "slide_type": "slide"
    }
   },
   "source": [
    "# Underfitting\n",
    "\n",
    "A related failure mode is underfitting.\n",
    "\n",
    "* A small model (e.g. a straight line), will not fit the training data well.\n",
    "* Therefore, it will also not be accurate on a holdout set.\n",
    "\n",
    "<!-- __Underfitting__: On one hand, if the model is too small (like the linear model in the above example), it will not generalize well to unseen data because it is not sufficiently complex to fit the true structure of the dataset.\n",
    "\n",
    "__Overfitting__: On the other hand, if the model is too expressive (like a high degree polynomial), we are going to fit the training dataset perfectly; however, the model will make wildly incorrect prediction at points right outside this dataset, and will also not generalize well to unseen data. -->\n",
    "\n",
    "Finding the tradeoff between overfitting and underfitting is one of the main challenges in applying machine learning."
   ]
  },
  {
   "cell_type": "markdown",
   "id": "5e1f44ea",
   "metadata": {
    "slideshow": {
     "slide_type": "slide"
    }
   },
   "source": [
    "# Overfitting vs. Underfitting: Evaluation\n",
    "\n",
    "We can measure overfitting and underfitting by estimating accuracy on held out data and comparing it to the training data.\n",
    "* If training perforance is high but holdout performance is low, we are overfitting.\n",
    "* If training perforance is low but holdout performance is low, we are underfitting."
   ]
  },
  {
   "cell_type": "markdown",
   "id": "0bef6382",
   "metadata": {
    "slideshow": {
     "slide_type": "slide"
    }
   },
   "source": [
    "# How to Fix Underfitting\n",
    "\n",
    "What if our model doesn't fit the training set well? Try the following:\n",
    "* Create richer features that will make the dataset easier to fit.\n",
    "* Use a more expressive model family (neural nets vs. linear models)\n",
    "* Try a better optimization procedure"
   ]
  },
  {
   "cell_type": "markdown",
   "id": "0fe1db56",
   "metadata": {
    "slideshow": {
     "slide_type": "slide"
    }
   },
   "source": [
    "# How to Fix Overfitting\n",
    "\n",
    "We will see many ways of dealing with overftting, but here are some ideas:\n",
    "* Use a simpler model family (linear models vs. neural nets)\n",
    "* Keep the same model, but collect more training data\n",
    "* Modify the training process to **penalize overly complex models.**"
   ]
  },
  {
   "cell_type": "markdown",
   "id": "586755b3",
   "metadata": {
    "slideshow": {
     "slide_type": "slide"
    }
   },
   "source": [
    "# Regularization: Intuition\n",
    "\n",
    "The idea of regularization is to penalize complex models that may overfit the data."
   ]
  },
  {
   "cell_type": "markdown",
   "id": "57f861ec",
   "metadata": {
    "slideshow": {
     "slide_type": "slide"
    }
   },
   "source": [
    "# Regularization: Definition\n",
    "\n",
    "The idea of regularization is to train models with an augmented objective $J : \\mathcal{M} \\to \\mathbb{R}$ defined over a training dataset $\\mathcal{D}$ of size $n$ as\n",
    "\n",
    "$$J(f) = \\underbrace{\\frac{1}{n} \\sum_{i=1}^n L(y^{(i)}, f(x^{(i)}))}_\\text{Learning Objective} + \\underbrace{\\lambda \\cdot R(f)}_\\text{New Regularization Term}$$"
   ]
  },
  {
   "cell_type": "markdown",
   "id": "869f3544",
   "metadata": {
    "slideshow": {
     "slide_type": "subslide"
    }
   },
   "source": [
    "Let's dissect the components of this objective:\n",
    "\n",
    "$$J(f) = \\frac{1}{n} \\sum_{i=1}^n L(y^{(i)}, f(x^{(i)})) + \\lambda \\cdot R(f).$$"
   ]
  },
  {
   "cell_type": "markdown",
   "id": "4286d20c",
   "metadata": {
    "slideshow": {
     "slide_type": "fragment"
    }
   },
   "source": [
    "* A loss function $L(y, f(x))$ such as the mean squared error."
   ]
  },
  {
   "cell_type": "markdown",
   "id": "8f59e33e",
   "metadata": {
    "slideshow": {
     "slide_type": "fragment"
    }
   },
   "source": [
    "* A regularizer $R : \\mathcal{M} \\to \\mathbb{R}$ that penalizes models that are overly complex."
   ]
  },
  {
   "cell_type": "markdown",
   "id": "ffc604fe",
   "metadata": {
    "slideshow": {
     "slide_type": "fragment"
    }
   },
   "source": [
    "* A regularization parameter $\\lambda > 0$, which controls the strength of the regularizer."
   ]
  },
  {
   "cell_type": "markdown",
   "id": "4e320cfe",
   "metadata": {
    "slideshow": {
     "slide_type": "subslide"
    }
   },
   "source": [
    "When the model $f_\\theta$ is parametrized by parameters $\\theta$, we also use the following notation:\n",
    "\n",
    "$$J(\\theta) = \\frac{1}{n} \\sum_{i=1}^n L(y^{(i)}, f_\\theta(x^{(i)})) + \\lambda \\cdot R(\\theta).$$"
   ]
  },
  {
   "cell_type": "markdown",
   "id": "8c462dd9",
   "metadata": {
    "slideshow": {
     "slide_type": "slide"
    }
   },
   "source": [
    "# Algorithm: Ridge Regression\n",
    "\n",
    "* __Type__: Supervised learning (regression)\n",
    "* __Model family__: Linear models\n",
    "* __Objective function__: L2-regularized mean squared error\n",
    "* __Optimizer__: Normal equations"
   ]
  },
  {
   "cell_type": "markdown",
   "id": "9c8b6650",
   "metadata": {
    "slideshow": {
     "slide_type": "slide"
    }
   },
   "source": [
    "# L2 Regularization: Definition\n",
    "\n",
    "How can we define a regularizer $R: \\mathcal{M} \\to \\mathbb{R}$ to control the complexity of a model $f \\in \\mathcal{M}$?"
   ]
  },
  {
   "cell_type": "markdown",
   "id": "ba4bc4e7",
   "metadata": {
    "slideshow": {
     "slide_type": "fragment"
    }
   },
   "source": [
    "In the context of linear models $f_\\theta(x) = \\theta^\\top x$, a widely used approach is L2 regularization, which defines the following objective:\n",
    "$$J(\\theta) = \\frac{1}{n} \\sum_{i=1}^n L(y^{(i)}, \\theta^\\top x^{(i)}) + \\frac{\\lambda}{2} \\cdot ||\\theta||_2^2.$$"
   ]
  },
  {
   "cell_type": "markdown",
   "id": "681489eb",
   "metadata": {
    "slideshow": {
     "slide_type": "subslide"
    }
   },
   "source": [
    "Let's dissect the components of this objective.\n",
    "$$J(\\theta) = \\frac{1}{n} \\sum_{i=1}^n L(y^{(i)}, \\theta^\\top x^{(i)}) + \\frac{\\lambda}{2} \\cdot ||\\theta||_2^2.$$"
   ]
  },
  {
   "cell_type": "markdown",
   "id": "1d840e9d",
   "metadata": {
    "slideshow": {
     "slide_type": "fragment"
    }
   },
   "source": [
    "* The regularizer $R : \\Theta \\to \\mathbb{R}$ is the function \n",
    "$R(\\theta) = ||\\theta||_2^2 = \\sum_{j=1}^d \\theta_j^2.$ \n",
    "This is also known as the L2 norm of $\\theta$."
   ]
  },
  {
   "cell_type": "markdown",
   "id": "e3cead06",
   "metadata": {
    "slideshow": {
     "slide_type": "fragment"
    }
   },
   "source": [
    "* The regularizer penalizes large parameters. This prevents us from relying on any single feature and penalizes very irregular solutions."
   ]
  },
  {
   "cell_type": "markdown",
   "id": "e2033e9a",
   "metadata": {
    "slideshow": {
     "slide_type": "fragment"
    }
   },
   "source": [
    "* L2 regularization can be used with most models (linear, neural, etc.)"
   ]
  },
  {
   "cell_type": "markdown",
   "id": "2ee921df",
   "metadata": {
    "slideshow": {
     "slide_type": "slide"
    }
   },
   "source": [
    "# L2 Regularization for Polynomial Regression\n",
    "\n",
    "Let's consider an application to the polynomial model we have seen so far. Given polynomial features $\\phi(x)$, we optimize the following objective:\n",
    "\n",
    "$$ J(\\theta) = \\frac{1}{2n} \\sum_{i=1}^n \\left( y^{(i)} - \\theta^\\top \\phi(x^{(i)}) \\right)^2 + \\frac{\\lambda}{2} \\cdot ||\\theta||_2^2. $$\n"
   ]
  },
  {
   "cell_type": "markdown",
   "id": "90c8b7b5",
   "metadata": {
    "slideshow": {
     "slide_type": "subslide"
    }
   },
   "source": [
    "In order to define a very irregular function, we need very large polynomial weights.\n",
    "\n",
    "Forcing the model to use small weights prevents it from learning irregular functions."
   ]
  },
  {
   "cell_type": "markdown",
   "id": "616239c4",
   "metadata": {
    "slideshow": {
     "slide_type": "slide"
    }
   },
   "source": [
    "# Normal Equations for Regularized Models\n",
    "\n",
    "How, do we fit regularized models? As in the linear case, we can do this easily by deriving generalized normal equations! "
   ]
  },
  {
   "cell_type": "markdown",
   "id": "fa912fcd",
   "metadata": {
    "slideshow": {
     "slide_type": "subslide"
    }
   },
   "source": [
    "Let $L(\\theta) = \\frac{1}{2} (X \\theta - y)^\\top  (X \\theta - y)$ be our least squares objective. We can write the L2-regularized objective as:\n",
    "$$ J(\\theta) = \\frac{1}{2} (X \\theta - y)^\\top  (X \\theta - y) + \\frac{1}{2} \\lambda ||\\theta||_2^2 $$"
   ]
  },
  {
   "cell_type": "markdown",
   "id": "bf869044",
   "metadata": {
    "slideshow": {
     "slide_type": "subslide"
    }
   },
   "source": [
    "This allows us to derive the gradient as follows:\n",
    "\\begin{align*}\n",
    "\\nabla_\\theta J(\\theta) \n",
    "& = \\nabla_\\theta \\left( \\frac{1}{2} (X \\theta - y)^\\top  (X \\theta - y) + \\frac{1}{2} \\lambda ||\\theta||_2^2 \\right) \\\\\n",
    "& = \\nabla_\\theta \\left( L(\\theta) + \\frac{1}{2} \\lambda \\theta^\\top \\theta \\right) \\\\\n",
    "& = \\nabla_\\theta L(\\theta) + \\lambda \\theta \\\\\n",
    "& = (X^\\top X) \\theta - X^\\top y + \\lambda \\theta \\\\\n",
    "& = (X^\\top X + \\lambda I) \\theta - X^\\top y\n",
    "\\end{align*}\n",
    "\n",
    "We used the derivation of the normal equations for least squares to obtain $\\nabla_\\theta L(\\theta)$ as well as the fact that: $\\nabla_x x^\\top x = 2 x$."
   ]
  },
  {
   "cell_type": "markdown",
   "id": "f3f28604",
   "metadata": {
    "slideshow": {
     "slide_type": "subslide"
    }
   },
   "source": [
    "We can set the gradient to zero to obtain normal equations for the Ridge model:\n",
    "$$ (X^\\top X + \\lambda I) \\theta = X^\\top y. $$\n",
    "\n",
    "Hence, the value $\\theta^*$ that minimizes this objective is given by:\n",
    "$$ \\theta^* = (X^\\top X + \\lambda I)^{-1} X^\\top y.$$\n",
    "\n",
    "Note that the matrix $(X^\\top X + \\lambda I)$ is always invertible, which addresses a problem with least squares that we saw earlier."
   ]
  },
  {
   "cell_type": "markdown",
   "id": "c009310a",
   "metadata": {
    "slideshow": {
     "slide_type": "slide"
    }
   },
   "source": [
    "# Algorithm: Lasso\n",
    "\n",
    "L1-regularized linear regression is also known as the Lasso (least absolute shrinkage and selection operator).\n",
    "\n",
    "* __Type__: Supervised learning (regression)\n",
    "* __Model family__: Linear models\n",
    "* __Objective function__: L1-regularized mean squared error\n",
    "* __Optimizer__: gradient descent, coordinate descent, least angle regression (LARS) and others"
   ]
  },
  {
   "cell_type": "markdown",
   "id": "0cbaa6c2",
   "metadata": {
    "slideshow": {
     "slide_type": "slide"
    }
   },
   "source": [
    "# L1 Regularizion: Definition\n",
    "\n",
    "Another closely related approach to regularization is to penalize the size of the weights using the L1 norm.\n",
    "\n",
    "In the context of linear models $f(x) = \\theta^\\top x$, L1 regularization yields the following objective:\n",
    "$$ J(\\theta) = \\frac{1}{n} \\sum_{i=1}^n L(y^{(i)}, \\theta^\\top x^{(i)}) + \\lambda \\cdot ||\\theta||_1. $$"
   ]
  },
  {
   "cell_type": "markdown",
   "id": "ec975ae5",
   "metadata": {
    "slideshow": {
     "slide_type": "subslide"
    }
   },
   "source": [
    "Let's dissect the components of this objective.\n",
    "$$ J(\\theta) = \\frac{1}{n} \\sum_{i=1}^n L(y^{(i)}, \\theta^\\top x^{(i)}) + \\lambda \\cdot ||\\theta||_1. $$"
   ]
  },
  {
   "cell_type": "markdown",
   "id": "4b17008e",
   "metadata": {
    "slideshow": {
     "slide_type": "fragment"
    }
   },
   "source": [
    "* The regularizer $R : \\mathcal{M} \\to \\mathbb{R}$ is \n",
    "$R(\\theta) = ||\\theta||_1 = \\sum_{j=1}^d |\\theta_j|.$ \n",
    "This is known as the L1 norm of $\\theta$."
   ]
  },
  {
   "cell_type": "markdown",
   "id": "7e53fdba",
   "metadata": {
    "slideshow": {
     "slide_type": "fragment"
    }
   },
   "source": [
    "* This regularizer also penalizes large weights. **It additionally forces most weights to decay to zero, as opposed to just being small.**"
   ]
  },
  {
   "cell_type": "markdown",
   "id": "4f65622c",
   "metadata": {
    "slideshow": {
     "slide_type": "slide"
    }
   },
   "source": [
    "# Sparsity: Definition\n",
    "\n",
    "A vector is said to be sparse if a large fraction of its entires is zero."
   ]
  },
  {
   "cell_type": "markdown",
   "id": "d0368eab",
   "metadata": {
    "slideshow": {
     "slide_type": "fragment"
    }
   },
   "source": [
    "L1-regularized linear regression produces *sparse parameters* $\\theta$.\n",
    "* This is makes the model more interpretable\n",
    "* It also makes it computationally more tractable in very large dimensions."
   ]
  },
  {
   "cell_type": "markdown",
   "id": "e8e3b14c",
   "metadata": {
    "slideshow": {
     "slide_type": "slide"
    }
   },
   "source": [
    "# Regularizing via Constraints\n",
    "\n",
    "Consider a regularized problem with a penalty term:\n",
    "$$ \\min_{\\theta \\in \\Theta} L(\\theta) + \\lambda \\cdot R(\\theta). $$"
   ]
  },
  {
   "cell_type": "markdown",
   "id": "4ccb1f84",
   "metadata": {
    "slideshow": {
     "slide_type": "fragment"
    }
   },
   "source": [
    "Alternatively, we may enforce an explicit constraint on the complexity of the model:\n",
    "\\begin{align*}\n",
    "\\min_{\\theta \\in \\Theta} \\; & L(\\theta) \\\\\n",
    "\\text{such that } \\; & R(\\theta) \\leq \\lambda'\n",
    "\\end{align*}"
   ]
  },
  {
   "cell_type": "markdown",
   "id": "08e97386",
   "metadata": {
    "slideshow": {
     "slide_type": "fragment"
    }
   },
   "source": [
    "We will not prove this, but solving this problem is equivalent to solving the penalized problem for some $\\lambda > 0$ that's different from $\\lambda'$."
   ]
  },
  {
   "cell_type": "markdown",
   "id": "05cad643",
   "metadata": {
    "slideshow": {
     "slide_type": "skip"
    }
   },
   "source": [
    "In other words, \n",
    "* We can regularize by explicitly enforcing $R(\\theta)$ to be less than a value instead of penalizing it.\n",
    "* For each value of $\\lambda$, we are implicitly setting a constraint of $R(\\theta)$."
   ]
  },
  {
   "cell_type": "markdown",
   "id": "ec0ad652",
   "metadata": {
    "slideshow": {
     "slide_type": "slide"
    }
   },
   "source": [
    "# L1 vs. L2 Regularization\n",
    "\n",
    "The following image by <a href=\"https://medium.com/uwaterloo-voice/a-deep-dive-into-regularization-eec8ab648bce\">Divakar Kapil</a> and Hastie et al. explains the difference between the two norms.\n",
    "\n",
    "<left><img width=75% src=\"img/l1-vs-l2-annotated.png\"></left>"
   ]
  },
  {
   "cell_type": "markdown",
   "id": "c381ec85",
   "metadata": {
    "slideshow": {
     "slide_type": "slide"
    }
   },
   "source": [
    "# Sparsity: Ridge Model\n",
    "\n",
    "To better understand sparsity, we fit Ridge and Lasso on the UCI diabetes dataset and observe the magnitude of each weight (colored lines) as a function of the regularization parameter.\n",
    "\n",
    "Below is Ridge."
   ]
  },
  {
   "cell_type": "code",
   "execution_count": 15,
   "id": "a549550b",
   "metadata": {
    "slideshow": {
     "slide_type": "skip"
    }
   },
   "outputs": [
    {
     "data": {
      "text/plain": [
       "(4.466835921509635e-06,\n",
       " 223.872113856834,\n",
       " -868.4051623855127,\n",
       " 828.0533448059361)"
      ]
     },
     "execution_count": 15,
     "metadata": {},
     "output_type": "execute_result"
    },
    {
     "data": {
      "image/png": "[encoded data removed]",
      "text/plain": [
       "<Figure size 1008x360 with 1 Axes>"
      ]
     },
     "metadata": {
      "needs_background": "light"
     },
     "output_type": "display_data"
    }
   ],
   "source": [
    "# based on https://scikit-learn.org/stable/auto_examples/linear_model/plot_ridge_path.html\n",
    "from sklearn.datasets import load_diabetes\n",
    "from sklearn.linear_model import Ridge\n",
    "from matplotlib import pyplot as plt\n",
    "\n",
    "X, y = load_diabetes(return_X_y=True)\n",
    "\n",
    "# create ridge coefficients\n",
    "alphas = np.logspace(-5, 2,  )\n",
    "ridge_coefs = []\n",
    "for a in alphas:\n",
    "    ridge = Ridge(alpha=a, fit_intercept=False)\n",
    "    ridge.fit(X, y)\n",
    "    ridge_coefs.append(ridge.coef_)\n",
    "\n",
    "# plot ridge coefficients\n",
    "plt.figure(figsize=(14, 5))\n",
    "plt.plot(alphas, ridge_coefs)\n",
    "plt.xscale('log')\n",
    "plt.xlabel('Regularization parameter (lambda)')\n",
    "plt.ylabel('Magnitude of model parameters')\n",
    "plt.title('Ridge coefficients as a function of the regularization')\n",
    "plt.axis('tight')"
   ]
  },
  {
   "cell_type": "markdown",
   "id": "94d728a0",
   "metadata": {
    "slideshow": {
     "slide_type": "slide"
    }
   },
   "source": [
    "# Sparsity: Ridge vs. Lasso\n",
    "\n",
    "The Ridge model does not produce sparse weights. Let's now compare it to a Lasso model.\n",
    "\n",
    "Observe how the Lasso parameters become progressively smaller, until they reach exactly zero, and then they stay at zero."
   ]
  },
  {
   "cell_type": "code",
   "execution_count": 17,
   "id": "88dcc23a",
   "metadata": {
    "scrolled": true
   },
   "outputs": [
    {
     "data": {
      "text/plain": [
       "(-133.00520290292727, 3673.000247757282, -869.357335763701, 828.4524952229654)"
      ]
     },
     "execution_count": 17,
     "metadata": {},
     "output_type": "execute_result"
    },
    {
     "data": {
      "image/png": "[encoded data removed]",
      "text/plain": [
       "<Figure size 1008x360 with 2 Axes>"
      ]
     },
     "metadata": {
      "needs_background": "light"
     },
     "output_type": "display_data"
    }
   ],
   "source": [
    "# Based on: https://scikit-learn.org/stable/auto_examples/linear_model/plot_lasso_lars.html\n",
    "import warnings\n",
    "warnings.filterwarnings(\"ignore\")\n",
    "from sklearn.datasets import load_diabetes\n",
    "from sklearn.linear_model import lars_path\n",
    "\n",
    "# create lasso coefficients    \n",
    "X, y = load_diabetes(return_X_y=True)\n",
    "_, _, lasso_coefs = lars_path(X, y, method='lasso')\n",
    "xx = np.sum(np.abs(lasso_coefs.T), axis=1)\n",
    "\n",
    "# plot ridge coefficients\n",
    "plt.figure(figsize=(14, 5))\n",
    "plt.subplot('121')    \n",
    "plt.plot(alphas, ridge_coefs)\n",
    "plt.xscale('log')\n",
    "plt.xlabel('Regularization Strength (lambda)')\n",
    "plt.ylabel('Magnitude of model parameters')\n",
    "plt.title('Ridge coefficients as a function of regularization strength $\\lambda$')\n",
    "plt.axis('tight')\n",
    "\n",
    "# plot lasso coefficients\n",
    "plt.subplot('122') \n",
    "plt.plot(3500-xx, lasso_coefs.T)\n",
    "ymin, ymax = plt.ylim()\n",
    "plt.ylabel('Magnitude of model parameters')\n",
    "plt.xlabel('Regularization Strength (lambda)')\n",
    "plt.title('LASSO coefficients as a function of regularization strength $\\lambda$')\n",
    "plt.axis('tight')"
   ]
  },
  {
   "cell_type": "markdown",
   "id": "fd0e62b6",
   "metadata": {
    "colab_type": "text",
    "id": "i_f5u2x9nn6I",
    "slideshow": {
     "slide_type": "slide"
    }
   },
   "source": [
    "<left><img width=25% src=\"img/cornell_tech2.svg\"></left>\n",
    "\n",
    "# Lecture 6: Generative Models and Naive Bayes\n",
    "\n",
    "### Applied Machine Learning\n",
    "\n",
    "__Volodymyr Kuleshov__<br>Cornell Tech"
   ]
  },
  {
   "cell_type": "markdown",
   "id": "16157d67",
   "metadata": {},
   "source": [
    "# Text Classification\n",
    "\n",
    "An interesting instance of a classification problem is classifying text.\n",
    "* Includes a lot applied problems: spam filtering, fraud detection, medical record classification, etc.\n",
    "* Inputs $x$ are sequences of words of an arbitrary length.\n",
    "* The dimensionality of text inputs is usually very large, proportional to the size of the vocabulary."
   ]
  },
  {
   "cell_type": "markdown",
   "id": "65ea8a09",
   "metadata": {
    "slideshow": {
     "slide_type": "slide"
    }
   },
   "source": [
    "# Bag of Words Representations\n",
    "\n",
    "Perhaps the most widely used approach to representing text documents is called \"bag of words\".\n",
    "\n",
    "We start by defining a vocabulary $V$ containing all the possible words we are interested in, e.g.:\n",
    "$$ V = \\{\\text{church}, \\text{doctor}, \\text{fervently}, \\text{purple}, \\text{slow}, ...\\} $$"
   ]
  },
  {
   "cell_type": "markdown",
   "id": "57f575d6",
   "metadata": {
    "slideshow": {
     "slide_type": "subslide"
    }
   },
   "source": [
    "A bag of words representation of a document $x$ is a function $\\phi(x) \\to \\{0,1\\}^{|V|}$ that outputs a feature vector\n",
    "$$\n",
    "\\phi(x) = \\left( \n",
    "\\begin{array}{c}\n",
    "0 \\\\\n",
    "1 \\\\\n",
    "0 \\\\\n",
    "\\vdots \\\\\n",
    "0 \\\\\n",
    "\\vdots \\\\\n",
    "\\end{array}\n",
    "\\right)\n",
    "\\begin{array}{l}\n",
    "\\;\\text{church} \\\\\n",
    "\\;\\text{doctor} \\\\\n",
    "\\;\\text{fervently} \\\\\n",
    "\\\\\n",
    "\\;\\text{purple} \\\\\n",
    "\\\\\n",
    "\\end{array}\n",
    "$$\n",
    "of dimension $V$. The $j$-th component $\\phi(x)_j$ equals $1$ if $x$ convains the $j$-th word in $V$ and $0$ otherwise."
   ]
  },
  {
   "cell_type": "markdown",
   "id": "ce5fb039",
   "metadata": {
    "slideshow": {
     "slide_type": "slide"
    }
   },
   "source": [
    "# Classification Using BoW Features\n",
    "\n",
    "Let's now have a look at the performance of classification over bag of words features.\n",
    "\n",
    "Now that we have a feature representation $\\phi(x)$, we can apply the classifier of our choice, such as logistic regression.\n",
    "\n",
    "* Once text is featurized, any off-the-shelf supervised learning algorithm can be applied, but some work better than others, as we will see next."
   ]
  },
  {
   "cell_type": "markdown",
   "id": "7e5444d6",
   "metadata": {
    "slideshow": {
     "slide_type": "slide"
    }
   },
   "source": [
    "# Review: Supervised Learning Models\n",
    "\n",
    "A supervised learning model is a function\n",
    "$$ f_\\theta : \\mathcal{X} \\to \\mathcal{Y} $$\n",
    "that maps inputs $x \\in \\mathcal{X}$ to targets $y \\in \\mathcal{Y}$.\n",
    "\n",
    "Models have *parameters* $\\theta \\in \\Theta$ living in a set $\\Theta$."
   ]
  },
  {
   "cell_type": "markdown",
   "id": "df7c933a",
   "metadata": {
    "slideshow": {
     "slide_type": "subslide"
    }
   },
   "source": [
    "For example, **logistic regression is a binary classification algorithm** which uses a model \n",
    "$$f_\\theta : \\mathcal{X} \\to [0,1]$$ \n",
    "of the form\n",
    "$$ f_\\theta(x) = \\sigma(\\theta^\\top x) = \\frac{1}{1 + \\exp(-\\theta^\\top x)}, $$\n",
    "where $\\sigma(z) = \\frac{1}{1 + \\exp(-z)}$ is the *sigmoid* or *logistic* function."
   ]
  },
  {
   "cell_type": "markdown",
   "id": "5ab69a8e",
   "metadata": {
    "slideshow": {
     "slide_type": "subslide"
    }
   },
   "source": [
    "For example, our logistic model defines (\"parameterizes\") a probability distribution $P_\\theta(y|x) : \\mathcal{X} \\times \\mathcal{Y} \\to [0,1]$ as follows:\n",
    "\n",
    "\\begin{align*}\n",
    "P_\\theta(y=1 | x) & = \\sigma(\\theta^\\top x) \\\\\n",
    "P_\\theta(y=0 | x) & = 1-\\sigma(\\theta^\\top x).\n",
    "\\end{align*}"
   ]
  },
  {
   "cell_type": "markdown",
   "id": "0d1993c2",
   "metadata": {
    "slideshow": {
     "slide_type": "subslide"
    }
   },
   "source": [
    "In the logistic regression example, we optimize the following objective defined over a binary classification dataset  $\\mathcal{D} = \\{(x^{(1)}, y^{(1)}), (x^{(2)}, y^{(2)}), \\ldots, (x^{(n)}, y^{(n)})\\}$.\n",
    "\\begin{align*}\n",
    "\\ell(\\theta) & = \\frac{1}{n}\\sum_{i=1}^n \\log P_\\theta (y^{(i)} \\mid x^{(i)}) \\\\\n",
    "& = \\frac{1}{n}\\sum_{i=1}^n {y^{(i)}} \\cdot \\log \\sigma(\\theta^\\top x^{(i)}) + (1-y^{(i)}) \\cdot \\log (1-\\sigma(\\theta^\\top x^{(i)})).\n",
    "\\end{align*}\n",
    "\n",
    "This objective is also often called the log-loss, or cross-entropy."
   ]
  },
  {
   "cell_type": "markdown",
   "id": "20508ab3",
   "metadata": {
    "slideshow": {
     "slide_type": "slide"
    }
   },
   "source": [
    "# Discriminative Models\n",
    "\n",
    "Logistic regression is an example of a *discriminative* machine learning model because \n",
    "* It directly transforms $x$ into a score for each class $y$ (e.g., via the formula $y=\\sigma(\\theta^\\top x)$)\n",
    "* It can be interpreted as defining a *conditional* probability $P_\\theta(y|x)$"
   ]
  },
  {
   "cell_type": "markdown",
   "id": "e3bb1072",
   "metadata": {
    "slideshow": {
     "slide_type": "slide"
    }
   },
   "source": [
    "# Generative Models\n",
    "\n",
    "Another approach to classification is to use *generative* models.\n",
    "\n",
    "* A generative approach first builds a model of $x$ for each class:\n",
    "$$ P_\\theta(x | y=k) \\; \\text{for each class $k$}.$$\n",
    "$P_\\theta(x | y=k)$ *scores* each $x$ according to how well it matches class $k$."
   ]
  },
  {
   "cell_type": "markdown",
   "id": "d21d1398",
   "metadata": {
    "slideshow": {
     "slide_type": "fragment"
    }
   },
   "source": [
    "* A class probability $P_\\theta(y=k)$ encoding our prior beliefs\n",
    "$$ P_\\theta(y=k) \\; \\text{for each class $k$}.$$\n",
    "These are often just the % of each class in the data."
   ]
  },
  {
   "cell_type": "markdown",
   "id": "1dd60377",
   "metadata": {
    "slideshow": {
     "slide_type": "subslide"
    }
   },
   "source": [
    "In the context of spam classification, we would fit two models on a corpus of emails $x$ with spam/non-spam labels $y$:\n",
    "\n",
    "\\begin{align*}\n",
    "P_\\theta(x|y=\\text{0}) && \\text{and} && P_\\theta(x|y=\\text{1})\n",
    "\\end{align*}\n",
    "\n",
    "as well as define priors $P_\\theta(y=\\text{0}), P_\\theta(y=\\text{1})$.\n",
    "\n",
    "$P_\\theta(x | y=1)$ *scores* each $x$ based on how much it looks like spam.\n",
    "\n",
    "$P_\\theta(x | y=0)$ *scores* each $x$ based on how much it looks like non-spam."
   ]
  },
  {
   "cell_type": "markdown",
   "id": "34ca3c1e",
   "metadata": {
    "slideshow": {
     "slide_type": "slide"
    }
   },
   "source": [
    "# Predictions From Generative Models\n",
    "\n",
    "Given a new $x'$, we return the class that is the most likely to have generated it:\n",
    "\\begin{align*}\n",
    "\\arg \\max_k P_\\theta(y=k | x') & = \\arg \\max_k  \\frac{P_\\theta(x' | y=k) P_\\theta(y=k)}{P_\\theta(x')} \\\\\n",
    "& = \\arg \\max_k P_\\theta(x' | y=k) P_\\theta(y=k),\n",
    "\\end{align*}\n",
    "where we have applied Bayes' rule in the first line."
   ]
  },
  {
   "cell_type": "markdown",
   "id": "6817ce68",
   "metadata": {
    "slideshow": {
     "slide_type": "subslide"
    }
   },
   "source": [
    "In the context of spam classification, given a new $x'$, we would compare the probabilities of both models:\n",
    "\n",
    "\\begin{align*}\n",
    "P_\\theta(x'|y=\\text{0})P_\\theta(y=\\text{0}) && \\text{vs.} && P_\\theta(x'|y=\\text{1})P_\\theta(y=\\text{1})\n",
    "\\end{align*}\n",
    "\n",
    "We output the class that's more likely to have generated $x'$."
   ]
  },
  {
   "cell_type": "markdown",
   "id": "ae1482e8",
   "metadata": {
    "slideshow": {
     "slide_type": "slide"
    }
   },
   "source": [
    "# Probabilistic Interpretations\n",
    "\n",
    "A *generative* model defines $P_\\theta(x|y)$ and $P_\\theta(y)$, thus it also defines a distribution of the form $P_\\theta(x,y)$.\n",
    "\n",
    "\\begin{align*}\n",
    "\\underbrace{P_\\theta(x,y) : \\mathcal{X} \\times \\mathcal{Y} \\to [0,1]}_\\text{generative model} & \\;\\; & \\underbrace{P_\\theta(y|x) : \\mathcal{X} \\times \\mathcal{Y} \\to [0,1]}_\\text{discriminative model}\n",
    "\\end{align*}\n",
    "\n",
    "**Discriminative models don't define any probability over the $x$'s. Generative models do.**"
   ]
  },
  {
   "cell_type": "markdown",
   "id": "522872f7",
   "metadata": {
    "slideshow": {
     "slide_type": "subslide"
    }
   },
   "source": [
    "We can learn a generative model $P_\\theta(x, y)$ by maximizing the *likelihood*:\n",
    "\n",
    "$$ \\max_\\theta \\frac{1}{n}\\sum_{i=1}^n \\log P_\\theta({x}^{(i)}, y^{(i)}). $$\n",
    "\n",
    "This says that we should choose parameters $\\theta$ such that the model $P_\\theta$ assigns a high probability to each training example $(x^{(i)}, y^{(i)})$ in the dataset $\\mathcal{D}$."
   ]
  },
  {
   "cell_type": "markdown",
   "id": "e477efdb",
   "metadata": {
    "slideshow": {
     "slide_type": "slide"
    }
   },
   "source": [
    "# Generative vs. Discriminative Approaches\n",
    "\n",
    "What are the pros and cons of generative and discirminative methods?"
   ]
  },
  {
   "cell_type": "markdown",
   "id": "852f9d29",
   "metadata": {
    "slideshow": {
     "slide_type": "fragment"
    }
   },
   "source": [
    "* If we only care about prediction, we don't need a model of $P(x)$. It's simpler to only model $P(y|x)$ (what we care about).\n",
    "    * In practice, discriminative models are often be more accurate."
   ]
  },
  {
   "cell_type": "markdown",
   "id": "9dce0fbf",
   "metadata": {
    "slideshow": {
     "slide_type": "fragment"
    }
   },
   "source": [
    "* If we care about other tasks (generation, dealing with missing values, etc.) or if we know the true model is generative, we want to use the generative approach.\n",
    "\n",
    "More on this later!"
   ]
  },
  {
   "cell_type": "markdown",
   "id": "475ad504",
   "metadata": {
    "slideshow": {
     "slide_type": "slide"
    }
   },
   "source": [
    "# A Generative Model for Text Classification\n",
    "\n",
    "In binary text classification, we fit two models on a labeled corpus:\n",
    "\\begin{align*}\n",
    "P_\\theta(x|y=\\text{0}) && \\text{and} && P_\\theta(x|y=\\text{1})\n",
    "\\end{align*}\n",
    "We also define priors $P_\\theta(y=\\text{0}), P_\\theta(y=\\text{1})$.\n",
    "\n",
    "Each model $P_\\theta(x | y=k)$ *scores* $x$ based on how much it looks like class $k$.\n",
    "The documents $x$ are in __bag-of-words__ representation.\n",
    "\n",
    "How do we choose $P_\\theta(x|y=k)$?"
   ]
  },
  {
   "cell_type": "markdown",
   "id": "241acd8f",
   "metadata": {
    "slideshow": {
     "slide_type": "slide"
    }
   },
   "source": [
    "# Review: Categorical Distribution\n",
    "\n",
    "A [Categorical](https://en.wikipedia.org/wiki/Categorical_distribution) distribution with parameters $\\theta$ is a probability\n",
    "over $K$ discrete outcomes $x \\in \\{1,2,...,K\\}$:\n",
    "\n",
    "$$\n",
    "P_\\theta(x = j) = \\theta_j.\n",
    "$$\n",
    "\n",
    "When $K=2$ this is called the [Bernoulli](https://en.wikipedia.org/wiki/Bernoulli_distribution)."
   ]
  },
  {
   "cell_type": "markdown",
   "id": "05f14cb7",
   "metadata": {
    "slideshow": {
     "slide_type": "slide"
    }
   },
   "source": [
    "# First Attempt at a Generative Model\n",
    "\n",
    "Note there is a finite number of $x$'s: each is a binary vector of size $d$.\n",
    "\n",
    "A first solution is to assume that $P(x|y=k)$ is a categorical distribution that assigns a probability to each possible state of $x$:\n",
    "$$\n",
    "P(x|y=k) = P_k \\left( \n",
    "\\begin{array}{c}\n",
    "0 \\\\\n",
    "1 \\\\\n",
    "0 \\\\\n",
    "\\vdots \\\\\n",
    "0 \n",
    "\\end{array}\n",
    "\\right.\n",
    "\\left.\n",
    "\\begin{array}{l}\n",
    "\\;\\text{church} \\\\\n",
    "\\;\\text{doctor} \\\\\n",
    "\\;\\text{fervently} \\\\\n",
    "\\vdots \\\\\n",
    "\\;\\text{purple}\n",
    "\\end{array}\n",
    "\\right) = \\theta_{xk} = 0.0012\n",
    "$$\n",
    "The $\\theta_{xk}$ is the probability of $x$ under class $k$. We want to learn these."
   ]
  },
  {
   "cell_type": "markdown",
   "id": "597285e0",
   "metadata": {
    "slideshow": {
     "slide_type": "slide"
    }
   },
   "source": [
    "# Problem: High Dimensionality\n",
    "\n",
    "How many parameters does a Categorical model $P(x|y=k)$ have?"
   ]
  },
  {
   "cell_type": "markdown",
   "id": "9135d2be",
   "metadata": {
    "slideshow": {
     "slide_type": "fragment"
    }
   },
   "source": [
    "* If the dimensionality $d$ of $x$ is high (e.g., vocabulary has size 10,000), $x$ can take a huge number of values ($2^{10000}$ in our example)"
   ]
  },
  {
   "cell_type": "markdown",
   "id": "532b3f3c",
   "metadata": {
    "slideshow": {
     "slide_type": "fragment"
    }
   },
   "source": [
    "* We need to specify $2^{d}-1$ parameters for the Categorical distribution."
   ]
  },
  {
   "cell_type": "markdown",
   "id": "378bed67",
   "metadata": {
    "slideshow": {
     "slide_type": "fragment"
    }
   },
   "source": [
    "For comparison, there are $\\approx 10^{82}$ atoms in the universe."
   ]
  },
  {
   "cell_type": "markdown",
   "id": "78519484",
   "metadata": {
    "slideshow": {
     "slide_type": "slide"
    }
   },
   "source": [
    "# Naive Bayes: An Example\n",
    "\n",
    "To deal with high-dimensional $x$, we choose a simpler model for $P_\\theta(y|x)$:\n",
    "1. We define a (Bernoulli) model with one parameter $\\psi_{jk} \\in [0,1]$ for the occurrence of each word $j$ in class $k$:\n",
    "$$P_\\theta(x_j = 1 \\mid y=k) = \\psi_{jk}$$\n",
    "$\\psi_{jk}$ is the probability that a document of class $k$ contains word $j$."
   ]
  },
  {
   "cell_type": "markdown",
   "id": "9613991d",
   "metadata": {
    "slideshow": {
     "slide_type": "fragment"
    }
   },
   "source": [
    "2. We define the model $P_\\theta(x|y=k)$ for documents $x$ as the product of the occurrence probabilities of each of its words $x_j$:\n",
    "$$ P_\\theta(x|y=k) = \\prod_{j=1}^d P_\\theta(x_j \\mid y=k) $$"
   ]
  },
  {
   "cell_type": "markdown",
   "id": "f06a18f2",
   "metadata": {
    "slideshow": {
     "slide_type": "subslide"
    }
   },
   "source": [
    "How many parameters does this new model have?"
   ]
  },
  {
   "cell_type": "markdown",
   "id": "c21d042c",
   "metadata": {
    "slideshow": {
     "slide_type": "fragment"
    }
   },
   "source": [
    "* We have a distribution $P_\\theta(x_j = 1 \\mid y=k)$ for each word $j$ and each distribution has one parameter $\\psi_{jk}$."
   ]
  },
  {
   "cell_type": "markdown",
   "id": "f579c22b",
   "metadata": {
    "slideshow": {
     "slide_type": "fragment"
    }
   },
   "source": [
    "* The distribution $P_\\theta(x|y=k) = \\prod_{j=1}^d P_\\theta(x_j \\mid y=k)$ is the product of $d$ such one-parameter distributions."
   ]
  },
  {
   "cell_type": "markdown",
   "id": "e6e98540",
   "metadata": {
    "slideshow": {
     "slide_type": "fragment"
    }
   },
   "source": [
    "* We have $K$ distributions of the form $P_\\theta(x|y=k)$."
   ]
  },
  {
   "cell_type": "markdown",
   "id": "0f142781",
   "metadata": {
    "slideshow": {
     "slide_type": "fragment"
    }
   },
   "source": [
    "Thus, we only need $Kd$ parameters instead of $K(2^d-1)$!"
   ]
  },
  {
   "cell_type": "markdown",
   "id": "fbb64a7d",
   "metadata": {
    "slideshow": {
     "slide_type": "slide"
    }
   },
   "source": [
    "# The Naive Bayes Assumption Machine Learning\n",
    "\n",
    "The Naive Bayes assumption is a __general technique__ that can be used with any $d$-dimensional $x$. \n",
    "* We simplify the model for $x$ as:\n",
    "$$ P(x|y) = \\prod_{j=1}^d P(x_j \\mid y) $$\n",
    "* We choose a simple distribution family for $P(x_j \\mid y)$.\n",
    "\n",
    "This typcally makes the number of parameters linear instead of exponential in $d$."
   ]
  },
  {
   "cell_type": "markdown",
   "id": "08b77994",
   "metadata": {
    "slideshow": {
     "slide_type": "slide"
    }
   },
   "source": [
    "# Is Naive Bayes a Good Assumption?\n",
    "\n",
    "Naive Bayes assumes that words are uncorrelated, but in reality they are.\n",
    "  * If spam email contains \"bank\", it probably contains \"account\"\n",
    "  \n",
    "As a result, the probabilities estimated by Naive Bayes can be over- under under-confident."
   ]
  },
  {
   "cell_type": "markdown",
   "id": "6f45c0fb",
   "metadata": {
    "slideshow": {
     "slide_type": "fragment"
    }
   },
   "source": [
    "In practice, however, Naive Bayes is a very useful assumption that gives very good classification accuracy!"
   ]
  },
  {
   "cell_type": "markdown",
   "id": "c5d4b713",
   "metadata": {
    "slideshow": {
     "slide_type": "slide"
    }
   },
   "source": [
    "# Defining Prior Distributions for Our Model\n",
    "\n",
    "We still need to define the distribution $P_\\theta(y=k)$.\n",
    "* This encodes our prior belief about $y$ before we see $x$.\n",
    "* It can also be learned from data.\n",
    "\n",
    "Since we have a small number of classes $K$, we may use a Categorical distribution with parameters $\\vec\\phi = (\\phi_1,...,\\phi_K)$ and learn $\\vec\\phi$ from data:\n",
    "\n",
    "$$ P_\\theta(y=k) = \\phi_k.$$"
   ]
  },
  {
   "cell_type": "markdown",
   "id": "1ad47165",
   "metadata": {
    "slideshow": {
     "slide_type": "slide"
    }
   },
   "source": [
    "# Bernoulli Naive Bayes Model\n",
    "\n",
    "The *Bernoulli Naive Bayes* model $P_\\theta(x,y)$ is defined for *binary data* $x \\in \\{0,1\\}^d$ (e.g., bag-of-words documents)."
   ]
  },
  {
   "cell_type": "markdown",
   "id": "11b3b6b9",
   "metadata": {
    "slideshow": {
     "slide_type": "fragment"
    }
   },
   "source": [
    "The $\\theta$ contains prior parameters $\\vec\\phi = (\\phi_1,...,\\phi_K)$ and $K$ sets of per-class parameters $\\psi_k = (\\psi_{1k},...,\\psi_{dk})$."
   ]
  },
  {
   "cell_type": "markdown",
   "id": "4c7ec95a",
   "metadata": {
    "slideshow": {
     "slide_type": "fragment"
    }
   },
   "source": [
    "The probability of the data $x$ for each class equals\n",
    "$$P_\\theta(x|y=k) = \\prod_{j=1}^d P(x_j \\mid y=k),$$\n",
    "where each $P_\\theta(x_j \\mid y=k)$ is a $\\text{Bernoullli}(\\psi_{jk})$.\n",
    "\n",
    "The probability over $y$ is Categorical:\n",
    "$P_\\theta(y=k) = \\phi_k$."
   ]
  },
  {
   "cell_type": "markdown",
   "id": "b8744b2c",
   "metadata": {
    "slideshow": {
     "slide_type": "subslide"
    }
   },
   "source": [
    "Formally, we have:\n",
    "\\begin{align*}\n",
    "P_\\theta(y) & = \\text{Categorical}(\\phi_1,\\phi_2,\\ldots,\\phi_K) \\\\\n",
    "P_\\theta(x_j=1|y=k) & = \\text{Bernoullli}(\\psi_{jk}) \\\\\n",
    "P_\\theta(x|y=k) & = \\prod_{j=1}^d P_\\theta(x_j|y=k)\n",
    "\\end{align*}\n",
    "The parameters of the model are $\\theta = (\\phi_1,...,\\phi_K, \\psi_{11}, ...,\\psi_{dK})$.\n",
    "There are exactly $K(d+1)$ parameters."
   ]
  },
  {
   "cell_type": "markdown",
   "id": "f20e18f4",
   "metadata": {
    "slideshow": {
     "slide_type": "slide"
    }
   },
   "source": [
    "# Algorithm: Bernoulli Naive Bayes\n",
    "\n",
    "* __Type__: Supervised learning (multi-class classification)\n",
    "* __Model family__: Products of Bernoulli distributions, categorical priors\n",
    "* __Objective function__: Log-likelihood.\n",
    "* __Optimizer__: Closed form solution."
   ]
  },
  {
   "cell_type": "markdown",
   "id": "e9934e94",
   "metadata": {
    "slideshow": {
     "slide_type": "slide"
    }
   },
   "source": [
    "# Learning a Bernoulli Naive Bayes Model\n",
    "\n",
    "Given a dataset $\\mathcal{D} = \\{(x^{(i)}, y^{(i)})\\mid i=1,2,\\ldots,n\\}$, we want to optimize the log-likelihood $\\ell(\\theta) = \\log L(\\theta)$:\n",
    "\\begin{align*}\n",
    "\\ell & = \\sum_{i=1}^n \\log P_\\theta(x^{(i)}, y^{(i)}) = \\sum_{i=1}^n \\sum_{j=1}^d \\log P_\\theta(x^{(i)}_j | y^{(i)}) + \\sum_{i=1}^n \\log P_\\theta(y^{(i)}) \\\\\n",
    "& = \\sum_{k=1}^K \\sum_{j=1}^d \\underbrace{\\sum_{i :y^{(i)} =k} \\log P(x^{(i)}_j | y^{(i)} ; \\psi_{jk})}_\\text{all the terms that involve $\\psi_{jk}$} + \\underbrace{\\sum_{i=1}^n \\log P(y^{(i)} ; \\vec \\phi)}_\\text{all the terms that involve $\\vec \\phi$}.\n",
    "\\end{align*}"
   ]
  },
  {
   "cell_type": "markdown",
   "id": "46d7c32b",
   "metadata": {
    "slideshow": {
     "slide_type": "fragment"
    }
   },
   "source": [
    "In equality #2, we use Naive Bayes: $P_\\theta(x,y)=P_\\theta(y) \\prod_{i=1}^d P(x_j|y)$; in the third one, we change the order of summation."
   ]
  },
  {
   "cell_type": "markdown",
   "id": "52a9c446",
   "metadata": {
    "slideshow": {
     "slide_type": "subslide"
    }
   },
   "source": [
    "Each $\\psi_{jk}$ for $k=1,2,\\ldots,K$ is found in only the following terms:\n",
    "$$ \\max_{\\psi_{jk}} \\ell(\\theta) = \\max_{\\psi_{jk}} \\sum_{i :y^{(i)} =k} \\log P(x^{(i)}_j | y^{(i)} ; \\psi_{jk}). $$\n",
    "Thus, optimization over $\\psi_{jk}$ can be carried out independently of all the other parameters by just looking at these terms."
   ]
  },
  {
   "cell_type": "markdown",
   "id": "366ce5e4",
   "metadata": {
    "slideshow": {
     "slide_type": "fragment"
    }
   },
   "source": [
    "Similarly, optimizing for $\\vec \\phi = (\\phi_1, \\phi_2, \\ldots, \\phi_K)$ only involves a few terms:\n",
    "$$ \\max_{\\vec \\phi} \\sum_{i=1}^n \\log P_\\theta(x^{(i)}, y^{(i)} ; \\theta) = \\max_{\\vec\\phi} \\sum_{i=1}^n  \\log P_\\theta(y^{(i)} ; \\vec \\phi). $$"
   ]
  },
  {
   "cell_type": "markdown",
   "id": "e8dd693d",
   "metadata": {
    "slideshow": {
     "slide_type": "slide"
    }
   },
   "source": [
    "# Learning the Parameters $\\phi$\n",
    "\n",
    "Let's first consider the optimization over $\\vec \\phi = (\\phi_1, \\phi_2, \\ldots, \\phi_K)$. \n",
    "$$ \\max_{\\vec \\phi} \\sum_{i=1}^n  \\log P_\\theta(y=y^{(i)} ; \\vec \\phi). $$\n",
    "* We have $n$ datapoints, each having one of $K$ classes\n",
    "* We want to learn the most likely class probabilities $\\phi_k$ that generated this data\n",
    "\n",
    "What is the maximum likelihood $\\phi$ in this case?"
   ]
  },
  {
   "cell_type": "markdown",
   "id": "13d37e27",
   "metadata": {
    "slideshow": {
     "slide_type": "subslide"
    }
   },
   "source": [
    "Inuitively, the maximum likelihood class probabilities $\\phi$ should just be the class proportions that we see in the data. \n",
    "\n",
    "Let's calculate this formally. Our objective $J(\\vec \\phi)$ equals\n",
    "\\begin{align*}\n",
    "J(\\vec\\phi) & = \\sum_{i=1}^n  \\log P_\\theta(y^{(i)} ; \\vec \\phi) = \\sum_{i=1}^n  \\log \\left( \\frac{\\phi_{y^{(i)}}}{\\sum_{k=1}^K \\phi_k}\\right) \\\\\n",
    "& = \\sum_{i=1}^n \\log \\phi_{y^{(i)}} - n \\cdot \\log \\sum_{k=1}^K \\phi_k \\\\ \n",
    "& = \\sum_{k=1}^K \\sum_{i : y^{(i)} = k} \\log \\phi_k - n \\cdot \\log \\sum_{k=1}^K \\phi_k\n",
    "\\end{align*}"
   ]
  },
  {
   "cell_type": "markdown",
   "id": "0bb7ea73",
   "metadata": {
    "slideshow": {
     "slide_type": "subslide"
    }
   },
   "source": [
    "Taking the derivative and setting it to zero, we obtain \n",
    "$$ \\frac{\\phi_k}{\\sum_l \\phi_l} = \\frac{n_k}{n}$$\n",
    "for each $k$, where $n_k = |\\{i : y^{(i)} = k\\}|$ is the number of training targets with class $k$.\n",
    "\n",
    "Thus, the optimal $\\phi_k$ is just the proportion of data points with class $k$ in the training set!"
   ]
  },
  {
   "cell_type": "markdown",
   "id": "1f835a90",
   "metadata": {
    "slideshow": {
     "slide_type": "slide"
    }
   },
   "source": [
    "# Learning the Parameters $\\psi_{jk}$\n",
    "\n",
    "Next, let's look at the maximum likelihood term\n",
    "$$ \\arg\\max_{\\psi_{jk}} \\sum_{i :y^{(i)} =k} \\log P(x^{(i)}_j | y^{(i)} ; \\psi_{jk}). $$\n",
    "over the word parameters $\\psi_{jk}$."
   ]
  },
  {
   "cell_type": "markdown",
   "id": "33da0666",
   "metadata": {
    "slideshow": {
     "slide_type": "fragment"
    }
   },
   "source": [
    "* Our dataset are all the inputs $x$ for which $y=k$.\n",
    "* We seek  the probability $\\psi_{jk}$ of a word $j$ being present in a $x$.\n",
    "\n",
    "What is the maximum likelihood $\\psi_{jk}$ in this case?"
   ]
  },
  {
   "cell_type": "markdown",
   "id": "62cd1549",
   "metadata": {
    "slideshow": {
     "slide_type": "subslide"
    }
   },
   "source": [
    "Each $\\psi_{jk}$ is simply the proportion of documents in class $k$ that contain the word $j$.\n",
    "\n",
    "We can maximize the likelihood exactly like we did for $\\phi$ to obtain closed form solutions:\n",
    "\\begin{align*}\n",
    "\\psi_{jk} = \\frac{n_{jk}}{n_k}.\n",
    "\\end{align*}\n",
    "where $|\\{i : x^{(i)}_j = 1 \\text{ and } y^{(i)} = k\\}|$ is the number of $x^{(i)}$ with label $k$ and a positive occurrence of word $j$."
   ]
  },
  {
   "cell_type": "markdown",
   "id": "f61294f5",
   "metadata": {
    "slideshow": {
     "slide_type": "slide"
    }
   },
   "source": [
    "# Querying the Model\n",
    "\n",
    "How do we ask the model for predictions? As discussed earler, we can apply Bayes' rule:\n",
    "$$\\arg\\max_y P_\\theta(y|x) = \\arg\\max_y P_\\theta(x|y)P(y).$$\n",
    "Thus, we can estimate the probability of $x$ and under each $P_\\theta(x|y=k)P(y=k)$ and choose the class that explains the data best."
   ]
  },
  {
   "cell_type": "markdown",
   "id": "69e342de",
   "metadata": {},
   "source": [
    "# Advantages of Naive Bayes\n",
    "\n",
    "Naive Bayes is a very important model in machine learning.\n",
    "\n",
    "* Usually much easier to train: we have closed form solutions for the optimal parameters!\n",
    "* Can deal with missing values, noisy inputs, and more!\n",
    "\n",
    "On many classification tasks, Naive Bayes matches the state-of-the-art."
   ]
  },
  {
   "cell_type": "markdown",
   "id": "0aec069b",
   "metadata": {},
   "source": [
    "# Downsides of Naive Bayes\n",
    "\n",
    "Fundamentally, the modeling assumptions of Naive Bayes are incorrect:\n",
    "* May generate over- or under-confident predictions\n",
    "* Lower performance when assumptions fail"
   ]
  },
  {
   "cell_type": "markdown",
   "id": "872c1058",
   "metadata": {
    "slideshow": {
     "slide_type": "slide"
    }
   },
   "source": [
    "# Review: Normal (Gaussian) Distribution\n",
    "\n",
    "A [multivariate normal](https://en.wikipedia.org/wiki/Multivariate_normal_distribution) distribution $P_\\theta(x) : \\mathcal{X} \\to [0,1]$ with parameters $\\theta = (\\mu, \\Sigma)$\n",
    "is a probability over a $d$-dimensional $x \\in \\mathbb{R}^d$\n",
    "\n",
    "$$\n",
    "P_\\theta(x; \\mu, \\Sigma) = \\frac{1}{\\sqrt{(2 \\pi)^d | \\Sigma |}} \\exp\\left(-\\frac{1}{2} (x - \\mu)^\\top \\Sigma^{-1} (x-\\mu) \\right)\n",
    "$$\n",
    "\n",
    "In one dimension, this reduces to $\\frac{1}{\\sqrt{2 \\pi}\\sigma} \\exp\\left(-\\frac{(x - \\mu)^2}{2\\sigma^2} \\right)$."
   ]
  },
  {
   "cell_type": "markdown",
   "id": "677c8a8f",
   "metadata": {
    "slideshow": {
     "slide_type": "slide"
    }
   },
   "source": [
    "# Algorithm: Gaussian Discriminant Analysis (GDA): https://zhuanlan.zhihu.com/p/38269530 \n",
    "\n",
    "* __Type__: Supervised learning (multi-class classification)\n",
    "* __Model family__: Mixtures of Gaussians.\n",
    "* __Objective function__: Log-likelihood.\n",
    "* __Optimizer__: Closed form solution."
   ]
  },
  {
   "cell_type": "markdown",
   "id": "1cb93f4f",
   "metadata": {
    "slideshow": {
     "slide_type": "fragment"
    }
   },
   "source": [
    "Let's use maximum likelihood to fit the Guassian Discriminant model. Note that model parameterss $\\theta$ are the union of the parameters of each sub-model:\n",
    "$$\\theta = (\\mu_1, \\Sigma_1, \\phi_1, \\ldots, \\mu_K, \\Sigma_K, \\phi_K).$$\n"
   ]
  },
  {
   "cell_type": "markdown",
   "id": "4e43558a",
   "metadata": {
    "slideshow": {
     "slide_type": "skip"
    }
   },
   "source": [
    "Mathematically, the components of the model $P_\\theta(x,y)$ are as follows.\n",
    "\\begin{align*}\n",
    "P_\\theta(y) & = \\frac{\\prod_{k=1}^K \\phi_k^{\\mathbb{I}\\{y = y_k\\}}}{\\sum_{k=1}^k \\phi_k} \\\\\n",
    "P_\\theta(x|y=k) & = \\frac{1}{(2\\pi)^{d/2}|\\Sigma|^{1/2}} \\exp(-\\frac{1}{2}(x-\\mu_k)^\\top\\Sigma_k^{-1}(x-\\mu_k))\n",
    "\\end{align*}"
   ]
  },
  {
   "cell_type": "markdown",
   "id": "fa533fba",
   "metadata": {
    "slideshow": {
     "slide_type": "slide"
    }
   },
   "source": [
    "# Optimizing the Log Likelihood\n",
    "\n",
    "Given a dataset $\\mathcal{D} = \\{(x^{(i)}, y^{(i)})\\mid i=1,2,\\ldots,n\\}$, we want to optimize the log-likelihood $\\ell(\\theta)$:\n",
    "\\begin{align*}\n",
    "\\ell(\\theta) & = \\sum_{i=1}^n \\log P_\\theta(x^{(i)}, y^{(i)}) = \\sum_{i=1}^n \\log P_\\theta(x^{(i)} | y^{(i)}) + \\sum_{i=1}^n \\log P_\\theta(y^{(i)}) \\\\\n",
    "& = \\sum_{k=1}^K  \\underbrace{\\sum_{i : y^{(i)} = k} \\log P(x^{(i)} | y^{(i)} ; \\mu_k, \\Sigma_k)}_\\text{all the terms that involve $\\mu_k, \\Sigma_k$} + \\underbrace{\\sum_{i=1}^n \\log P(y^{(i)} ; \\vec \\phi)}_\\text{all the terms that involve $\\vec \\phi$}.\n",
    "\\end{align*}"
   ]
  },
  {
   "cell_type": "markdown",
   "id": "add5e5cb",
   "metadata": {
    "slideshow": {
     "slide_type": "fragment"
    }
   },
   "source": [
    "In equality #2, we use the fact that $P_\\theta(x,y)=P_\\theta(y) P_\\theta(x|y)$; in the third one, we change the order of summation."
   ]
  },
  {
   "cell_type": "markdown",
   "id": "3295ec34",
   "metadata": {
    "slideshow": {
     "slide_type": "subslide"
    }
   },
   "source": [
    "Each $\\mu_k, \\Sigma_k$ for $k=1,2,\\ldots,K$ is found in only the following terms:\n",
    "\\begin{align*}\n",
    "\\max_{\\mu_k, \\Sigma_k} \\sum_{i=1}^n \\log P_\\theta(x^{(i)}, y^{(i)})\n",
    "& = \\max_{\\mu_k, \\Sigma_k} \\sum_{l=1}^K  \\sum_{i : y^{(i)} = l} \\log P_\\theta(x^{(i)} | y^{(i)} ; \\mu_l, \\Sigma_l) \\\\\n",
    "& = \\max_{\\mu_k, \\Sigma_k} \\sum_{i : y^{(i)} = k} \\log P_\\theta(x^{(i)} | y^{(i)} ; \\mu_k, \\Sigma_k).\n",
    "\\end{align*}\n",
    "Thus, optimization over $\\mu_k, \\Sigma_k$ can be carried out independently of all the other parameters by just looking at these terms."
   ]
  },
  {
   "cell_type": "markdown",
   "id": "a1c87046",
   "metadata": {
    "slideshow": {
     "slide_type": "fragment"
    }
   },
   "source": [
    "Similarly, optimizing for $\\vec \\phi = (\\phi_1, \\phi_2, \\ldots, \\phi_K)$ only involves a few terms:\n",
    "$$ \\max_{\\vec \\phi} \\sum_{i=1}^n \\log P_\\theta(x^{(i)}, y^{(i)} ; \\theta) = \\max_{\\vec\\phi} \\\n",
    "\\sum_{i=1}^n  \\log P_\\theta(y^{(i)} ; \\vec \\phi). $$"
   ]
  },
  {
   "cell_type": "markdown",
   "id": "acf75e0c",
   "metadata": {
    "slideshow": {
     "slide_type": "slide"
    }
   },
   "source": [
    "# Learning the Parameters $\\phi$\n",
    "\n",
    "Let's first consider the optimization over $\\vec \\phi = (\\phi_1, \\phi_2, \\ldots, \\phi_K)$. \n",
    "$$ \\max_{\\vec \\phi} \\sum_{i=1}^n  \\log P_\\theta(y=y^{(i)} ; \\vec \\phi). $$\n",
    "* We have $n$ datapoints. Each point has a label $k\\in\\{1,2,...,K\\}$.\n",
    "* Our model is a categorical and assigns a probability $\\phi_k$ to each outcome $k\\in\\{1,2,...,K\\}$.\n",
    "* We want to infer $\\phi_k$ assuming our dataset is sampled from the model.\n",
    "\n",
    "What are the maximum likelihood $\\phi_k$ that are most likely to have generated our data?"
   ]
  },
  {
   "cell_type": "markdown",
   "id": "1a3c4117",
   "metadata": {
    "slideshow": {
     "slide_type": "subslide"
    }
   },
   "source": [
    "Inuitively, the maximum likelihood class probabilities $\\phi$ should just be the class proportions that we see in the data. \n",
    "\n",
    "Let's calculate this formally. Our objective $J(\\vec \\phi)$ equals\n",
    "\\begin{align*}\n",
    "J(\\vec\\phi) & = \\sum_{i=1}^n  \\log P_\\theta(y^{(i)} ; \\vec \\phi) \\\\\n",
    "& = \\sum_{i=1}^n \\log \\phi_{y^{(i)}} - n \\cdot \\log \\sum_{k=1}^K \\phi_k \\\\ \n",
    "& = \\sum_{k=1}^K \\sum_{i : y^{(i)} = k} \\log \\phi_k - n \\cdot \\log \\sum_{k=1}^K \\phi_k\n",
    "\\end{align*}"
   ]
  },
  {
   "cell_type": "markdown",
   "id": "2c1f5d55",
   "metadata": {
    "slideshow": {
     "slide_type": "subslide"
    }
   },
   "source": [
    "Taking the derivative and setting it to zero, we obtain \n",
    "$$ \\frac{\\phi_k}{\\sum_l \\phi_l} = \\frac{n_k}{n}$$\n",
    "for each $k$, where $n_k = |\\{i : y^{(i)} = k\\}|$ is the number of training targets with class $k$.\n",
    "\n",
    "Thus, the optimal $\\phi_k$ is just the proportion of data points with class $k$ in the training set!"
   ]
  },
  {
   "cell_type": "markdown",
   "id": "ba09c8eb",
   "metadata": {
    "slideshow": {
     "slide_type": "slide"
    }
   },
   "source": [
    "# Learning the Parameters $\\mu_k, \\Sigma_k$\n",
    "\n",
    "Next, let's look at the maximum likelihood term\n",
    "$$\\max_{\\mu_k, \\Sigma_k} \\sum_{i : y^{(i)} = k} \\log \\mathcal{N}(x^{(i)} | \\mu_k, \\Sigma_k)$$\n",
    "over the Gaussian parameters $\\mu_k, \\Sigma_k$."
   ]
  },
  {
   "cell_type": "markdown",
   "id": "73330355",
   "metadata": {
    "slideshow": {
     "slide_type": "fragment"
    }
   },
   "source": [
    "* Our dataset are all the points $x$ for which $y=k$.\n",
    "* We want to learn the mean and variance $\\mu_k, \\Sigma_k$ of a normal distribution that generates this data.\n",
    "\n",
    "What is the maximum likelihood $\\mu_k, \\Sigma_k$ in this case?"
   ]
  },
  {
   "cell_type": "markdown",
   "id": "37416d93",
   "metadata": {
    "slideshow": {
     "slide_type": "subslide"
    }
   },
   "source": [
    "Computing the derivative and setting it to zero, we obtain closed form solutions:\n",
    "\\begin{align*}\n",
    "\\mu_k & = \\frac{\\sum_{i: y^{(i)} = k} x^{(i)}}{n_k} \\\\\n",
    "\\Sigma_k & = \\frac{\\sum_{i: y^{(i)} = k} (x^{(i)} - \\mu_k)(x^{(i)} - \\mu_k)^\\top}{n_k} \\\\\n",
    "\\end{align*}\n",
    "**These are just the empirical means and covariances of each class.**"
   ]
  },
  {
   "cell_type": "markdown",
   "id": "0c3d61e8",
   "metadata": {
    "slideshow": {
     "slide_type": "slide"
    }
   },
   "source": [
    "# Querying the Model\n",
    "\n",
    "How do we ask the model for predictions? As discussed earler, we can apply Bayes' rule:\n",
    "$$\\arg\\max_y P_\\theta(y|x) = \\arg\\max_y P_\\theta(x|y)P(y).$$\n",
    "Thus, we can estimate the probability of $x$ and under each $P_\\theta(x|y=k)P(y=k)$ and choose the class that explains the data best."
   ]
  },
  {
   "cell_type": "markdown",
   "id": "0991f770",
   "metadata": {},
   "source": [
    "# Special Cases of GDA\n",
    "\n",
    "Many important generative algorithms are special cases of Gaussian Discriminative Analysis\n",
    "* Linear discriminant analysis (LDA): all the covariance matrices $\\Sigma_k$ take the same value.\n",
    "* Gaussian Naive Bayes: all the covariance matrices $\\Sigma_k$ are diagonal.\n",
    "* Quadratic discriminant analysis (QDA): another term for GDA."
   ]
  },
  {
   "cell_type": "markdown",
   "id": "c796679f",
   "metadata": {
    "slideshow": {
     "slide_type": "skip"
    }
   },
   "source": [
    "# Generative vs. Discriminative Approaches\n",
    "\n",
    "Pros of discriminative models:\n",
    "* Often more accurate because they make fewer modeling assumptions."
   ]
  },
  {
   "cell_type": "markdown",
   "id": "fc838680",
   "metadata": {
    "slideshow": {
     "slide_type": "skip"
    }
   },
   "source": [
    "Pros of generative models:\n",
    "* Can do more than just prediction: generation, fill-in missing features, etc.\n",
    "* Can include extra prior knowledge; if prior knowledge is correct, model will be more accurate.\n",
    "* Often have closed-form solutions, hence are faster to train."
   ]
  },
  {
   "cell_type": "markdown",
   "id": "79641980",
   "metadata": {
    "slideshow": {
     "slide_type": "slide"
    }
   },
   "source": [
    "# Linear Discriminant Analysis\n",
    "\n",
    "When the covariances $\\Sigma_k$ in GDA are equal, we have an algorithm called Linear Discriminant Analysis or LDA.\n",
    "\n",
    "The probability of the data $x$ for each class is a multivariate Gaussian with the same covariance $\\Sigma$.\n",
    "$$P_\\theta(x|y=k) = \\mathcal{N}(x ; \\mu_k, \\Sigma).$$\n",
    "\n",
    "The probability over $y$ is Categorical:\n",
    "$P_\\theta(y=k) = \\phi_k$."
   ]
  },
  {
   "cell_type": "markdown",
   "id": "b5c55cec",
   "metadata": {
    "slideshow": {
     "slide_type": "subslide"
    }
   },
   "source": [
    "Linear Discriminant Analysis outputs decision boundaries that are linear, just like Logistic/Softmax Regression."
   ]
  },
  {
   "cell_type": "markdown",
   "id": "9a1e10e7",
   "metadata": {
    "slideshow": {
     "slide_type": "skip"
    }
   },
   "source": [
    "Softmax or Logistic regression also produce linear boundaries. In fact, both types of algorithms make use of the same model class.\n",
    "\n",
    "What is their difference then?"
   ]
  },
  {
   "cell_type": "markdown",
   "id": "7646b2e3",
   "metadata": {
    "slideshow": {
     "slide_type": "slide"
    }
   },
   "source": [
    "# What Is the LDA Model Class?\n",
    "\n",
    "We can derive a formula for $P_\\theta(y|x)$ in a Bernoulli Naive Bayes or LDA model when $K=2$:\n",
    "$$ P_\\theta(y|x) = \\frac{P_\\theta(x|y)P_\\theta(y)}{\\sum_{y'\\in \\mathcal{Y}}P_\\theta(x|y')P_\\theta(y')} = \\frac{1}{1+\\exp(-\\gamma^\\top x)} $$\n",
    "for some set of parameters $\\gamma$ (whose expression can be derived from $\\theta$). "
   ]
  },
  {
   "cell_type": "markdown",
   "id": "955f96ce",
   "metadata": {
    "slideshow": {
     "slide_type": "fragment"
    }
   },
   "source": [
    "This is the same form as Logistic Regression! Does it mean that the two sets of algorithms are equivalent? "
   ]
  },
  {
   "cell_type": "markdown",
   "id": "bc1b5926",
   "metadata": {
    "slideshow": {
     "slide_type": "fragment"
    }
   },
   "source": [
    "No! They assume the same model class $\\mathcal{M}$, **they use a different objective $J$ to select a model in $\\mathcal{M}$.**"
   ]
  },
  {
   "cell_type": "markdown",
   "id": "1643f261",
   "metadata": {
    "slideshow": {
     "slide_type": "slide"
    }
   },
   "source": [
    "# Discriminative Approaches\n",
    "\n",
    "Discriminative algorithms are deservingly very popular.\n",
    "* Most state-of-the-art algorithms for classification are discriminative (including neural nets, boosting, SVMs, etc.)\n",
    "* They are often more accurate because they make fewer modeling assumptions."
   ]
  },
  {
   "cell_type": "markdown",
   "id": "666d245e",
   "metadata": {
    "slideshow": {
     "slide_type": "slide"
    }
   },
   "source": [
    "# Other Useful Features of Generative Models\n",
    "\n",
    "Generative models can also do things that discriminative models can't do.\n",
    "* __Generation__: we can sample $x \\sim p(x|y)$ to generate new data (images, audio).\n",
    "* __Missing value imputation__: if $x_j$ is missing, we infer it using $p(x|y)$.\n",
    "* __Outlier detection__: we may detect via $p(x')$ if $x'$ is an outlier.\n",
    "* __Scalability__: Simple formulas for maximum likelihood parameters."
   ]
  },
  {
   "cell_type": "markdown",
   "id": "79efdb7d",
   "metadata": {
    "slideshow": {
     "slide_type": "skip"
    }
   },
   "source": [
    "# Generative Approaches\n",
    "\n",
    "But generative algorithms also have many advantages:\n",
    "* Can do more than just prediction: generation, fill-in missing features, etc.\n",
    "* Can include extra prior knowledge; if prior knowledge is correct, model will be more accurate.\n",
    "* Often have closed-form solutions, hence are faster to train."
   ]
  },
  {
   "cell_type": "markdown",
   "id": "a30df2e2",
   "metadata": {
    "colab_type": "text",
    "id": "i_f5u2x9nn6I",
    "slideshow": {
     "slide_type": "slide"
    }
   },
   "source": [
    "<left><img width=25% src=\"img/cornell_tech2.svg\"></left>\n",
    "\n",
    "# Lecture 8: Unsupervised Learning\n",
    "\n",
    "### Applied Machine Learning\n",
    "\n",
    "__Volodymyr Kuleshov__<br>Cornell Tech"
   ]
  },
  {
   "cell_type": "markdown",
   "id": "5a7880c7",
   "metadata": {
    "slideshow": {
     "slide_type": "slide"
    }
   },
   "source": [
    "# Unsupervised Learning\n",
    "\n",
    "**We have a dataset *without* labels.** Our goal is to learn something interesting about the structure of the data:\n",
    "* Clusters hidden in the dataset.\n",
    "* Outliers: particularly unusual and/or interesting datapoints.\n",
    "* Useful signal hidden in noise, e.g. human speech over a noisy phone."
   ]
  },
  {
   "cell_type": "markdown",
   "id": "d03186a0",
   "metadata": {
    "slideshow": {
     "slide_type": "slide"
    }
   },
   "source": [
    "#  Unsupervised Dataset: Notation\n",
    "\n",
    "We define  of size $n$ a dataset for unsupervised learning as\n",
    "$$\\mathcal{D} = \\{x^{(i)} \\mid i = 1,2,...,n\\}$$\n",
    "\n",
    "Each $x^{(i)} \\in \\mathbb{R}^d$ denotes an input, a vector of $d$ attributes or features."
   ]
  },
  {
   "cell_type": "markdown",
   "id": "c2db01e9",
   "metadata": {
    "slideshow": {
     "slide_type": "slide"
    }
   },
   "source": [
    "# Model: Notation\n",
    "\n",
    "We'll say that a model is a function\n",
    "$$ f : \\mathcal{X} \\to \\mathcal{S} $$\n",
    "that maps inputs $x \\in \\mathcal{X}$ to some notion of structure $s \\in \\mathcal{S}$.\n",
    "\n",
    "Structure can have many definitions (clusters, low-dimensional representations, etc.), and we will see many examples."
   ]
  },
  {
   "cell_type": "markdown",
   "id": "93e27fb4",
   "metadata": {
    "slideshow": {
     "slide_type": "fragment"
    }
   },
   "source": [
    "Often, models have *parameters* $\\theta \\in \\Theta$ living in a set $\\Theta$. We will then write the model as\n",
    "$$ f_\\theta : \\mathcal{X} \\to \\mathcal{S} $$\n",
    "to denote that it's parametrized by $\\theta$."
   ]
  },
  {
   "cell_type": "markdown",
   "id": "df5b5c65",
   "metadata": {
    "slideshow": {
     "slide_type": "slide"
    }
   },
   "source": [
    "# Model Class: Notation\n",
    "\n",
    "Formally, the model class is a set \n",
    "$$\\mathcal{M} \\subseteq \\{f \\mid f : \\mathcal{X} \\to \\mathcal{S} \\}$$\n",
    "of possible models that map input features to structural elements."
   ]
  },
  {
   "cell_type": "markdown",
   "id": "0286a0c9",
   "metadata": {
    "slideshow": {
     "slide_type": "fragment"
    }
   },
   "source": [
    "When the models $f_\\theta$ are paremetrized by *parameters* $\\theta \\in \\Theta$ living in some set $\\Theta$. Thus we can also write\n",
    "$$\\mathcal{M} = \\{f_\\theta \\mid f : \\mathcal{X} \\to \\mathcal{S}; \\; \\theta \\in \\Theta \\}.$$"
   ]
  },
  {
   "cell_type": "markdown",
   "id": "073117e0",
   "metadata": {
    "slideshow": {
     "slide_type": "slide"
    }
   },
   "source": [
    "# Objective: Notation\n",
    "\n",
    "We again define an *objective function* (also called a *loss function*)\n",
    "$$J(f) : \\mathcal{M} \\to [0, \\infty), $$\n",
    "which describes the extent to which $f$ \"fits\" the data $\\mathcal{D} = \\{x^{(i)} \\mid i = 1,2,...,n\\}$."
   ]
  },
  {
   "cell_type": "markdown",
   "id": "eba9eafa",
   "metadata": {
    "slideshow": {
     "slide_type": "fragment"
    }
   },
   "source": [
    "When $f$ is parametrized by $\\theta \\in \\Theta$, the objective becomes a function $J(\\theta) : \\Theta \\to [0, \\infty).$"
   ]
  },
  {
   "cell_type": "markdown",
   "id": "e7612726",
   "metadata": {
    "slideshow": {
     "slide_type": "slide"
    }
   },
   "source": [
    "# Optimizer: Notation\n",
    "\n",
    "An optimizer finds a model $f \\in \\mathcal{M}$ with the smallest value of the objective $J$.\n",
    "\\begin{align*}\n",
    "\\min_{f \\in \\mathcal{M}} J(f)\n",
    "\\end{align*}\n",
    "\n",
    "Intuitively, this is the function that bests \"fits\" the data on the training dataset."
   ]
  },
  {
   "cell_type": "markdown",
   "id": "44f04e64",
   "metadata": {
    "slideshow": {
     "slide_type": "fragment"
    }
   },
   "source": [
    "When $f$ is parametrized by $\\theta \\in \\Theta$, the optimizer minimizes a function $J(\\theta)$ over all $\\theta \\in \\Theta$."
   ]
  },
  {
   "cell_type": "markdown",
   "id": "dc5ceae2",
   "metadata": {
    "slideshow": {
     "slide_type": "slide"
    }
   },
   "source": [
    "# The $K$-Means Model\n",
    "\n",
    "We can use this dataset as input to a popular unsupervised learning algorithm, __$K$-means__.\n",
    "\n",
    "* The algorithm seeks to find $K$ hidden clusters in the data.\n",
    "* Each cluster is characterized by its centroid (its mean).\n",
    "* The clusters reveal interesting structure in the data.\n",
    "\n",
    "The parameters $\\theta$ of the model are $K$ *centroids* $c_1, c_2, \\ldots c_K \\in \\mathcal{X}$. The class of $x$ is $k$ if $c_k$ is the closest centroid to $x$."
   ]
  },
  {
   "cell_type": "markdown",
   "id": "ec53d740",
   "metadata": {
    "slideshow": {
     "slide_type": "fragment"
    }
   },
   "source": [
    "We can think of the model returned by $K$-Means as a function\n",
    "$$f_\\theta : \\mathcal{X} \\to \\mathcal{S}$$\n",
    "that assigns each input $x$ to a cluster $s \\in \\mathcal{S} = \\{1,2,\\ldots,K\\}$."
   ]
  },
  {
   "cell_type": "markdown",
   "id": "edab39da",
   "metadata": {
    "slideshow": {
     "slide_type": "skip"
    }
   },
   "source": [
    "# K-Means at a High Level\n",
    "\n",
    "At a high level, $K$-means performs the following steps. \n",
    "\n",
    "Starting from random clusters, we repeat until convergence:\n",
    "1. Set each centroid to be the center of the its cluster.\n",
    "2. Update each cluster: assign each point to its closest centroid."
   ]
  },
  {
   "cell_type": "markdown",
   "id": "290f39a5",
   "metadata": {
    "slideshow": {
     "slide_type": "slide"
    }
   },
   "source": [
    "# The $K$-Means Objective\n",
    "\n",
    "How do we determine whether $f_\\theta$ is a good clustering of the dataset $\\mathcal{D}$?"
   ]
  },
  {
   "cell_type": "markdown",
   "id": "24e7d63b",
   "metadata": {
    "slideshow": {
     "slide_type": "fragment"
    }
   },
   "source": [
    "We seek centroids $c_k$ such that the distance between the points and their closest centroid is minimized:\n",
    "$$J(\\theta) = \\sum_{i=1}^n || x^{(i)} - \\text{centroid}(f_\\theta(x^{(i)})) ||,$$\n",
    "where $\\text{centroid}(k) = c_k$ denotes the centroid for cluster $k$."
   ]
  },
  {
   "cell_type": "markdown",
   "id": "097e9796",
   "metadata": {
    "slideshow": {
     "slide_type": "slide"
    }
   },
   "source": [
    "# The $K$-Means Optimizer\n",
    "\n",
    "We can optimize this in a two stop process, starting with an initial random cluster assignment $f(x)$.\n",
    "\n",
    "Repeat until convergence:\n",
    "1. Set each $c_k$ to be the center of the its cluster $\\{x^{(i)} \\mid f(x^{(i)}) = k\\}$.\n",
    "2. Update clustering $f(x)$ such that $x^{(i)}$ is in the cluster of its closest centroid."
   ]
  },
  {
   "cell_type": "markdown",
   "id": "7abdfd76",
   "metadata": {
    "slideshow": {
     "slide_type": "subslide"
    }
   },
   "source": [
    "$K$-Means has a number of limitations:\n",
    "* Clustering can get stuck in local minima\n",
    "* Measuring clustering quality is hard and relies on heuristics\n",
    "* Cluster assignment is binary and doesn't estimate confidence"
   ]
  },
  {
   "cell_type": "markdown",
   "id": "b636f47f",
   "metadata": {
    "slideshow": {
     "slide_type": "slide"
    }
   },
   "source": [
    "# Review: Generalization\n",
    "\n",
    "In machine learning, __generalization__ is the property of predictive models to achieve good performance on new, heldout data that is distinct from the training set.\n",
    "\n",
    "How does generalization apply to unsupervised learning?"
   ]
  },
  {
   "cell_type": "markdown",
   "id": "15bf0b98",
   "metadata": {
    "slideshow": {
     "slide_type": "slide"
    }
   },
   "source": [
    "# Generalization in Unsupervised Learning\n",
    "\n",
    "We can think of the data distribution as being the sum of two distinct components $\\mathbb{P} = F + E$\n",
    "1. A signal component $F$ (hidden clusters, speech, low-dimensional data space, etc.)\n",
    "2. A random noise component $E$\n",
    "\n",
    "A machine learning model generalizes if it fits the true signal $F$; it overfits if it learns the noise $E$."
   ]
  },
  {
   "cell_type": "markdown",
   "id": "14c688d3",
   "metadata": {
    "slideshow": {
     "slide_type": "slide"
    }
   },
   "source": [
    "# Underfitting in Unsupervised Learning\n",
    "\n",
    "Underfitting happens when we are not able to fully learn the signal hidden in the data.\n",
    "\n",
    "In the context of $K$-Means, this means not capturing all the clusters in the data."
   ]
  },
  {
   "cell_type": "markdown",
   "id": "8fe9f03b",
   "metadata": {
    "slideshow": {
     "slide_type": "slide"
    }
   },
   "source": [
    "# Overfitting in Unsupervised Learning\n",
    "\n",
    "Overfitting happens when we fit the noise, but not the signal.\n",
    "\n",
    "In our example, this means fitting small, local noise clusters rather than the true global clusters."
   ]
  },
  {
   "cell_type": "markdown",
   "id": "c19938de",
   "metadata": {
    "slideshow": {
     "slide_type": "slide"
    }
   },
   "source": [
    "# The Elbow Method: https://www.biaodianfu.com/k-means-choose-k.html\n",
    "\n",
    "The Elbow method is a way of tuning hyper-parameters in unsupervised learning.\n",
    "* We plot the objective function as a function of the hyper-parameter $K$.\n",
    "* The \"elbow\" of the curve happens when its rate of decrease substantially slows down.\n",
    "* The \"elbow' is a good guess for the hyperparameter."
   ]
  },
  {
   "cell_type": "markdown",
   "id": "d2efa22a",
   "metadata": {
    "slideshow": {
     "slide_type": "slide"
    }
   },
   "source": [
    "# Detecting Overfitting and Underfitting\n",
    "\n",
    "In unsupervised learning, overfitting and underfitting are more difficult to quantify than in supervised learning.\n",
    "* Performance may depend on our intuition and require human evaluation\n",
    "* If we know the true labels, we can measure the accuracy of the clustering\n",
    "\n",
    "If our model is probabilistic, we can detect overfitting without labels by comparing the log-likelihood between the training set and a holdout set (next lecture!)."
   ]
  },
  {
   "cell_type": "markdown",
   "id": "3c5cd5d0",
   "metadata": {
    "slideshow": {
     "slide_type": "slide"
    }
   },
   "source": [
    "# Reducing Overfitting\n",
    "\n",
    "There are multiple ways to control for overfitting:\n",
    "1. Reduce model complexity (e.g., reduce $K$ in $K$-Means)\n",
    "2. Penalize complexity in objective (e.g., penalize large $K$)\n",
    "3. **Use a probabilistic model and regularize it.**"
   ]
  },
  {
   "cell_type": "markdown",
   "id": "17d1ba06",
   "metadata": {
    "slideshow": {
     "slide_type": "slide"
    }
   },
   "source": [
    "# Summary\n",
    "\n",
    "The concept of generalization applies to both supervised and unsupervised learning.\n",
    "* In supervised learning, it is easier to quantify via the accuracy.\n",
    "* In unsupervised learning, we may not be able to easily detect overfitting, but it still happens."
   ]
  },
  {
   "cell_type": "markdown",
   "id": "9cc211d1",
   "metadata": {
    "colab_type": "text",
    "id": "i_f5u2x9nn6I",
    "slideshow": {
     "slide_type": "slide"
    }
   },
   "source": [
    "<left><img width=25% src=\"img/cornell_tech2.svg\"></left>\n",
    "\n",
    "# Lecture 9: Density Estimation\n",
    "\n",
    "### Applied Machine Learning\n",
    "\n",
    "__Volodymyr Kuleshov__<br>Cornell Tech"
   ]
  },
  {
   "cell_type": "markdown",
   "id": "69fdbb7b",
   "metadata": {
    "slideshow": {
     "slide_type": "slide"
    }
   },
   "source": [
    "# Why Use Probabilistic Models?\n",
    "\n",
    "There are many tasks that we can solve with a good model $P_\\theta$.\n",
    "1. Generation: sample new objects from $P_\\theta$, such as images.\n",
    "2. Structure learning: find interesting structure in $P_\\text{data}$\n",
    "3. Density estimation: approximate $P_\\theta \\approx P_\\text{data}$ and use it to solve any downstream task (generation, clustering, outlier detection, etc.).\n",
    "\n",
    "We are going to be interested in the latter."
   ]
  },
  {
   "cell_type": "markdown",
   "id": "a92036e9",
   "metadata": {
    "slideshow": {
     "slide_type": "slide"
    }
   },
   "source": [
    "# Density Estimation\n",
    "\n",
    "The problem of density estimation is to approximate the data distribution $P_\\text{data}$ with the model $P$.\n",
    "$$ P \\approx P_\\text{data}. $$"
   ]
  },
  {
   "cell_type": "markdown",
   "id": "1f12ba8e",
   "metadata": {
    "slideshow": {
     "slide_type": "fragment"
    }
   },
   "source": [
    "It's also a general learning task. We can solve many downstream tasks using a good model $P$:\n",
    "* Outlier and novelty detection\n",
    "* Generating new samples $x$\n",
    "* Visualizing and understanding the structure of $P_\\text{data}$"
   ]
  },
  {
   "cell_type": "markdown",
   "id": "06cd51d8",
   "metadata": {
    "slideshow": {
     "slide_type": "slide"
    }
   },
   "source": [
    "# Histogram Density Estimation\n",
    "\n",
    "Perhaps the simplest approach to density estimation is by forming a histogram.\n",
    "\n",
    "A histogram partitions the input space $x$ into a $d$-dimensional grid and counts the number of points in each cell."
   ]
  },
  {
   "cell_type": "markdown",
   "id": "57b64efb",
   "metadata": {
    "slideshow": {
     "slide_type": "slide"
    }
   },
   "source": [
    "# Limitations of Histograms\n",
    "\n",
    "Histogram-based methods have a number of shortcomings.\n",
    "* The number of grid cells increases exponentially with dimension $d$.\n",
    "* The histogram is not \"smooth\".\n",
    "* The shape of the histogram depends on the bin positions.\n",
    "\n",
    "We will now try to address the last two limitations."
   ]
  },
  {
   "cell_type": "markdown",
   "id": "75019674",
   "metadata": {
    "slideshow": {
     "slide_type": "slide"
    }
   },
   "source": [
    "# Algorithm: Kernel Density Estimation\n",
    "\n",
    "* __Type__: Unsupervised learning (density estimation).\n",
    "* __Model family__: Non-parametric. Sum of $n$ kernels.\n",
    "* __Objective function__: Log-likelihood to choose optimal bandwidth.\n",
    "* __Optimizer__: Grid search."
   ]
  },
  {
   "cell_type": "markdown",
   "id": "81f76542",
   "metadata": {
    "slideshow": {
     "slide_type": "slide"
    }
   },
   "source": [
    "# Kernel Density Estimation: Idea\n",
    "\n",
    "Kernel density estimation (KDE) is a different approach to histogram estimation.\n",
    "* A histogram has $b$ bins of width $\\delta$ at fixed positions.\n",
    "* KDE effectively places a bin of with $\\delta$ at each $x \\in \\mathcal{X}$.\n",
    "* To obtain $P(x)$, we count the % of points that fall in the bin centered at $x$."
   ]
  },
  {
   "cell_type": "markdown",
   "id": "d0c1127a",
   "metadata": {
    "slideshow": {
     "slide_type": "slide"
    }
   },
   "source": [
    "# Tophat Kernel Density Estimation\n",
    "\n",
    "The simplest form of this strategy (Tophat KDE) assumes a model of the form\n",
    "$$P_\\delta(x) = \\frac{N(x; \\delta)}{n},$$\n",
    "where\n",
    "$$ N(x; \\delta) = |\\{x^{(i)} : ||x^{(i)} - x || \\leq \\delta/2\\}|, $$\n",
    "is the number of points that are within a bin of with $\\delta$ centered at $x$."
   ]
  },
  {
   "cell_type": "markdown",
   "id": "d1523eac",
   "metadata": {
    "slideshow": {
     "slide_type": "subslide"
    }
   },
   "source": [
    "The above algorithm still has the problem of producing a density estimate that is not smooth.\n",
    "\n",
    "We are going to resolve this by replacing histogram counts with weighted averages."
   ]
  },
  {
   "cell_type": "markdown",
   "id": "7d9b8cae",
   "metadata": {
    "slideshow": {
     "slide_type": "slide"
    }
   },
   "source": [
    "# Kernels\n",
    "\n",
    "A *kernel function* $K : \\mathcal{X} \\times \\mathcal{X} \\to [0, \\infty]$ maps pairs of vectors $x, z \\in \\mathcal{X}$ to a real-valued score $K(x,z)$.\n",
    "\n",
    "* A kernel represents the similarity between $x$ and $z$.\n",
    "* We will see many ways of defining \"similarity\"; they will all fit the framework that follows."
   ]
  },
  {
   "cell_type": "markdown",
   "id": "87ddb451",
   "metadata": {
    "slideshow": {
     "slide_type": "slide"
    }
   },
   "source": [
    "# Kernel Density Estimation\n",
    "\n",
    "A kernelized density model $P$ takes the form:\n",
    "$$P(x) \\propto \\sum_{i=1}^n K(x, x^{(i)}).$$\n",
    "This can be interpreted in several ways:\n",
    "* We count the number of points \"near\" $x$, but each $x^{(i)}$ has a weight $K(x, x^{(i)})$ that depends on similarity between $x, x^{(i)}$.\n",
    "* We place a \"micro-density\" $K(x, x^{(i)})$ at each $x^{(i)}$; the final density $P(x)$ is their sum."
   ]
  },
  {
   "cell_type": "markdown",
   "id": "04312fff",
   "metadata": {
    "slideshow": {
     "slide_type": "slide"
    }
   },
   "source": [
    "# Types of Kernels\n",
    "\n",
    "We have seen several types of kernels in the context of support vector machines.\n",
    "\n",
    "There are additional kernels that are popular for density estimation."
   ]
  },
  {
   "cell_type": "markdown",
   "id": "b71504f4",
   "metadata": {
    "slideshow": {
     "slide_type": "subslide"
    }
   },
   "source": [
    "The following kernels are available in `scikit-learn`.\n",
    "* Gaussian kernel $K(x,z; \\delta) \\propto \\exp(-||x-z||^2/2\\delta^2)$\n",
    "* Tophat kernel $K(x,z; \\delta) = 1 \\text{ if } ||x-z|| \\leq \\delta/2$ else $0$.\n",
    "* Epanechnikov kernel $K(x,z; \\delta) \\propto 1 - ||x-z||^2/\\delta^2$\n",
    "* Exponential kernel $K(x,z; \\delta) \\propto \\exp(-||x-z||/\\delta)$\n",
    "* Linear kernel $K(x,z; \\delta) \\propto (1 - ||x-z||/\\delta)^+$"
   ]
  },
  {
   "cell_type": "markdown",
   "id": "2a089648",
   "metadata": {
    "slideshow": {
     "slide_type": "slide"
    }
   },
   "source": [
    "# KDE in Higher Dimensions\n",
    "\n",
    "In priciple, kernel density estimation also works in higher dimensions.\n",
    "\n",
    "However, the number of datapoints needed for a good fit incrases expoentially with the dimension, which limits the applications of this model in high dimensions."
   ]
  },
  {
   "cell_type": "markdown",
   "id": "3ad53e09",
   "metadata": {
    "slideshow": {
     "slide_type": "slide"
    }
   },
   "source": [
    "# Choosing Hyperparameters\n",
    "\n",
    "Each kernel has a notion of \"bandwidth\" $\\delta$. This is a hyperparameter that controls the \"smoothness\" of the fit.\n",
    "* We can choose it using inspection or heuristics like we did for $K$ in $K$-Means.\n",
    "* Because we have a probabilistic model, we can also estimate likelihood on a holdout dataset (more on this later!)"
   ]
  },
  {
   "cell_type": "markdown",
   "id": "3668df1a",
   "metadata": {
    "slideshow": {
     "slide_type": "slide"
    }
   },
   "source": [
    "# Pros and Cons of KDE\n",
    "\n",
    "Pros:\n",
    "* Can approximate any data distribution arbtrarily well.\n",
    "\n",
    "Cons:\n",
    "* Need to store entire dataset to make queries, which is computationally prohibitive.\n",
    "* Number of data needed scale exponentially with dimension (\"curse of dimensionality\")."
   ]
  },
  {
   "cell_type": "markdown",
   "id": "8ca4a6f1",
   "metadata": {
    "slideshow": {
     "slide_type": "slide"
    }
   },
   "source": [
    "# Algorithm: K-Nearest Neighbors\n",
    "\n",
    "* __Type__: Supervised learning (regression and classification)\n",
    "* __Model family__: Consensus over $K$ training instances.\n",
    "* __Objective function__: Euclidean, Minkowski, Hamming, etc.\n",
    "* __Optimizer__: Non at training. Nearest neighbor search at inference using specialized search algorithms (Hashing, KD-trees).\n",
    "* __Probabilistic interpretation__: Directly approximating the density $P_\\text{data}(y|x)$."
   ]
  },
  {
   "cell_type": "markdown",
   "id": "6accc866",
   "metadata": {
    "slideshow": {
     "slide_type": "slide"
    }
   },
   "source": [
    "# A Simple Classification Algorithm: Nearest Neighbors\n",
    "\n",
    "Suppose we are given a training dataset $\\mathcal{D} = \\{(x^{(1)}, y^{(1)}), (x^{(2)}, y^{(2)}), \\ldots, (x^{(n)}, y^{(n)})\\}$. At inference time, we receive a query point $x'$ and we want to predict its label $y'$."
   ]
  },
  {
   "cell_type": "markdown",
   "id": "4b8fbe7a",
   "metadata": {
    "slideshow": {
     "slide_type": "subslide"
    }
   },
   "source": [
    "A really simple but suprisingly effective way of returning $y'$ is the *nearest neighbors* approach.\n",
    "* Given a query datapoint $x'$, find the training example $(x, y)$ in $\\mathcal{D}$ that's closest to $x'$, in the sense that $x$ is \"nearest\" to $x'$\n",
    "* Return $y$, the label of the \"nearest neighbor\" $x$."
   ]
  },
  {
   "cell_type": "markdown",
   "id": "62181ece",
   "metadata": {
    "slideshow": {
     "slide_type": "slide"
    }
   },
   "source": [
    "# Choosing a Distance Function\n",
    "\n",
    "How do we select the point $x$ that is the closest to the query point $x'$? There are many options:"
   ]
  },
  {
   "cell_type": "markdown",
   "id": "41ef49d7",
   "metadata": {
    "slideshow": {
     "slide_type": "fragment"
    }
   },
   "source": [
    "* The Euclidean distance $|| x - x' ||_2 = \\sqrt{\\sum_{j=1}^d |x_j - x'_j|^2)}$ is a popular choice."
   ]
  },
  {
   "cell_type": "markdown",
   "id": "a603a8ff",
   "metadata": {
    "slideshow": {
     "slide_type": "fragment"
    }
   },
   "source": [
    "* The Minkowski distance $|| x - x' ||_p = (\\sum_{j=1}^d |x_j - x'_j|^p)^{1/p}$ generalizes the Euclidean, L1 and other distances."
   ]
  },
  {
   "cell_type": "markdown",
   "id": "f8bf7b9d",
   "metadata": {
    "slideshow": {
     "slide_type": "slide"
    }
   },
   "source": [
    "# K-Nearest Neighbors\n",
    "\n",
    "Intuitively, we expect the true decision boundary to be smooth. Therefore, we average $K$ nearest neighbors at a query point."
   ]
  },
  {
   "cell_type": "markdown",
   "id": "8483a24d",
   "metadata": {
    "slideshow": {
     "slide_type": "fragment"
    }
   },
   "source": [
    "* Given a query datapoint $x'$, find the $K$ training examples $\\mathcal{N} = \\{(x^{(1)}, y^{(1)}), (x^{(2)}, y^{(2)}), \\ldots, (x^{(K)}, y^{(K)})\\} \\subseteq D$ that are closest to $x'$.\n",
    "* Return $y_\\mathcal{N}$, the consensus label of the neighborhood $\\mathcal{N}$.\n",
    "\n",
    "The consesus $y_\\mathcal{N}$ can be determined by voting, weighted average, etc."
   ]
  },
  {
   "cell_type": "markdown",
   "id": "0db3fa23",
   "metadata": {
    "slideshow": {
     "slide_type": "slide"
    }
   },
   "source": [
    "# KNN Estimates Data Distribution\n",
    "\n",
    "Suppose that the output $y'$ of KNN is the average target in the neighborhood $\\mathcal{N}(x')$ around the query $x'$.\n",
    "Observe that we can write:\n",
    "$$y' = \\frac{1}{K} \\sum_{(x, y) \\in \\mathcal{N}(x')} y \\approx \\mathbb{E}[y \\mid x'].$$"
   ]
  },
  {
   "cell_type": "markdown",
   "id": "3a92ad22",
   "metadata": {
    "slideshow": {
     "slide_type": "fragment"
    }
   },
   "source": [
    "* When $x \\approx x'$ and when $\\mathbb{P}$ is reasonably smooth, each $y$ for $(x,y) \\in \\mathcal{N}(x')$ is approximately a sample from $\\mathbb{P}(y\\mid x')$ (since $\\mathbb{P}$ doesn't change much around $x'$, $\\mathbb{P}(y\\mid x') \\approx \\mathbb{P}(y\\mid x)$)."
   ]
  },
  {
   "cell_type": "markdown",
   "id": "01045e96",
   "metadata": {
    "slideshow": {
     "slide_type": "fragment"
    }
   },
   "source": [
    "* Thus $y'$ is essentially a Monte Carlo estimate of $\\mathbb{E}[y \\mid x']$ (the average of $K$ samples from $\\mathbb{P}(y\\mid x')$)."
   ]
  },
  {
   "cell_type": "markdown",
   "id": "1e59dfec",
   "metadata": {
    "slideshow": {
     "slide_type": "slide"
    }
   },
   "source": [
    "# Non-Parametric Models\n",
    "\n",
    "Nearest neighbors is an example of a *non-parametric* model. Parametric vs. non-parametric are is a key distinguishing characteristic for machine learning models."
   ]
  },
  {
   "cell_type": "markdown",
   "id": "8df5343d",
   "metadata": {
    "slideshow": {
     "slide_type": "subslide"
    }
   },
   "source": [
    "A parametric model $f_\\theta(x) : \\mathcal{X} \\times \\Theta \\to \\mathcal{Y}$ is defined by a finite set of parameters $\\theta \\in \\Theta$ whose dimensionality is constant with respect to the dataset. Linear models of the form\n",
    "$$ f_\\theta(x) = \\theta^\\top x $$\n",
    "are an example of a parametric model."
   ]
  },
  {
   "cell_type": "markdown",
   "id": "4d58cc40",
   "metadata": {
    "slideshow": {
     "slide_type": "subslide"
    }
   },
   "source": [
    "In a non-parametric model, the function $f$ uses the entire training dataset (or a post-proccessed version of it) to make predictions, as in $K$-Nearest Neighbors. \n",
    "\n",
    "In other words, the complexity of the model increases with dataset size."
   ]
  },
  {
   "cell_type": "markdown",
   "id": "52021394",
   "metadata": {
    "slideshow": {
     "slide_type": "subslide"
    }
   },
   "source": [
    "Non-parametric models have the advantage of not loosing any information at training time.\n",
    "\n",
    "However, they are also computationally less tractable and may easily overfit the training set."
   ]
  },
  {
   "cell_type": "markdown",
   "id": "00cf4ab6",
   "metadata": {
    "slideshow": {
     "slide_type": "slide"
    }
   },
   "source": [
    "# Pros and Cons of KNN\n",
    "\n",
    "Pros:\n",
    "* Can approximate any data distribution arbtrarily well.\n",
    "\n",
    "Cons:\n",
    "* Need to store entire dataset to make queries, which is computationally prohibitive.\n",
    "* Number of data needed scale exponentially with dimension (\"curse of dimensionality\")."
   ]
  },
  {
   "cell_type": "markdown",
   "id": "31e5820e",
   "metadata": {
    "colab_type": "text",
    "id": "i_f5u2x9nn6I",
    "slideshow": {
     "slide_type": "slide"
    }
   },
   "source": [
    "<left><img width=25% src=\"img/cornell_tech2.svg\"></left>\n",
    "\n",
    "# Lecture 10: Clustering\n",
    "\n",
    "### Applied Machine Learning\n",
    "\n",
    "__Volodymyr Kuleshov__<br>Cornell Tech"
   ]
  },
  {
   "cell_type": "markdown",
   "id": "a39e50aa",
   "metadata": {
    "slideshow": {
     "slide_type": "slide"
    }
   },
   "source": [
    "# Gaussian Mixture Models\n",
    "\n",
    "Gaussian mixtures define a model of the form:\n",
    "$$P_\\theta (x,z) = P_\\theta (x | z) P_\\theta (z)$$\n",
    "* $z \\in \\mathcal{Z} = \\{1,2,\\ldots,K\\}$ is discrete and follows a categorical distribution $P_\\theta(z=k) = \\phi_k$.\n",
    "* $x \\in \\mathbb{R}$ is continuous; conditioned on $z=k$, it follows a Normal distribution $P_\\theta(x | z=k) = \\mathcal{N}(\\mu_k, \\Sigma_k)$.\n",
    "\n",
    "The parameters $\\theta$ are the $\\mu_k, \\Sigma_k, \\phi_k$ for all $k=1,2,\\ldots,K$."
   ]
  },
  {
   "cell_type": "markdown",
   "id": "767813ac",
   "metadata": {
    "slideshow": {
     "slide_type": "slide"
    }
   },
   "source": [
    "# Gaussian Mixtures for Clustering\n",
    "\n",
    "GMMs are useful for supervised *and* unsupervised learning (clustering):\n",
    "$$P_\\theta (x,z) = P_\\theta (x | z) P_\\theta (z)$$\n",
    "* This model postulates that our observed data is comprised of  $K$ clusters with proportions specified by $\\phi_1,\\phi_2, \\ldots, \\phi_K$\n",
    "* The points within each cluster follow a Normal distribution\n",
    "* Each point belongs to the cluster most likely to have generated it (according to $P_\\theta(x|z=k)P_\\theta(z=k)$)"
   ]
  },
  {
   "cell_type": "markdown",
   "id": "847e2d66",
   "metadata": {
    "slideshow": {
     "slide_type": "subslide"
    }
   },
   "source": [
    "Intuitively, a GMM represents well the two clusters in the geyser dataset:\n",
    "\n",
    "Raw data | Single Gaussian | Mixture of Gaussians\n",
    "--|--|---\n",
    "<img width=90% src=\"img/oldfaithful_v2.png\"> | <img width=90% src=\"img/oldfSingle_v2.png\"> | <img width=90% src=\"img/oldfMOG_v2.png\">"
   ]
  },
  {
   "cell_type": "markdown",
   "id": "a6f8b221",
   "metadata": {
    "slideshow": {
     "slide_type": "slide"
    }
   },
   "source": [
    "# Maximum Marginal Likelihood Learning\n",
    "\n",
    "Maximum marginal (log-)likelihood is a way of learning any proabilistic model on an unsupervised dataset $\\mathcal{D}$ by maximizing:\n",
    "$$\n",
    "\\frac{1}{n}\\sum_{i=1}^n \\log P_\\theta({x}^{(i)}) = \\frac{1}{n}\\sum_{i=1}^n \\log \\left(\\sum_{z \\in \\mathcal{Z}} P_\\theta({x}^{(i)}, z)\\right).\n",
    "$$"
   ]
  },
  {
   "cell_type": "markdown",
   "id": "47ecce5d",
   "metadata": {
    "slideshow": {
     "slide_type": "fragment"
    }
   },
   "source": [
    "* This asks $P_\\theta$ to assign a high probability to the training data in $\\mathcal{D}$. \n",
    "* However, we need to use $P(x) = \\sum_{z \\in \\mathcal{Z}} P(x,z)$ to compute this probability because $z$ is not observed."
   ]
  },
  {
   "cell_type": "markdown",
   "id": "ee838b00",
   "metadata": {
    "slideshow": {
     "slide_type": "slide"
    }
   },
   "source": [
    "# Optimizing Marginal Likelihood\n",
    "\n",
    "How do we optimize the marginal likelihood objective?\n",
    "$$\\max_\\theta \\frac{1}{n}\\sum_{i=1}^n \\log \\left(\\sum_{z \\in \\mathcal{Z}} P_\\theta({x}^{(i)}, z)\\right)$$"
   ]
  },
  {
   "cell_type": "markdown",
   "id": "b4738d81",
   "metadata": {
    "slideshow": {
     "slide_type": "fragment"
    }
   },
   "source": [
    "* Note that we can't flip the sum and the log!\n",
    "* Because of that, our closed-form solutions don't apply\n",
    "* In fact, the objective now has many local minima!"
   ]
  },
  {
   "cell_type": "markdown",
   "id": "2756506b",
   "metadata": {
    "slideshow": {
     "slide_type": "subslide"
    }
   },
   "source": [
    "Optimizing the likelihood of mixture models is hard. \n",
    "\n",
    "A Gaussian has a single maximum, but a mixture has many and its objective is non-convex (hard to optimize).\n",
    "\n",
    "<center><img width=50% src=\"img/mogdensity1d_v2.png\"></center>"
   ]
  },
  {
   "cell_type": "markdown",
   "id": "c3ed20c9",
   "metadata": {
    "slideshow": {
     "slide_type": "slide"
    }
   },
   "source": [
    "# Recovering Clusters from GMMs\n",
    "\n",
    "Given a trained model $P_\\theta (x,z) = P_\\theta (x | z) P_\\theta (z)$, we can look at the *posterior* probability\n",
    "$$P_\\theta(z = k\\mid x) = \\frac{P_\\theta(z=k, x)}{P_\\theta(x)} = \\frac{P_\\theta(x | z=k) P_\\theta(z=k)}{\\sum_{l=1}^K P_\\theta(x | z=l) P_\\theta(z=l)}$$\n",
    "of a point $x$ belonging to class $k$."
   ]
  },
  {
   "cell_type": "markdown",
   "id": "1e63528e",
   "metadata": {
    "slideshow": {
     "slide_type": "fragment"
    }
   },
   "source": [
    "* The posterior defines a \"soft\" assignment of $x$ to each class.\n",
    "* This is in contrast to the hard assignments from $K$-Means."
   ]
  },
  {
   "cell_type": "markdown",
   "id": "c83ea800",
   "metadata": {
    "slideshow": {
     "slide_type": "fragment"
    }
   },
   "source": [
    "* Unlike in supervised learning, cluster assignments are latent.\n",
    "* Hence, there is not a closed form solution for $\\theta$. \n",
    "* We will see specialized algorithm for this task."
   ]
  },
  {
   "cell_type": "markdown",
   "id": "7fe4330e",
   "metadata": {
    "slideshow": {
     "slide_type": "slide"
    }
   },
   "source": [
    "# Expectation Maximization: Intuition\n",
    "\n",
    "Expecation maximization (EM) is an algorithm for maximizing marginal log-likelihood \n",
    "$$\\max_\\theta \\sum_{x^{(i)}\\in \\mathcal{D}} \\log \\left( \\sum_{z \\in \\mathcal{Z}}P_\\theta(x^{(i)}, z) \\right)$$\n",
    "that can also be used to learn Gaussian mixtures."
   ]
  },
  {
   "cell_type": "markdown",
   "id": "cbb51a4b",
   "metadata": {
    "slideshow": {
     "slide_type": "subslide"
    }
   },
   "source": [
    "We want to optimize the marginal log-likelihood\n",
    "$$\\max_\\theta \\sum_{x^{(i)}\\in \\mathcal{D}} \\log \\left( \\sum_{z \\in \\mathcal{Z}}P_\\theta(x^{(i)}, z) \\right).$$\n",
    "* If we know the true $z^{(i)}$ for each $x^{(i)}$, we maximize\n",
    "$$\\max_\\theta \\sum_{x^{(i)}, z^{(i)}\\in \\mathcal{D}} \\log \\left( P_\\theta(x^{(i)}, z^{(i)}) \\right).$$\n",
    "and it's easy to find the best $\\theta$ (use solution for supervised learning).\n",
    "* If we know $\\theta$, we can estimate the cluster assignments $z^{(i)}$ for each $i$ by computing $P_\\theta(z | x^{(i)})$."
   ]
  },
  {
   "cell_type": "markdown",
   "id": "9d000f77",
   "metadata": {
    "slideshow": {
     "slide_type": "subslide"
    }
   },
   "source": [
    "Expectation maximization alternates between these two steps.\n",
    "\n",
    "1. (__E-Step__) Given an estimate $\\theta_t$ of the weights, compute $P_\\theta(z | x^{(i)})$.\n",
    "and use it to “hallucinate” expected cluster assignments $z^{(i)}$.\n",
    "2. (__M-Step__) Find a new $\\theta_{t+1}$ that maximizes the marginal log-likelihood by optimizing $P_\\theta(x^{(i)}, z^{(i)})$ given the $z^{(i)}$ from step 1.\n",
    "\n",
    "This process increases the marginal likelihood at each step and eventually converges."
   ]
  },
  {
   "cell_type": "markdown",
   "id": "093dadd3",
   "metadata": {
    "slideshow": {
     "slide_type": "slide"
    }
   },
   "source": [
    "# Expectation Maximization: Definition\n",
    "\n",
    "Formally, EM learns the parameters $\\theta$ of a latent-variable model $P_\\theta(x,z)$ over a dataset $\\mathcal{D} = \\{x^{(i)} \\mid i = 1,2,...,n\\}$ as follows.\n",
    "\n",
    "For $t=0,1,2,\\ldots$, repeat until convergence:\n",
    "1. (__E-Step__) For each $x^{(i)} \\in \\mathcal{D}$ compute $P_{\\theta_t}(z|x^{(i)})$\n",
    "2. (__M-Step__) Compute new weights $\\theta_{t+1}$ as\n",
    "\\begin{align*}\n",
    "\\theta_{t+1} & = \\arg\\max_{\\theta} \\sum_{i=1}^n \\mathbb{E}_{z^{(i)} \\sim P_{\\theta_t}(z|x^{(i)})} \\log P_{\\theta}(x^{(i)}, z^{(i)})\n",
    "\\end{align*}\n",
    "\n",
    "Since assignments $P_{\\theta_t}(z|x^{(i)})$ are \"soft\", M-step involves an expectation."
   ]
  },
  {
   "cell_type": "markdown",
   "id": "2b92e99a",
   "metadata": {
    "slideshow": {
     "slide_type": "skip"
    }
   },
   "source": [
    "# Expectation Maximization: Definition\n",
    "\n",
    "Formally, EM learns the parameters $\\theta$ of a latent-variable model $P_\\theta(x,z)$ over a dataset $\\mathcal{D} = \\{x^{(i)} \\mid i = 1,2,...,n\\}$ as follows.\n",
    "\n",
    "For $t=0,1,2,\\ldots$, repeat until convergence:\n",
    "1. (__E-Step__) For each $x^{(i)} \\in \\mathcal{D}$ compute $P_{\\theta_t}(z|x^{(i)})$\n",
    "2. (__M-Step__) Compute new weights $\\theta_{t+1}$ as\n",
    "\\begin{align*}\n",
    "\\theta_{t+1} & = \\arg\\max_{\\theta} \\sum_{i=1}^n \\mathbb{E}_{z^{(i)} \\sim P_{\\theta_t}(z|x^{(i)})} \\log P_{\\theta}(x^{(i)}, z^{(i)}) \\\\\n",
    "& = \\arg\\max_{\\theta} \\sum_{i=1}^n \\sum_{k=1}^K P_{\\theta_t}(z=k|x^{(i)}) \\log P_{\\theta}(x^{(i)}, z=k)\n",
    "\\end{align*}"
   ]
  },
  {
   "cell_type": "markdown",
   "id": "003ee9de",
   "metadata": {
    "slideshow": {
     "slide_type": "slide"
    }
   },
   "source": [
    "# Understanding the E-Step\n",
    "\n",
    "Intuitively, we hallucinate $z^{(i)}$ in the E-Step. \n",
    "\n",
    "In practice, the $P_{\\theta_t}(z|x^{(i)})$ define \"soft\" assignments, and we compute a vector of class probabilities for each $x^{(i)}$.\n",
    "<!-- * The $P_{\\theta_t}(z|x^{(i)})$ define \"soft\" assignments, and we compute a vector of class probabilities for each $x^{(i)}$.\n",
    "* We compute an expected values over $z^{(i)}$ instead of hallucinating one value. -->"
   ]
  },
  {
   "cell_type": "markdown",
   "id": "64c9643d",
   "metadata": {
    "slideshow": {
     "slide_type": "slide"
    }
   },
   "source": [
    "# Understanding the M-Step\n",
    "\n",
    "Since class assignments from E-step are probabilistic, we maximize an expectation:\n",
    "\\begin{align*}\n",
    "\\theta_{t+1} & = \\arg\\max_{\\theta} \\sum_{i=1}^n \\mathbb{E}_{z^{(i)} \\sim P_{\\theta_t}(z|x^{(i)})} \\log P_{\\theta}(x^{(i)}, z^{(i)}) \\\\\n",
    "& = \\arg\\max_{\\theta} \\sum_{i=1}^n \\sum_{k=1}^K P_{\\theta_t}(z=k|x^{(i)}) \\log P_{\\theta}(x^{(i)}, z=k)\n",
    "\\end{align*}\n",
    "For many interesting models, this is tractable."
   ]
  },
  {
   "cell_type": "markdown",
   "id": "4c6c5759",
   "metadata": {
    "slideshow": {
     "slide_type": "slide"
    }
   },
   "source": [
    "# Pros and Cons of EM\n",
    "\n",
    "EM is a very important optimization algorithm in machine learning.\n",
    "* It is easy to implement and is guaranteed to converge.\n",
    "* It works in a lot of imporant ML models.\n",
    "\n",
    "Its limitations include:\n",
    "* It can get stuck in local optima.\n",
    "* We may not be able to compute $P_{\\theta_t}(z|x^{(i)})$ in every model."
   ]
  },
  {
   "cell_type": "markdown",
   "id": "7d03300d",
   "metadata": {
    "slideshow": {
     "slide_type": "slide"
    }
   },
   "source": [
    "# Deriving the E-Step\n",
    "\n",
    "In the E-step, we compute the posterior for each data point $x$ as follows\n",
    " $$P_\\theta(z = k\\mid x) = \\frac{P_\\theta(z=k, x)}{P_\\theta(x)} = \\frac{P_\\theta(x | z=k) P_\\theta(z=k)}{\\sum_{l=1}^K P_\\theta(x | z=l) P_\\theta(z=l)}$$\n",
    "$P_\\theta(z\\mid x)$ defines a vector of probabilities that $x$ originates from component $k$ given the current set of parameters $\\theta$"
   ]
  },
  {
   "cell_type": "markdown",
   "id": "1a333ec2",
   "metadata": {
    "slideshow": {
     "slide_type": "slide"
    }
   },
   "source": [
    "# Deriving the M-Step\n",
    "\n",
    "At the M-step, we optimize the expected log-likelihood of our model.\n",
    "\n",
    "\\begin{align*}\n",
    "&\\max_\\theta \\sum_{x \\in D} \\mathbb{E}_{z \\sim P_{\\theta_t}(z|x)} \\log P_\\theta(x,z) = \\\\\n",
    "& \\max_\\theta \\left( \\sum_{k=1}^K \\sum_{x \\in D} P_{\\theta_t}(z_k|x) \\log P_\\theta(x|z_k) + \\sum_{k=1}^K \\sum_{x \\in D} P_{\\theta_t}(z_k|x) \\log P_\\theta(z_k) \\right)\n",
    "\\end{align*}\n",
    "\n",
    "As in supervised learning, we can optimize the two terms above separately."
   ]
  },
  {
   "cell_type": "markdown",
   "id": "af5cf665",
   "metadata": {
    "slideshow": {
     "slide_type": "slide"
    }
   },
   "source": [
    "We will start with $P_\\theta(x\\mid z=k) = \\mathcal{N}(x; \\mu_k, \\Sigma_k)$. We have to find $\\mu_k, \\Sigma_k$ that optimize\n",
    "$$\n",
    "\\max_\\theta \\sum_{x^{(i)} \\in D} P(z=k|x^{(i)}) \\log P_\\theta(x^{(i)}|z=k)\n",
    "$$\n",
    "Note that this corresponds to fitting a Gaussian to a dataset whose elements $x^{(i)}$ each have a weight $P(z=k|x^{(i)})$."
   ]
  },
  {
   "cell_type": "markdown",
   "id": "6b6d294d",
   "metadata": {
    "slideshow": {
     "slide_type": "subslide"
    }
   },
   "source": [
    "Similarly to how we did this the supervised regime, we compute the derivative, set it to zero, and obtain closed form solutions:\n",
    "\\begin{align*}\n",
    "\\mu_k & = \\frac{\\sum_{i=1}^n P(z=k|x^{(i)}) x^{(i)}}{n_k} \\\\\n",
    "\\Sigma_k & = \\frac{\\sum_{i=1}^n P(z=k|x^{(i)}) (x^{(i)} - \\mu_k)(x^{(i)} - \\mu_k)^\\top}{n_k} \\\\\n",
    "n_k & = \\sum_{i=1}^n P(z=k|x^{(i)}) \\\\\n",
    "\\end{align*}\n",
    "Intuitively, the optimal mean and covariance are the emprical mean and convaraince of the dataset $\\mathcal{D}$ when each element $x^{(i)}$ has a weight $P(z=k|x^{(i)})$."
   ]
  },
  {
   "cell_type": "markdown",
   "id": "3de22153",
   "metadata": {
    "slideshow": {
     "slide_type": "subslide"
    }
   },
   "source": [
    "Similarly, we can show that the class priors are\n",
    "\\begin{align*}\n",
    "\\phi_k & = \\frac{n_k}{n} \\\\\n",
    "n_k & = \\sum_{i=1}^n P(z=k|x^{(i)})\n",
    "\\end{align*}"
   ]
  },
  {
   "cell_type": "markdown",
   "id": "92fa8ea5",
   "metadata": {
    "slideshow": {
     "slide_type": "slide"
    }
   },
   "source": [
    "# EM in Gaussian Mixture Models\n",
    "\n",
    "EM learns the parameters $\\theta$ of a Gaussian mixture model $P_\\theta(x,z)$ over a dataset $\\mathcal{D} = \\{x^{(i)} \\mid i = 1,2,...,n\\}$ as follows.\n",
    "\n",
    "For $t=0,1,2,\\ldots$, repeat until convergence:\n",
    "1. (__E-Step__) For each $x^{(i)} \\in \\mathcal{D}$ compute $P_{\\theta_t}(z|x^{(i)})$\n",
    "2. (__M-Step__) Compute parameters $\\mu_k, \\Sigma_k, \\phi_k$ using the above formulas"
   ]
  },
  {
   "cell_type": "markdown",
   "id": "b434f64a",
   "metadata": {
    "slideshow": {
     "slide_type": "slide"
    }
   },
   "source": [
    "# Measuring Generalization Using Log-Likelihood\n",
    "\n",
    "Probabilistic unsupervised models optimize an objective that can be used to detect overfitting and underfitting by comparing performance between training and holdout sets."
   ]
  },
  {
   "cell_type": "markdown",
   "id": "50d79eaf",
   "metadata": {
    "slideshow": {
     "slide_type": "subslide"
    }
   },
   "source": [
    "Below, we visualize the performance (measured via negative log-likelihood) on training and holdout sets as $K$ increases.\n",
    "* Generalization is important for supervised and unsupervised learning.\n",
    "* A probabilistic model can detect overfitting by comparing the likelihood of training data vs. that of holdout data.\n",
    "* We can reduce overfitting by making the model less expressive."
   ]
  },
  {
   "cell_type": "markdown",
   "id": "f9547503",
   "metadata": {
    "colab_type": "text",
    "id": "i_f5u2x9nn6I",
    "slideshow": {
     "slide_type": "slide"
    }
   },
   "source": [
    "<left><img width=25% src=\"img/cornell_tech2.svg\"></left>\n",
    "\n",
    "# Lecture 11: Dimensionality Reduction\n",
    "\n",
    "### Applied Machine Learning\n",
    "\n",
    "__Volodymyr Kuleshov__<br>Cornell Tech"
   ]
  },
  {
   "cell_type": "markdown",
   "id": "af5c5e32",
   "metadata": {
    "slideshow": {
     "slide_type": "slide"
    }
   },
   "source": [
    "# Dimensionality Reduction:  Examples\n",
    "\n",
    "Consider a dataset $\\mathcal{D} = \\{x^{(i)} \\mid i = 1,2,...,n\\}$ of motorcylces, characterized by a set of attributes.\n",
    "* Attributes include size, color, maximum speed, etc.\n",
    "* Suppose that two attributes are closely correlated: e.g., $x^{(i)}_j$ is the speed in `mph` and $x^{(i)}_k$ is the speed in `km/h`.\n",
    "* The real dimensionality of the data is $d-1$!\n",
    "\n",
    "We would like to automatically identify the right data dimensionality."
   ]
  },
  {
   "cell_type": "markdown",
   "id": "9ef7ab7c",
   "metadata": {
    "slideshow": {
     "slide_type": "slide"
    }
   },
   "source": [
    "# Dimensionality Reduction\n",
    "\n",
    "More generally, a dimensionality reduction algorithm learns from data an unsupervised model\n",
    "$$f_\\theta : \\mathcal{X} \\to \\mathcal{Z},$$\n",
    "where $\\mathcal{Z}$ is a low-dimensional representation of the data.\n",
    "\n",
    "For each input $x^{(i)}$, $f_\\theta$ computes a low-dimensional representation $z^{(i)}$."
   ]
  },
  {
   "cell_type": "markdown",
   "id": "4e8ccdcf",
   "metadata": {
    "slideshow": {
     "slide_type": "slide"
    }
   },
   "source": [
    "# Linear Dimensionality Reduction\n",
    "\n",
    "Suppose $\\mathcal{X} = \\mathbb{R}^d$ and $\\mathcal{Z} = \\mathbb{R}^p$ for some $p < d$. The transformation \n",
    "$$f_\\theta : \\mathcal{X} \\to \\mathcal{Z}$$\n",
    "is a linear function with parameters $\\theta = W \\in \\mathbb{R}^{d \\times p}$:\n",
    "$$ z = f_\\theta(x) = W^\\top \\cdot x. $$\n",
    "The latent dimension $z$ is obtained from $x$ via a matrix $W$."
   ]
  },
  {
   "cell_type": "markdown",
   "id": "53d493a2",
   "metadata": {
    "slideshow": {
     "slide_type": "slide"
    }
   },
   "source": [
    "# Algorithm: Principal Component Analysis\n",
    "\n",
    "* __Type__: Unsupervised learning (dimensionality reduction)\n",
    "* __Model family__: Linear projection $W^\\top z$ of low-dimensional $z$\n",
    "* __Objective function__: Reconstruction error or variance maximization\n",
    "* __Optimizer__: Matrix eigendecomposition"
   ]
  },
  {
   "cell_type": "markdown",
   "id": "8abaaf31",
   "metadata": {
    "slideshow": {
     "slide_type": "slide"
    }
   },
   "source": [
    "# Principal Components Model\n",
    "\n",
    "Principal component analysis (PCA) assumes that \n",
    "* Datapoints $x \\in \\mathbb{R}^{d}$ live close to a low-dimensional subspace $\\mathcal{Z} = \\mathbb{R}^p$ of dimension $p<d$\n",
    "* The subspace $\\mathcal{Z} = \\mathbb{R}^p$ is spanned by a set of orthonormal vectors $w^{(1)}, w^{(2)}, \\ldots, w^{(p)}$\n",
    "* The data $x$ are approximated by a linear combination $\\tilde x$ of the $w^{(k)}$\n",
    "$$ x \\approx \\tilde x = \\sum_{k=1}^p w^{(k)} z_k = W z $$\n",
    "for some $z \\in \\mathcal{X}$ that are the coordinates of $\\tilde x$ in the basis $W$."
   ]
  },
  {
   "cell_type": "markdown",
   "id": "df16a96f",
   "metadata": {
    "slideshow": {
     "slide_type": "subslide"
    }
   },
   "source": [
    "In this example, the data lives in a lower-dimensional 2D plane within a 3D space (image [credit](https://doc.plob.org/machine_learning/14_Dimensionality_Reduction.html)).\n",
    "\n",
    "<center><img width=50% src=\"img/pca_example_plane.png\"></center>"
   ]
  },
  {
   "cell_type": "markdown",
   "id": "a74f93b3",
   "metadata": {
    "slideshow": {
     "slide_type": "subslide"
    }
   },
   "source": [
    "The model for PCA is a function $f_\\theta$ of the form\n",
    "$$ z = f_\\theta(x) = W^\\top x, $$\n",
    "where $\\theta = W$ and $W$ is a $d \\times p$ matrix of $p$ orthonormal column vectors denoted as $w^{(1)}, w^{(2)}, \\ldots, w^{(p)}$."
   ]
  },
  {
   "cell_type": "markdown",
   "id": "2c1c3db5",
   "metadata": {
    "slideshow": {
     "slide_type": "fragment"
    }
   },
   "source": [
    "This model enables performing two tasks:\n",
    "* __Encoding__: $z = W^\\top x$, finding the low-dimensional form of input $x$\n",
    "* __Decoding__: $\\tilde x = W  z$, converting a low-dimensional $z$ to a high-dimensional representation $x$"
   ]
  },
  {
   "cell_type": "markdown",
   "id": "624daa30",
   "metadata": {
    "slideshow": {
     "slide_type": "slide"
    }
   },
   "source": [
    "# PCA Objective: Reconstruction\n",
    "\n",
    "How do we find a good subpace $\\mathcal{Z}$ as defined by a set of orthonormal vectors $W$?"
   ]
  },
  {
   "cell_type": "markdown",
   "id": "46860db8",
   "metadata": {
    "slideshow": {
     "slide_type": "fragment"
    }
   },
   "source": [
    "A natural objective is to minimize the reconstruction error\n",
    "$$J_1(W) = \\sum_{i=1}^n \\| x^{(i)} - \\tilde x^{(i)} \\|_2^2 =\\sum_{i=1}^n \\| x^{(i)} - W W^\\top x^{(i)} \\|_2^2$$\n",
    "between each input $x^{(i)}$ and its approximate reconstruction $$\\tilde x^{(i)} = W \\cdot z^{(i)} = W\\cdot W^\\top \\cdot x^{(i)}.$$"
   ]
  },
  {
   "cell_type": "markdown",
   "id": "3d67a3c8",
   "metadata": {
    "slideshow": {
     "slide_type": "subslide"
    }
   },
   "source": [
    "In this example, if the points don't lie perfectly on a plane, we choose the plane such that the points' distance to it is minimized (image [credit](https://doc.plob.org/machine_learning/14_Dimensionality_Reduction.html)).\n",
    "\n",
    "<center><img width=80% src=\"img/pca_example.png\"></center>"
   ]
  },
  {
   "cell_type": "markdown",
   "id": "14387a0b",
   "metadata": {
    "slideshow": {
     "slide_type": "slide"
    }
   },
   "source": [
    "# PCA Objective: Maximizing Variance\n",
    "\n",
    "An alternative objective for learning a PCA model is maximizing variance. "
   ]
  },
  {
   "cell_type": "markdown",
   "id": "056e6873",
   "metadata": {
    "slideshow": {
     "slide_type": "subslide"
    }
   },
   "source": [
    "How do we automatically identify such natural directions of variation in the data?\n",
    "One way to reduce the dimensionality of this dataset from is to project it along the following line.\n",
    "<center><img width=50% src=\"img/pca_projection1.png\"></center>\n",
    "Projected data is tightly clustered around its mean. It has *low variance*."
   ]
  },
  {
   "cell_type": "markdown",
   "id": "696a8b35",
   "metadata": {
    "slideshow": {
     "slide_type": "subslide"
    }
   },
   "source": [
    "An alternative projection is along the following line. Data is much more spread out: it has *high variance* around its mean.\n",
    "<center><img width=50% src=\"img/pca_projection2.png\"></center>\n",
    "Our goal is to identify this direction automatically."
   ]
  },
  {
   "cell_type": "markdown",
   "id": "6f02d258",
   "metadata": {
    "slideshow": {
     "slide_type": "subslide"
    }
   },
   "source": [
    "We may formalize this as follows. \n",
    "* Let $\\hat{\\mathbb{E}}[f(x)]$ denote empirical expectation for any $f$:\n",
    "$$\\hat{\\mathbb{E}}[f(x)] = \\frac{1}{n}\\sum_{i=1}^n f(x^{(i)}). $$"
   ]
  },
  {
   "cell_type": "markdown",
   "id": "9e19e85a",
   "metadata": {
    "slideshow": {
     "slide_type": "fragment"
    }
   },
   "source": [
    "* Assume that we have centered the data, i.e.\n",
    "$$\\hat{\\mathbb{E}}[x] = 0 \\text{ and thus } \\hat{\\mathbb{E}}[W^\\top x] = W^\\top \\hat{\\mathbb{E}}[x] = 0.$$\n",
    "<!-- $$\\frac{1}{n}\\sum_{i=1}^n x^{(i)} = 0 \\text{ and thus } \\frac{1}{n}\\sum_{i=1}^n W^\\top x^{(i)} = 0.$$ -->"
   ]
  },
  {
   "cell_type": "markdown",
   "id": "5692b2ef",
   "metadata": {
    "slideshow": {
     "slide_type": "fragment"
    }
   },
   "source": [
    "* The the variance of the projected data is\n",
    "\\begin{align*}\n",
    "\\hat{\\mathbb{E}}\\left[ \\| z - \\hat{\\mathbb{E}}[z] \\|^2 \\right] =\n",
    "\\hat{\\mathbb{E}}\\left[ \\| W^\\top x - \\hat{\\mathbb{E}}[W^\\top x] \\|^2 \\right] \n",
    "& = \\hat{\\mathbb{E}}\\left[ \\| W^\\top x \\|^2 \\right]\n",
    "\\end{align*}\n",
    "<!-- \\begin{align*}\n",
    "\\frac{1}{n} \\sum_{i=1}^n \\| W^\\top x^{(i)} - \\frac{1}{n}\\sum_{i=1}^n x^{(i)} \\|_2^2\n",
    "& = \\frac{1}{n} \\sum_{i=1}^n \\| W^\\top x^{(i)}\\|_2^2\n",
    "\\end{align*} -->"
   ]
  },
  {
   "cell_type": "markdown",
   "id": "e0a6a2eb",
   "metadata": {
    "slideshow": {
     "slide_type": "subslide"
    }
   },
   "source": [
    "Thus, the variance objective is simply\n",
    "$$J_2(W) = \\hat{\\mathbb{E}}\\left[ \\| W^\\top x \\|^2 \\right] = \\frac{1}{n} \\sum_{i=1}^n \\| W^\\top x^{(i)}\\|_2^2.$$"
   ]
  },
  {
   "cell_type": "markdown",
   "id": "aa16a161",
   "metadata": {
    "slideshow": {
     "slide_type": "subslide"
    }
   },
   "source": [
    "# Equivalence Between PCA Objectives\n",
    "\n",
    "It turns out that minimizing reconstruction error and maximizing variance are equivalent.\n",
    "$$\\arg\\min_W J_1(W) = \\arg\\max_W J_2(W).$$"
   ]
  },
  {
   "cell_type": "markdown",
   "id": "7576b124",
   "metadata": {
    "slideshow": {
     "slide_type": "subslide"
    }
   },
   "source": [
    "This image by [Alex Williams](http://alexhwilliams.info/itsneuronalblog/2016/03/27/pca/) provides intuition.\n",
    "\n",
    "<center><img width=80% src=\"img/pca_two_views.png\"></center>"
   ]
  },
  {
   "cell_type": "markdown",
   "id": "da20c1d1",
   "metadata": {
    "slideshow": {
     "slide_type": "slide"
    }
   },
   "source": [
    "# Pros and Cons of PCA\n",
    "\n",
    "PCA is perhaps the most widely used dimensionality reduction algorithm.\n",
    "* It is both highly intuitive and effective\n",
    "* It is also fast and easy to implement\n",
    "\n",
    "Its limitations include:\n",
    "* Linear projections may be too limited in some applications\n",
    "* Choosing the right dimension $p$ can be somewhat of an art"
   ]
  }
 ],
 "metadata": {
  "kernelspec": {
   "display_name": "Python 3",
   "language": "python",
   "name": "python3"
  },
  "language_info": {
   "codemirror_mode": {
    "name": "ipython",
    "version": 3
   },
   "file_extension": ".py",
   "mimetype": "text/x-python",
   "name": "python",
   "nbconvert_exporter": "python",
   "pygments_lexer": "ipython3",
   "version": "3.8.8"
  }
 },
 "nbformat": 4,
 "nbformat_minor": 5
}
